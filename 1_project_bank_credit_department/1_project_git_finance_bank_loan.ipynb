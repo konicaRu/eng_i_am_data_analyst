{
 "cells": [
  {
   "cell_type": "markdown",
   "metadata": {},
   "source": [
    "## Исследование надёжности заёмщиков\n",
    "\n",
    "Для кредитный отдел банка нужно понять, влияет ли семейное положение и количество детей клиента на факт погашения кредита в срок. В качестве исходных данных от банка статистика о платёжеспособности клиентов.\n",
    "\n",
    "На основании исследования будет построена которая оценивает способность потенциального заёмщика вернуть кредит банку. И приведет к уменщению невозвратов кредитов. \n",
    "\n",
    "\n",
    "#### Описание данных\n",
    "\n",
    "- children — количество детей в семье\n",
    "- days_employed — общий трудовой стаж в днях\n",
    "- dob_years — возраст клиента в годах\n",
    "- education — уровень образования клиента\n",
    "- education_id — идентификатор уровня образования\n",
    "- family_status — семейное положение\n",
    "- family_status_id — идентификатор семейного положения\n",
    "- gender — пол клиента\n",
    "- income_type — тип занятости\n",
    "- debt — имел ли задолженность по возврату кредитов\n",
    "- total_income — ежемесячный доход\n",
    "- purpose — цель получения кредита"
   ]
  },
  {
   "cell_type": "markdown",
   "metadata": {},
   "source": [
    "### Шаг 1. Откройте файл с данными и изучите общую информацию. "
   ]
  },
  {
   "cell_type": "code",
   "execution_count": 4,
   "metadata": {},
   "outputs": [],
   "source": [
    "import pandas as pd\n",
    "from IPython.display import display\n",
    "from pymystem3 import Mystem\n",
    "from collections import Counter\n",
    "import os\n",
    "#1_р_data.csv\n",
    "#data = pd.read_csv('/datasets/data.csv')\n",
    "\n",
    "#print(data.head()) #смотрим голову\n",
    "#print('_____________________')\n",
    "#print(data.tail(5)) # смотрим хвостъ\n",
    "#print(data.info()) # смотрим инфу о элементах\n",
    "#print(data.columns) # смотрим заголовки столбцов на пробелы\n",
    "#print(data.isnull().sum()) # смотрим количество пропушенных значений и где они находятся\n",
    "#print(data.isna().sum()) # тоже смотрим количество пропушенных значений и где они находятся\n",
    "# посмотреть всю базу целиком"
   ]
  },
  {
   "cell_type": "code",
   "execution_count": 5,
   "metadata": {},
   "outputs": [
    {
     "data": {
      "text/plain": [
       "'/home/user-0-13339652/work'"
      ]
     },
     "execution_count": 5,
     "metadata": {},
     "output_type": "execute_result"
    }
   ],
   "source": [
    "os.getcwd()"
   ]
  },
  {
   "cell_type": "code",
   "execution_count": 6,
   "metadata": {},
   "outputs": [],
   "source": [
    "data = pd.read_csv('/datasets/data.csv')"
   ]
  },
  {
   "cell_type": "markdown",
   "metadata": {},
   "source": [
    "### Вывод"
   ]
  },
  {
   "cell_type": "markdown",
   "metadata": {},
   "source": [
    "Обнаружены пропуски в столбцах days_employed и total_income, их количества равны.  Возможно люди никогда не работали и на получали доход. Но это вывод предварительный далее оценим эту мысль точнее \n",
    "В столбцах days_employed и total_income содержаться данные вещественного типа (float), а должны быть целочисленные тк врядли зарплата указывается до ста тысячных долей рубля и отработанные дни тоже"
   ]
  },
  {
   "cell_type": "markdown",
   "metadata": {},
   "source": [
    "### Шаг 2. Предобработка данных"
   ]
  },
  {
   "cell_type": "markdown",
   "metadata": {},
   "source": [
    "### Обработка пропусков"
   ]
  },
  {
   "cell_type": "markdown",
   "metadata": {},
   "source": [
    "#### Отсортируем значения чтобы посмотреть позиции содержащие пропуски сортируем столбец по убыванию"
   ]
  },
  {
   "cell_type": "code",
   "execution_count": 7,
   "metadata": {},
   "outputs": [
    {
     "data": {
      "text/html": [
       "<div>\n",
       "<style scoped>\n",
       "    .dataframe tbody tr th:only-of-type {\n",
       "        vertical-align: middle;\n",
       "    }\n",
       "\n",
       "    .dataframe tbody tr th {\n",
       "        vertical-align: top;\n",
       "    }\n",
       "\n",
       "    .dataframe thead th {\n",
       "        text-align: right;\n",
       "    }\n",
       "</style>\n",
       "<table border=\"1\" class=\"dataframe\">\n",
       "  <thead>\n",
       "    <tr style=\"text-align: right;\">\n",
       "      <th></th>\n",
       "      <th>children</th>\n",
       "      <th>days_employed</th>\n",
       "      <th>dob_years</th>\n",
       "      <th>education</th>\n",
       "      <th>education_id</th>\n",
       "      <th>family_status</th>\n",
       "      <th>family_status_id</th>\n",
       "      <th>gender</th>\n",
       "      <th>income_type</th>\n",
       "      <th>debt</th>\n",
       "      <th>total_income</th>\n",
       "      <th>purpose</th>\n",
       "    </tr>\n",
       "  </thead>\n",
       "  <tbody>\n",
       "    <tr>\n",
       "      <td>21369</td>\n",
       "      <td>2</td>\n",
       "      <td>NaN</td>\n",
       "      <td>42</td>\n",
       "      <td>среднее</td>\n",
       "      <td>1</td>\n",
       "      <td>в разводе</td>\n",
       "      <td>3</td>\n",
       "      <td>M</td>\n",
       "      <td>компаньон</td>\n",
       "      <td>0</td>\n",
       "      <td>NaN</td>\n",
       "      <td>покупка жилой недвижимости</td>\n",
       "    </tr>\n",
       "    <tr>\n",
       "      <td>21390</td>\n",
       "      <td>20</td>\n",
       "      <td>NaN</td>\n",
       "      <td>53</td>\n",
       "      <td>среднее</td>\n",
       "      <td>1</td>\n",
       "      <td>женат / замужем</td>\n",
       "      <td>0</td>\n",
       "      <td>M</td>\n",
       "      <td>компаньон</td>\n",
       "      <td>0</td>\n",
       "      <td>NaN</td>\n",
       "      <td>покупка жилой недвижимости</td>\n",
       "    </tr>\n",
       "    <tr>\n",
       "      <td>21391</td>\n",
       "      <td>0</td>\n",
       "      <td>NaN</td>\n",
       "      <td>52</td>\n",
       "      <td>среднее</td>\n",
       "      <td>1</td>\n",
       "      <td>женат / замужем</td>\n",
       "      <td>0</td>\n",
       "      <td>F</td>\n",
       "      <td>компаньон</td>\n",
       "      <td>0</td>\n",
       "      <td>NaN</td>\n",
       "      <td>покупка жилья для семьи</td>\n",
       "    </tr>\n",
       "    <tr>\n",
       "      <td>21407</td>\n",
       "      <td>1</td>\n",
       "      <td>NaN</td>\n",
       "      <td>36</td>\n",
       "      <td>среднее</td>\n",
       "      <td>1</td>\n",
       "      <td>женат / замужем</td>\n",
       "      <td>0</td>\n",
       "      <td>F</td>\n",
       "      <td>компаньон</td>\n",
       "      <td>0</td>\n",
       "      <td>NaN</td>\n",
       "      <td>строительство жилой недвижимости</td>\n",
       "    </tr>\n",
       "    <tr>\n",
       "      <td>21414</td>\n",
       "      <td>0</td>\n",
       "      <td>NaN</td>\n",
       "      <td>65</td>\n",
       "      <td>среднее</td>\n",
       "      <td>1</td>\n",
       "      <td>женат / замужем</td>\n",
       "      <td>0</td>\n",
       "      <td>F</td>\n",
       "      <td>пенсионер</td>\n",
       "      <td>0</td>\n",
       "      <td>NaN</td>\n",
       "      <td>покупка своего жилья</td>\n",
       "    </tr>\n",
       "    <tr>\n",
       "      <td>21415</td>\n",
       "      <td>0</td>\n",
       "      <td>NaN</td>\n",
       "      <td>54</td>\n",
       "      <td>среднее</td>\n",
       "      <td>1</td>\n",
       "      <td>женат / замужем</td>\n",
       "      <td>0</td>\n",
       "      <td>F</td>\n",
       "      <td>пенсионер</td>\n",
       "      <td>0</td>\n",
       "      <td>NaN</td>\n",
       "      <td>операции с жильем</td>\n",
       "    </tr>\n",
       "    <tr>\n",
       "      <td>21423</td>\n",
       "      <td>0</td>\n",
       "      <td>NaN</td>\n",
       "      <td>63</td>\n",
       "      <td>среднее</td>\n",
       "      <td>1</td>\n",
       "      <td>женат / замужем</td>\n",
       "      <td>0</td>\n",
       "      <td>M</td>\n",
       "      <td>пенсионер</td>\n",
       "      <td>0</td>\n",
       "      <td>NaN</td>\n",
       "      <td>сделка с автомобилем</td>\n",
       "    </tr>\n",
       "    <tr>\n",
       "      <td>21426</td>\n",
       "      <td>0</td>\n",
       "      <td>NaN</td>\n",
       "      <td>49</td>\n",
       "      <td>среднее</td>\n",
       "      <td>1</td>\n",
       "      <td>женат / замужем</td>\n",
       "      <td>0</td>\n",
       "      <td>F</td>\n",
       "      <td>сотрудник</td>\n",
       "      <td>1</td>\n",
       "      <td>NaN</td>\n",
       "      <td>недвижимость</td>\n",
       "    </tr>\n",
       "    <tr>\n",
       "      <td>21432</td>\n",
       "      <td>1</td>\n",
       "      <td>NaN</td>\n",
       "      <td>38</td>\n",
       "      <td>неоконченное высшее</td>\n",
       "      <td>2</td>\n",
       "      <td>Не женат / не замужем</td>\n",
       "      <td>4</td>\n",
       "      <td>F</td>\n",
       "      <td>сотрудник</td>\n",
       "      <td>0</td>\n",
       "      <td>NaN</td>\n",
       "      <td>операции с жильем</td>\n",
       "    </tr>\n",
       "    <tr>\n",
       "      <td>21463</td>\n",
       "      <td>1</td>\n",
       "      <td>NaN</td>\n",
       "      <td>35</td>\n",
       "      <td>высшее</td>\n",
       "      <td>0</td>\n",
       "      <td>гражданский брак</td>\n",
       "      <td>1</td>\n",
       "      <td>M</td>\n",
       "      <td>сотрудник</td>\n",
       "      <td>0</td>\n",
       "      <td>NaN</td>\n",
       "      <td>на проведение свадьбы</td>\n",
       "    </tr>\n",
       "    <tr>\n",
       "      <td>21489</td>\n",
       "      <td>2</td>\n",
       "      <td>NaN</td>\n",
       "      <td>47</td>\n",
       "      <td>Среднее</td>\n",
       "      <td>1</td>\n",
       "      <td>женат / замужем</td>\n",
       "      <td>0</td>\n",
       "      <td>M</td>\n",
       "      <td>компаньон</td>\n",
       "      <td>0</td>\n",
       "      <td>NaN</td>\n",
       "      <td>сделка с автомобилем</td>\n",
       "    </tr>\n",
       "    <tr>\n",
       "      <td>21495</td>\n",
       "      <td>1</td>\n",
       "      <td>NaN</td>\n",
       "      <td>50</td>\n",
       "      <td>среднее</td>\n",
       "      <td>1</td>\n",
       "      <td>гражданский брак</td>\n",
       "      <td>1</td>\n",
       "      <td>F</td>\n",
       "      <td>сотрудник</td>\n",
       "      <td>0</td>\n",
       "      <td>NaN</td>\n",
       "      <td>свадьба</td>\n",
       "    </tr>\n",
       "    <tr>\n",
       "      <td>21497</td>\n",
       "      <td>0</td>\n",
       "      <td>NaN</td>\n",
       "      <td>48</td>\n",
       "      <td>ВЫСШЕЕ</td>\n",
       "      <td>0</td>\n",
       "      <td>женат / замужем</td>\n",
       "      <td>0</td>\n",
       "      <td>F</td>\n",
       "      <td>компаньон</td>\n",
       "      <td>0</td>\n",
       "      <td>NaN</td>\n",
       "      <td>строительство недвижимости</td>\n",
       "    </tr>\n",
       "    <tr>\n",
       "      <td>21502</td>\n",
       "      <td>1</td>\n",
       "      <td>NaN</td>\n",
       "      <td>42</td>\n",
       "      <td>среднее</td>\n",
       "      <td>1</td>\n",
       "      <td>женат / замужем</td>\n",
       "      <td>0</td>\n",
       "      <td>F</td>\n",
       "      <td>сотрудник</td>\n",
       "      <td>0</td>\n",
       "      <td>NaN</td>\n",
       "      <td>строительство жилой недвижимости</td>\n",
       "    </tr>\n",
       "    <tr>\n",
       "      <td>21510</td>\n",
       "      <td>2</td>\n",
       "      <td>NaN</td>\n",
       "      <td>28</td>\n",
       "      <td>среднее</td>\n",
       "      <td>1</td>\n",
       "      <td>женат / замужем</td>\n",
       "      <td>0</td>\n",
       "      <td>F</td>\n",
       "      <td>сотрудник</td>\n",
       "      <td>0</td>\n",
       "      <td>NaN</td>\n",
       "      <td>приобретение автомобиля</td>\n",
       "    </tr>\n",
       "  </tbody>\n",
       "</table>\n",
       "</div>"
      ],
      "text/plain": [
       "       children  days_employed  dob_years            education  education_id  \\\n",
       "21369         2            NaN         42              среднее             1   \n",
       "21390        20            NaN         53              среднее             1   \n",
       "21391         0            NaN         52              среднее             1   \n",
       "21407         1            NaN         36              среднее             1   \n",
       "21414         0            NaN         65              среднее             1   \n",
       "21415         0            NaN         54              среднее             1   \n",
       "21423         0            NaN         63              среднее             1   \n",
       "21426         0            NaN         49              среднее             1   \n",
       "21432         1            NaN         38  неоконченное высшее             2   \n",
       "21463         1            NaN         35               высшее             0   \n",
       "21489         2            NaN         47              Среднее             1   \n",
       "21495         1            NaN         50              среднее             1   \n",
       "21497         0            NaN         48               ВЫСШЕЕ             0   \n",
       "21502         1            NaN         42              среднее             1   \n",
       "21510         2            NaN         28              среднее             1   \n",
       "\n",
       "               family_status  family_status_id gender income_type  debt  \\\n",
       "21369              в разводе                 3      M   компаньон     0   \n",
       "21390        женат / замужем                 0      M   компаньон     0   \n",
       "21391        женат / замужем                 0      F   компаньон     0   \n",
       "21407        женат / замужем                 0      F   компаньон     0   \n",
       "21414        женат / замужем                 0      F   пенсионер     0   \n",
       "21415        женат / замужем                 0      F   пенсионер     0   \n",
       "21423        женат / замужем                 0      M   пенсионер     0   \n",
       "21426        женат / замужем                 0      F   сотрудник     1   \n",
       "21432  Не женат / не замужем                 4      F   сотрудник     0   \n",
       "21463       гражданский брак                 1      M   сотрудник     0   \n",
       "21489        женат / замужем                 0      M   компаньон     0   \n",
       "21495       гражданский брак                 1      F   сотрудник     0   \n",
       "21497        женат / замужем                 0      F   компаньон     0   \n",
       "21502        женат / замужем                 0      F   сотрудник     0   \n",
       "21510        женат / замужем                 0      F   сотрудник     0   \n",
       "\n",
       "       total_income                           purpose  \n",
       "21369           NaN        покупка жилой недвижимости  \n",
       "21390           NaN        покупка жилой недвижимости  \n",
       "21391           NaN           покупка жилья для семьи  \n",
       "21407           NaN  строительство жилой недвижимости  \n",
       "21414           NaN              покупка своего жилья  \n",
       "21415           NaN                 операции с жильем  \n",
       "21423           NaN              сделка с автомобилем  \n",
       "21426           NaN                      недвижимость  \n",
       "21432           NaN                 операции с жильем  \n",
       "21463           NaN             на проведение свадьбы  \n",
       "21489           NaN              сделка с автомобилем  \n",
       "21495           NaN                           свадьба  \n",
       "21497           NaN        строительство недвижимости  \n",
       "21502           NaN  строительство жилой недвижимости  \n",
       "21510           NaN           приобретение автомобиля  "
      ]
     },
     "execution_count": 7,
     "metadata": {},
     "output_type": "execute_result"
    }
   ],
   "source": [
    "data.sort_values(by = 'days_employed', ascending = False).tail(15) \n"
   ]
  },
  {
   "cell_type": "markdown",
   "metadata": {},
   "source": [
    "**Обнаружены пропуски в столбцах days_employed и total_income, их количества равны. Возможно люди никогда не работали и на получали доход.Люди имеюшие пропуски в столбцах days_employed- общий трудовой стаж в днях и total_income-ежемесячный доход старше 18 лет,поэтому врядли они нигде не работали и не получали зарплату скорее всего мы имеем дело с ошибкой ввода данных.\n",
    "Заполним пропуски медианным значением**\n"
   ]
  },
  {
   "cell_type": "markdown",
   "metadata": {},
   "source": [
    "#### Также обнаружены отрицательные значения в столбце  days_employed- общий трудовой стаж, скорее всего ошибка внесения , преобразуем их в положительные тк они могут повлиять на медиану."
   ]
  },
  {
   "cell_type": "code",
   "execution_count": 8,
   "metadata": {},
   "outputs": [
    {
     "data": {
      "text/html": [
       "<div>\n",
       "<style scoped>\n",
       "    .dataframe tbody tr th:only-of-type {\n",
       "        vertical-align: middle;\n",
       "    }\n",
       "\n",
       "    .dataframe tbody tr th {\n",
       "        vertical-align: top;\n",
       "    }\n",
       "\n",
       "    .dataframe thead th {\n",
       "        text-align: right;\n",
       "    }\n",
       "</style>\n",
       "<table border=\"1\" class=\"dataframe\">\n",
       "  <thead>\n",
       "    <tr style=\"text-align: right;\">\n",
       "      <th></th>\n",
       "      <th>children</th>\n",
       "      <th>days_employed</th>\n",
       "      <th>dob_years</th>\n",
       "      <th>education</th>\n",
       "      <th>education_id</th>\n",
       "      <th>family_status</th>\n",
       "      <th>family_status_id</th>\n",
       "      <th>gender</th>\n",
       "      <th>income_type</th>\n",
       "      <th>debt</th>\n",
       "      <th>total_income</th>\n",
       "      <th>purpose</th>\n",
       "    </tr>\n",
       "  </thead>\n",
       "  <tbody>\n",
       "    <tr>\n",
       "      <td>0</td>\n",
       "      <td>1</td>\n",
       "      <td>8437.673028</td>\n",
       "      <td>42</td>\n",
       "      <td>высшее</td>\n",
       "      <td>0</td>\n",
       "      <td>женат / замужем</td>\n",
       "      <td>0</td>\n",
       "      <td>F</td>\n",
       "      <td>сотрудник</td>\n",
       "      <td>0</td>\n",
       "      <td>253875.639453</td>\n",
       "      <td>покупка жилья</td>\n",
       "    </tr>\n",
       "    <tr>\n",
       "      <td>1</td>\n",
       "      <td>1</td>\n",
       "      <td>4024.803754</td>\n",
       "      <td>36</td>\n",
       "      <td>среднее</td>\n",
       "      <td>1</td>\n",
       "      <td>женат / замужем</td>\n",
       "      <td>0</td>\n",
       "      <td>F</td>\n",
       "      <td>сотрудник</td>\n",
       "      <td>0</td>\n",
       "      <td>112080.014102</td>\n",
       "      <td>приобретение автомобиля</td>\n",
       "    </tr>\n",
       "    <tr>\n",
       "      <td>2</td>\n",
       "      <td>0</td>\n",
       "      <td>5623.422610</td>\n",
       "      <td>33</td>\n",
       "      <td>Среднее</td>\n",
       "      <td>1</td>\n",
       "      <td>женат / замужем</td>\n",
       "      <td>0</td>\n",
       "      <td>M</td>\n",
       "      <td>сотрудник</td>\n",
       "      <td>0</td>\n",
       "      <td>145885.952297</td>\n",
       "      <td>покупка жилья</td>\n",
       "    </tr>\n",
       "    <tr>\n",
       "      <td>3</td>\n",
       "      <td>3</td>\n",
       "      <td>4124.747207</td>\n",
       "      <td>32</td>\n",
       "      <td>среднее</td>\n",
       "      <td>1</td>\n",
       "      <td>женат / замужем</td>\n",
       "      <td>0</td>\n",
       "      <td>M</td>\n",
       "      <td>сотрудник</td>\n",
       "      <td>0</td>\n",
       "      <td>267628.550329</td>\n",
       "      <td>дополнительное образование</td>\n",
       "    </tr>\n",
       "    <tr>\n",
       "      <td>4</td>\n",
       "      <td>0</td>\n",
       "      <td>340266.072047</td>\n",
       "      <td>53</td>\n",
       "      <td>среднее</td>\n",
       "      <td>1</td>\n",
       "      <td>гражданский брак</td>\n",
       "      <td>1</td>\n",
       "      <td>F</td>\n",
       "      <td>пенсионер</td>\n",
       "      <td>0</td>\n",
       "      <td>158616.077870</td>\n",
       "      <td>сыграть свадьбу</td>\n",
       "    </tr>\n",
       "    <tr>\n",
       "      <td>...</td>\n",
       "      <td>...</td>\n",
       "      <td>...</td>\n",
       "      <td>...</td>\n",
       "      <td>...</td>\n",
       "      <td>...</td>\n",
       "      <td>...</td>\n",
       "      <td>...</td>\n",
       "      <td>...</td>\n",
       "      <td>...</td>\n",
       "      <td>...</td>\n",
       "      <td>...</td>\n",
       "      <td>...</td>\n",
       "    </tr>\n",
       "    <tr>\n",
       "      <td>21520</td>\n",
       "      <td>1</td>\n",
       "      <td>4529.316663</td>\n",
       "      <td>43</td>\n",
       "      <td>среднее</td>\n",
       "      <td>1</td>\n",
       "      <td>гражданский брак</td>\n",
       "      <td>1</td>\n",
       "      <td>F</td>\n",
       "      <td>компаньон</td>\n",
       "      <td>0</td>\n",
       "      <td>224791.862382</td>\n",
       "      <td>операции с жильем</td>\n",
       "    </tr>\n",
       "    <tr>\n",
       "      <td>21521</td>\n",
       "      <td>0</td>\n",
       "      <td>343937.404131</td>\n",
       "      <td>67</td>\n",
       "      <td>среднее</td>\n",
       "      <td>1</td>\n",
       "      <td>женат / замужем</td>\n",
       "      <td>0</td>\n",
       "      <td>F</td>\n",
       "      <td>пенсионер</td>\n",
       "      <td>0</td>\n",
       "      <td>155999.806512</td>\n",
       "      <td>сделка с автомобилем</td>\n",
       "    </tr>\n",
       "    <tr>\n",
       "      <td>21522</td>\n",
       "      <td>1</td>\n",
       "      <td>2113.346888</td>\n",
       "      <td>38</td>\n",
       "      <td>среднее</td>\n",
       "      <td>1</td>\n",
       "      <td>гражданский брак</td>\n",
       "      <td>1</td>\n",
       "      <td>M</td>\n",
       "      <td>сотрудник</td>\n",
       "      <td>1</td>\n",
       "      <td>89672.561153</td>\n",
       "      <td>недвижимость</td>\n",
       "    </tr>\n",
       "    <tr>\n",
       "      <td>21523</td>\n",
       "      <td>3</td>\n",
       "      <td>3112.481705</td>\n",
       "      <td>38</td>\n",
       "      <td>среднее</td>\n",
       "      <td>1</td>\n",
       "      <td>женат / замужем</td>\n",
       "      <td>0</td>\n",
       "      <td>M</td>\n",
       "      <td>сотрудник</td>\n",
       "      <td>1</td>\n",
       "      <td>244093.050500</td>\n",
       "      <td>на покупку своего автомобиля</td>\n",
       "    </tr>\n",
       "    <tr>\n",
       "      <td>21524</td>\n",
       "      <td>2</td>\n",
       "      <td>1984.507589</td>\n",
       "      <td>40</td>\n",
       "      <td>среднее</td>\n",
       "      <td>1</td>\n",
       "      <td>женат / замужем</td>\n",
       "      <td>0</td>\n",
       "      <td>F</td>\n",
       "      <td>сотрудник</td>\n",
       "      <td>0</td>\n",
       "      <td>82047.418899</td>\n",
       "      <td>на покупку автомобиля</td>\n",
       "    </tr>\n",
       "  </tbody>\n",
       "</table>\n",
       "<p>21525 rows × 12 columns</p>\n",
       "</div>"
      ],
      "text/plain": [
       "       children  days_employed  dob_years education  education_id  \\\n",
       "0             1    8437.673028         42    высшее             0   \n",
       "1             1    4024.803754         36   среднее             1   \n",
       "2             0    5623.422610         33   Среднее             1   \n",
       "3             3    4124.747207         32   среднее             1   \n",
       "4             0  340266.072047         53   среднее             1   \n",
       "...         ...            ...        ...       ...           ...   \n",
       "21520         1    4529.316663         43   среднее             1   \n",
       "21521         0  343937.404131         67   среднее             1   \n",
       "21522         1    2113.346888         38   среднее             1   \n",
       "21523         3    3112.481705         38   среднее             1   \n",
       "21524         2    1984.507589         40   среднее             1   \n",
       "\n",
       "          family_status  family_status_id gender income_type  debt  \\\n",
       "0       женат / замужем                 0      F   сотрудник     0   \n",
       "1       женат / замужем                 0      F   сотрудник     0   \n",
       "2       женат / замужем                 0      M   сотрудник     0   \n",
       "3       женат / замужем                 0      M   сотрудник     0   \n",
       "4      гражданский брак                 1      F   пенсионер     0   \n",
       "...                 ...               ...    ...         ...   ...   \n",
       "21520  гражданский брак                 1      F   компаньон     0   \n",
       "21521   женат / замужем                 0      F   пенсионер     0   \n",
       "21522  гражданский брак                 1      M   сотрудник     1   \n",
       "21523   женат / замужем                 0      M   сотрудник     1   \n",
       "21524   женат / замужем                 0      F   сотрудник     0   \n",
       "\n",
       "        total_income                       purpose  \n",
       "0      253875.639453                 покупка жилья  \n",
       "1      112080.014102       приобретение автомобиля  \n",
       "2      145885.952297                 покупка жилья  \n",
       "3      267628.550329    дополнительное образование  \n",
       "4      158616.077870               сыграть свадьбу  \n",
       "...              ...                           ...  \n",
       "21520  224791.862382             операции с жильем  \n",
       "21521  155999.806512          сделка с автомобилем  \n",
       "21522   89672.561153                  недвижимость  \n",
       "21523  244093.050500  на покупку своего автомобиля  \n",
       "21524   82047.418899         на покупку автомобиля  \n",
       "\n",
       "[21525 rows x 12 columns]"
      ]
     },
     "execution_count": 8,
     "metadata": {},
     "output_type": "execute_result"
    }
   ],
   "source": [
    "data['days_employed'] = data['days_employed'].apply(abs) # убираем отрицательные значения\n",
    "data"
   ]
  },
  {
   "cell_type": "markdown",
   "metadata": {},
   "source": [
    "**Были обнаружены отрицательные значения в количестве детей и так как я считаю что это ошибка внесения данных оператором так же приводим их к положительному значению**"
   ]
  },
  {
   "cell_type": "code",
   "execution_count": 9,
   "metadata": {},
   "outputs": [],
   "source": [
    "data['children'] = data['children'].apply(abs)"
   ]
  },
  {
   "cell_type": "markdown",
   "metadata": {},
   "source": [
    "**Проверяем максимальное количество детей**"
   ]
  },
  {
   "cell_type": "code",
   "execution_count": 10,
   "metadata": {},
   "outputs": [
    {
     "name": "stdout",
     "output_type": "stream",
     "text": [
      "20\n"
     ]
    }
   ],
   "source": [
    "print(data['children'].max())"
   ]
  },
  {
   "cell_type": "markdown",
   "metadata": {},
   "source": [
    "**Вычисляем количество значений где количество детей 20**"
   ]
  },
  {
   "cell_type": "code",
   "execution_count": 11,
   "metadata": {},
   "outputs": [
    {
     "name": "stdout",
     "output_type": "stream",
     "text": [
      "76\n"
     ]
    }
   ],
   "source": [
    "# count_child = data.pivot_table(index = ['children'], values = 'debt', aggfunc = ['count'])\n",
    "# print(count_child)\n",
    "print (len(data[data['children'] == 20]))"
   ]
  },
  {
   "cell_type": "markdown",
   "metadata": {},
   "source": [
    "**Я думаю это ошибка вноса данных вместо 2 внесено 20 , меням 20 на 2**"
   ]
  },
  {
   "cell_type": "code",
   "execution_count": 12,
   "metadata": {},
   "outputs": [
    {
     "name": "stdout",
     "output_type": "stream",
     "text": [
      "0\n"
     ]
    }
   ],
   "source": [
    "data.loc[data['children'] == 20, 'children'] = 2\n",
    "\n",
    "# проверяем\n",
    "\n",
    "print (len(data[data['children'] == 20]))"
   ]
  },
  {
   "cell_type": "markdown",
   "metadata": {},
   "source": [
    "**Вычисляем медиану столбца days_employed- общий трудовой стаж и total_income**"
   ]
  },
  {
   "cell_type": "code",
   "execution_count": 13,
   "metadata": {},
   "outputs": [
    {
     "name": "stdout",
     "output_type": "stream",
     "text": [
      "2194.220566878695\n"
     ]
    }
   ],
   "source": [
    "print(data['days_employed'].median())"
   ]
  },
  {
   "cell_type": "code",
   "execution_count": 14,
   "metadata": {},
   "outputs": [
    {
     "name": "stdout",
     "output_type": "stream",
     "text": [
      "145017.93753253992\n"
     ]
    }
   ],
   "source": [
    "print(data['total_income'].median())"
   ]
  },
  {
   "cell_type": "markdown",
   "metadata": {},
   "source": [
    "#### Проверим уровень максимального трудового стажа? сортируем столбец по убыванию"
   ]
  },
  {
   "cell_type": "code",
   "execution_count": 15,
   "metadata": {},
   "outputs": [
    {
     "data": {
      "text/html": [
       "<div>\n",
       "<style scoped>\n",
       "    .dataframe tbody tr th:only-of-type {\n",
       "        vertical-align: middle;\n",
       "    }\n",
       "\n",
       "    .dataframe tbody tr th {\n",
       "        vertical-align: top;\n",
       "    }\n",
       "\n",
       "    .dataframe thead th {\n",
       "        text-align: right;\n",
       "    }\n",
       "</style>\n",
       "<table border=\"1\" class=\"dataframe\">\n",
       "  <thead>\n",
       "    <tr style=\"text-align: right;\">\n",
       "      <th></th>\n",
       "      <th>children</th>\n",
       "      <th>days_employed</th>\n",
       "      <th>dob_years</th>\n",
       "      <th>education</th>\n",
       "      <th>education_id</th>\n",
       "      <th>family_status</th>\n",
       "      <th>family_status_id</th>\n",
       "      <th>gender</th>\n",
       "      <th>income_type</th>\n",
       "      <th>debt</th>\n",
       "      <th>total_income</th>\n",
       "      <th>purpose</th>\n",
       "    </tr>\n",
       "  </thead>\n",
       "  <tbody>\n",
       "    <tr>\n",
       "      <td>6954</td>\n",
       "      <td>0</td>\n",
       "      <td>401755.400475</td>\n",
       "      <td>56</td>\n",
       "      <td>среднее</td>\n",
       "      <td>1</td>\n",
       "      <td>вдовец / вдова</td>\n",
       "      <td>2</td>\n",
       "      <td>F</td>\n",
       "      <td>пенсионер</td>\n",
       "      <td>0</td>\n",
       "      <td>176278.441171</td>\n",
       "      <td>ремонт жилью</td>\n",
       "    </tr>\n",
       "    <tr>\n",
       "      <td>10006</td>\n",
       "      <td>0</td>\n",
       "      <td>401715.811749</td>\n",
       "      <td>69</td>\n",
       "      <td>высшее</td>\n",
       "      <td>0</td>\n",
       "      <td>Не женат / не замужем</td>\n",
       "      <td>4</td>\n",
       "      <td>F</td>\n",
       "      <td>пенсионер</td>\n",
       "      <td>0</td>\n",
       "      <td>57390.256908</td>\n",
       "      <td>получение образования</td>\n",
       "    </tr>\n",
       "    <tr>\n",
       "      <td>7664</td>\n",
       "      <td>1</td>\n",
       "      <td>401675.093434</td>\n",
       "      <td>61</td>\n",
       "      <td>среднее</td>\n",
       "      <td>1</td>\n",
       "      <td>женат / замужем</td>\n",
       "      <td>0</td>\n",
       "      <td>F</td>\n",
       "      <td>пенсионер</td>\n",
       "      <td>0</td>\n",
       "      <td>126214.519212</td>\n",
       "      <td>операции с жильем</td>\n",
       "    </tr>\n",
       "    <tr>\n",
       "      <td>2156</td>\n",
       "      <td>0</td>\n",
       "      <td>401674.466633</td>\n",
       "      <td>60</td>\n",
       "      <td>среднее</td>\n",
       "      <td>1</td>\n",
       "      <td>женат / замужем</td>\n",
       "      <td>0</td>\n",
       "      <td>M</td>\n",
       "      <td>пенсионер</td>\n",
       "      <td>0</td>\n",
       "      <td>325395.724541</td>\n",
       "      <td>автомобили</td>\n",
       "    </tr>\n",
       "    <tr>\n",
       "      <td>7794</td>\n",
       "      <td>0</td>\n",
       "      <td>401663.850046</td>\n",
       "      <td>61</td>\n",
       "      <td>среднее</td>\n",
       "      <td>1</td>\n",
       "      <td>гражданский брак</td>\n",
       "      <td>1</td>\n",
       "      <td>F</td>\n",
       "      <td>пенсионер</td>\n",
       "      <td>0</td>\n",
       "      <td>48286.441362</td>\n",
       "      <td>свадьба</td>\n",
       "    </tr>\n",
       "    <tr>\n",
       "      <td>4697</td>\n",
       "      <td>0</td>\n",
       "      <td>401635.032697</td>\n",
       "      <td>56</td>\n",
       "      <td>среднее</td>\n",
       "      <td>1</td>\n",
       "      <td>женат / замужем</td>\n",
       "      <td>0</td>\n",
       "      <td>F</td>\n",
       "      <td>пенсионер</td>\n",
       "      <td>0</td>\n",
       "      <td>48242.322502</td>\n",
       "      <td>покупка недвижимости</td>\n",
       "    </tr>\n",
       "    <tr>\n",
       "      <td>13420</td>\n",
       "      <td>0</td>\n",
       "      <td>401619.633298</td>\n",
       "      <td>63</td>\n",
       "      <td>Среднее</td>\n",
       "      <td>1</td>\n",
       "      <td>гражданский брак</td>\n",
       "      <td>1</td>\n",
       "      <td>F</td>\n",
       "      <td>пенсионер</td>\n",
       "      <td>0</td>\n",
       "      <td>51449.788325</td>\n",
       "      <td>сыграть свадьбу</td>\n",
       "    </tr>\n",
       "    <tr>\n",
       "      <td>17823</td>\n",
       "      <td>0</td>\n",
       "      <td>401614.475622</td>\n",
       "      <td>59</td>\n",
       "      <td>среднее</td>\n",
       "      <td>1</td>\n",
       "      <td>женат / замужем</td>\n",
       "      <td>0</td>\n",
       "      <td>F</td>\n",
       "      <td>пенсионер</td>\n",
       "      <td>0</td>\n",
       "      <td>152769.694536</td>\n",
       "      <td>покупка жилья для сдачи</td>\n",
       "    </tr>\n",
       "    <tr>\n",
       "      <td>10991</td>\n",
       "      <td>0</td>\n",
       "      <td>401591.828457</td>\n",
       "      <td>56</td>\n",
       "      <td>среднее</td>\n",
       "      <td>1</td>\n",
       "      <td>в разводе</td>\n",
       "      <td>3</td>\n",
       "      <td>F</td>\n",
       "      <td>пенсионер</td>\n",
       "      <td>0</td>\n",
       "      <td>39513.517543</td>\n",
       "      <td>получение дополнительного образования</td>\n",
       "    </tr>\n",
       "    <tr>\n",
       "      <td>8369</td>\n",
       "      <td>0</td>\n",
       "      <td>401590.452231</td>\n",
       "      <td>58</td>\n",
       "      <td>среднее</td>\n",
       "      <td>1</td>\n",
       "      <td>женат / замужем</td>\n",
       "      <td>0</td>\n",
       "      <td>F</td>\n",
       "      <td>пенсионер</td>\n",
       "      <td>0</td>\n",
       "      <td>175306.312902</td>\n",
       "      <td>образование</td>\n",
       "    </tr>\n",
       "    <tr>\n",
       "      <td>1184</td>\n",
       "      <td>0</td>\n",
       "      <td>401575.196728</td>\n",
       "      <td>55</td>\n",
       "      <td>среднее</td>\n",
       "      <td>1</td>\n",
       "      <td>гражданский брак</td>\n",
       "      <td>1</td>\n",
       "      <td>M</td>\n",
       "      <td>пенсионер</td>\n",
       "      <td>0</td>\n",
       "      <td>29749.813177</td>\n",
       "      <td>на проведение свадьбы</td>\n",
       "    </tr>\n",
       "    <tr>\n",
       "      <td>4949</td>\n",
       "      <td>0</td>\n",
       "      <td>401573.905288</td>\n",
       "      <td>54</td>\n",
       "      <td>среднее</td>\n",
       "      <td>1</td>\n",
       "      <td>женат / замужем</td>\n",
       "      <td>0</td>\n",
       "      <td>F</td>\n",
       "      <td>пенсионер</td>\n",
       "      <td>0</td>\n",
       "      <td>52927.428675</td>\n",
       "      <td>покупка коммерческой недвижимости</td>\n",
       "    </tr>\n",
       "    <tr>\n",
       "      <td>15192</td>\n",
       "      <td>0</td>\n",
       "      <td>401556.753550</td>\n",
       "      <td>68</td>\n",
       "      <td>Высшее</td>\n",
       "      <td>0</td>\n",
       "      <td>гражданский брак</td>\n",
       "      <td>1</td>\n",
       "      <td>F</td>\n",
       "      <td>пенсионер</td>\n",
       "      <td>0</td>\n",
       "      <td>231820.611741</td>\n",
       "      <td>свадьба</td>\n",
       "    </tr>\n",
       "    <tr>\n",
       "      <td>5716</td>\n",
       "      <td>0</td>\n",
       "      <td>401524.259153</td>\n",
       "      <td>57</td>\n",
       "      <td>среднее</td>\n",
       "      <td>1</td>\n",
       "      <td>вдовец / вдова</td>\n",
       "      <td>2</td>\n",
       "      <td>F</td>\n",
       "      <td>пенсионер</td>\n",
       "      <td>0</td>\n",
       "      <td>143342.778458</td>\n",
       "      <td>приобретение автомобиля</td>\n",
       "    </tr>\n",
       "    <tr>\n",
       "      <td>10484</td>\n",
       "      <td>0</td>\n",
       "      <td>401517.276388</td>\n",
       "      <td>68</td>\n",
       "      <td>среднее</td>\n",
       "      <td>1</td>\n",
       "      <td>женат / замужем</td>\n",
       "      <td>0</td>\n",
       "      <td>F</td>\n",
       "      <td>пенсионер</td>\n",
       "      <td>0</td>\n",
       "      <td>304295.888626</td>\n",
       "      <td>операции с жильем</td>\n",
       "    </tr>\n",
       "  </tbody>\n",
       "</table>\n",
       "</div>"
      ],
      "text/plain": [
       "       children  days_employed  dob_years education  education_id  \\\n",
       "6954          0  401755.400475         56   среднее             1   \n",
       "10006         0  401715.811749         69    высшее             0   \n",
       "7664          1  401675.093434         61   среднее             1   \n",
       "2156          0  401674.466633         60   среднее             1   \n",
       "7794          0  401663.850046         61   среднее             1   \n",
       "4697          0  401635.032697         56   среднее             1   \n",
       "13420         0  401619.633298         63   Среднее             1   \n",
       "17823         0  401614.475622         59   среднее             1   \n",
       "10991         0  401591.828457         56   среднее             1   \n",
       "8369          0  401590.452231         58   среднее             1   \n",
       "1184          0  401575.196728         55   среднее             1   \n",
       "4949          0  401573.905288         54   среднее             1   \n",
       "15192         0  401556.753550         68    Высшее             0   \n",
       "5716          0  401524.259153         57   среднее             1   \n",
       "10484         0  401517.276388         68   среднее             1   \n",
       "\n",
       "               family_status  family_status_id gender income_type  debt  \\\n",
       "6954          вдовец / вдова                 2      F   пенсионер     0   \n",
       "10006  Не женат / не замужем                 4      F   пенсионер     0   \n",
       "7664         женат / замужем                 0      F   пенсионер     0   \n",
       "2156         женат / замужем                 0      M   пенсионер     0   \n",
       "7794        гражданский брак                 1      F   пенсионер     0   \n",
       "4697         женат / замужем                 0      F   пенсионер     0   \n",
       "13420       гражданский брак                 1      F   пенсионер     0   \n",
       "17823        женат / замужем                 0      F   пенсионер     0   \n",
       "10991              в разводе                 3      F   пенсионер     0   \n",
       "8369         женат / замужем                 0      F   пенсионер     0   \n",
       "1184        гражданский брак                 1      M   пенсионер     0   \n",
       "4949         женат / замужем                 0      F   пенсионер     0   \n",
       "15192       гражданский брак                 1      F   пенсионер     0   \n",
       "5716          вдовец / вдова                 2      F   пенсионер     0   \n",
       "10484        женат / замужем                 0      F   пенсионер     0   \n",
       "\n",
       "        total_income                                purpose  \n",
       "6954   176278.441171                           ремонт жилью  \n",
       "10006   57390.256908                  получение образования  \n",
       "7664   126214.519212                      операции с жильем  \n",
       "2156   325395.724541                             автомобили  \n",
       "7794    48286.441362                                свадьба  \n",
       "4697    48242.322502                   покупка недвижимости  \n",
       "13420   51449.788325                        сыграть свадьбу  \n",
       "17823  152769.694536                покупка жилья для сдачи  \n",
       "10991   39513.517543  получение дополнительного образования  \n",
       "8369   175306.312902                            образование  \n",
       "1184    29749.813177                  на проведение свадьбы  \n",
       "4949    52927.428675      покупка коммерческой недвижимости  \n",
       "15192  231820.611741                                свадьба  \n",
       "5716   143342.778458                приобретение автомобиля  \n",
       "10484  304295.888626                      операции с жильем  "
      ]
     },
     "execution_count": 15,
     "metadata": {},
     "output_type": "execute_result"
    }
   ],
   "source": [
    "data.sort_values(by = 'days_employed', ascending = False).head(15) "
   ]
  },
  {
   "cell_type": "markdown",
   "metadata": {},
   "source": [
    "**или просто берем максимальные и минимальные элементы в столбце**"
   ]
  },
  {
   "cell_type": "code",
   "execution_count": 16,
   "metadata": {},
   "outputs": [
    {
     "name": "stdout",
     "output_type": "stream",
     "text": [
      "401755.40047533\n",
      "24.14163324048118\n"
     ]
    }
   ],
   "source": [
    "print(data['days_employed'].max())\n",
    "print(data['days_employed'].min())"
   ]
  },
  {
   "cell_type": "markdown",
   "metadata": {},
   "source": [
    "**Существование стажа в 1 тысчу лет маловероятно, наличие таких цир связано скорее всего с технической ошибкой , возможно обьеденили 2 базы в одной из которых стаж считался в часах или минутах поэтому всплески на медианные значения\n",
    "Средняя продолжительность жизни мужчин в 2019 году в России составила 68,5 лет. Для женщин показатель еще выше — 78,5 лет\n",
    "возьмем максимальное значение для замены на медиану 70 лет стажа это 25550 дней**"
   ]
  },
  {
   "cell_type": "code",
   "execution_count": 17,
   "metadata": {},
   "outputs": [
    {
     "data": {
      "text/html": [
       "<div>\n",
       "<style scoped>\n",
       "    .dataframe tbody tr th:only-of-type {\n",
       "        vertical-align: middle;\n",
       "    }\n",
       "\n",
       "    .dataframe tbody tr th {\n",
       "        vertical-align: top;\n",
       "    }\n",
       "\n",
       "    .dataframe thead th {\n",
       "        text-align: right;\n",
       "    }\n",
       "</style>\n",
       "<table border=\"1\" class=\"dataframe\">\n",
       "  <thead>\n",
       "    <tr style=\"text-align: right;\">\n",
       "      <th></th>\n",
       "      <th>children</th>\n",
       "      <th>days_employed</th>\n",
       "      <th>dob_years</th>\n",
       "      <th>education</th>\n",
       "      <th>education_id</th>\n",
       "      <th>family_status</th>\n",
       "      <th>family_status_id</th>\n",
       "      <th>gender</th>\n",
       "      <th>income_type</th>\n",
       "      <th>debt</th>\n",
       "      <th>total_income</th>\n",
       "      <th>purpose</th>\n",
       "    </tr>\n",
       "  </thead>\n",
       "  <tbody>\n",
       "    <tr>\n",
       "      <td>0</td>\n",
       "      <td>1</td>\n",
       "      <td>8437.673028</td>\n",
       "      <td>42</td>\n",
       "      <td>высшее</td>\n",
       "      <td>0</td>\n",
       "      <td>женат / замужем</td>\n",
       "      <td>0</td>\n",
       "      <td>F</td>\n",
       "      <td>сотрудник</td>\n",
       "      <td>0</td>\n",
       "      <td>253875.639453</td>\n",
       "      <td>покупка жилья</td>\n",
       "    </tr>\n",
       "    <tr>\n",
       "      <td>1</td>\n",
       "      <td>1</td>\n",
       "      <td>4024.803754</td>\n",
       "      <td>36</td>\n",
       "      <td>среднее</td>\n",
       "      <td>1</td>\n",
       "      <td>женат / замужем</td>\n",
       "      <td>0</td>\n",
       "      <td>F</td>\n",
       "      <td>сотрудник</td>\n",
       "      <td>0</td>\n",
       "      <td>112080.014102</td>\n",
       "      <td>приобретение автомобиля</td>\n",
       "    </tr>\n",
       "    <tr>\n",
       "      <td>2</td>\n",
       "      <td>0</td>\n",
       "      <td>5623.422610</td>\n",
       "      <td>33</td>\n",
       "      <td>Среднее</td>\n",
       "      <td>1</td>\n",
       "      <td>женат / замужем</td>\n",
       "      <td>0</td>\n",
       "      <td>M</td>\n",
       "      <td>сотрудник</td>\n",
       "      <td>0</td>\n",
       "      <td>145885.952297</td>\n",
       "      <td>покупка жилья</td>\n",
       "    </tr>\n",
       "    <tr>\n",
       "      <td>3</td>\n",
       "      <td>3</td>\n",
       "      <td>4124.747207</td>\n",
       "      <td>32</td>\n",
       "      <td>среднее</td>\n",
       "      <td>1</td>\n",
       "      <td>женат / замужем</td>\n",
       "      <td>0</td>\n",
       "      <td>M</td>\n",
       "      <td>сотрудник</td>\n",
       "      <td>0</td>\n",
       "      <td>267628.550329</td>\n",
       "      <td>дополнительное образование</td>\n",
       "    </tr>\n",
       "    <tr>\n",
       "      <td>4</td>\n",
       "      <td>0</td>\n",
       "      <td>2194.220567</td>\n",
       "      <td>53</td>\n",
       "      <td>среднее</td>\n",
       "      <td>1</td>\n",
       "      <td>гражданский брак</td>\n",
       "      <td>1</td>\n",
       "      <td>F</td>\n",
       "      <td>пенсионер</td>\n",
       "      <td>0</td>\n",
       "      <td>158616.077870</td>\n",
       "      <td>сыграть свадьбу</td>\n",
       "    </tr>\n",
       "  </tbody>\n",
       "</table>\n",
       "</div>"
      ],
      "text/plain": [
       "   children  days_employed  dob_years education  education_id  \\\n",
       "0         1    8437.673028         42    высшее             0   \n",
       "1         1    4024.803754         36   среднее             1   \n",
       "2         0    5623.422610         33   Среднее             1   \n",
       "3         3    4124.747207         32   среднее             1   \n",
       "4         0    2194.220567         53   среднее             1   \n",
       "\n",
       "      family_status  family_status_id gender income_type  debt   total_income  \\\n",
       "0   женат / замужем                 0      F   сотрудник     0  253875.639453   \n",
       "1   женат / замужем                 0      F   сотрудник     0  112080.014102   \n",
       "2   женат / замужем                 0      M   сотрудник     0  145885.952297   \n",
       "3   женат / замужем                 0      M   сотрудник     0  267628.550329   \n",
       "4  гражданский брак                 1      F   пенсионер     0  158616.077870   \n",
       "\n",
       "                      purpose  \n",
       "0               покупка жилья  \n",
       "1     приобретение автомобиля  \n",
       "2               покупка жилья  \n",
       "3  дополнительное образование  \n",
       "4             сыграть свадьбу  "
      ]
     },
     "metadata": {},
     "output_type": "display_data"
    }
   ],
   "source": [
    "data.loc[data['days_employed'] > 25550, 'days_employed'] = data['days_employed'].median()\n",
    "data.sort_values(by = 'days_employed', ascending = False).head(15)\n",
    "display(data.head())"
   ]
  },
  {
   "cell_type": "markdown",
   "metadata": {},
   "source": [
    "#### Также меняем все пропущенные значения в days_employed- общий трудовой стаж в днях и total_income-ежемесячный доход на медианы этих столбцов"
   ]
  },
  {
   "cell_type": "code",
   "execution_count": 18,
   "metadata": {},
   "outputs": [
    {
     "name": "stdout",
     "output_type": "stream",
     "text": [
      "children               0\n",
      "days_employed          0\n",
      "dob_years              0\n",
      "education              0\n",
      "education_id           0\n",
      "family_status          0\n",
      "family_status_id       0\n",
      "gender                 0\n",
      "income_type            0\n",
      "debt                   0\n",
      "total_income        2174\n",
      "purpose                0\n",
      "dtype: int64\n"
     ]
    },
    {
     "data": {
      "text/plain": [
       "'Пустые до'"
      ]
     },
     "metadata": {},
     "output_type": "display_data"
    },
    {
     "data": {
      "text/plain": [
       "2174"
      ]
     },
     "metadata": {},
     "output_type": "display_data"
    }
   ],
   "source": [
    "data['days_employed'] = data['days_employed'].fillna(data['days_employed'].median()) # заменяем пропущенные значения в столбце days_employed(отработанные дни)\n",
    "# на 0\n",
    "#data['total_income'] = data['total_income'].fillna(data['total_income'].median()) # заменяем пропущенные значения в столбце total_income — ежемесячный доход\n",
    "# на 0\n",
    "print(data.isnull().sum()) # проверяем смотрим количество пропушенных значений и где они находятся\n",
    "# print(data.info()) # еще раз проверяеv\n",
    "display('Пустые до', data['total_income'].isnull().sum())"
   ]
  },
  {
   "cell_type": "markdown",
   "metadata": {},
   "source": [
    "<div class=\"alert alert-info\">\n",
    "<strong>Смотрим категории заемщиков и пропуски</strong> </div>"
   ]
  },
  {
   "cell_type": "code",
   "execution_count": 19,
   "metadata": {},
   "outputs": [
    {
     "data": {
      "text/plain": [
       "сотрудник          11119\n",
       "компаньон           5085\n",
       "пенсионер           3856\n",
       "госслужащий         1459\n",
       "безработный            2\n",
       "предприниматель        2\n",
       "в декрете              1\n",
       "студент                1\n",
       "Name: income_type, dtype: int64"
      ]
     },
     "metadata": {},
     "output_type": "display_data"
    }
   ],
   "source": [
    "display(data['income_type'].value_counts())\n",
    "#data_null_income = data.pivot_table(index = ['income_type'], values = 'total_income', aggfunc = [value_counts, isna])\n",
    "#data_null_income = data.groupby('income_type').agg({'total_income':'isna'})\n",
    "#print(data_null_income)"
   ]
  },
  {
   "cell_type": "markdown",
   "metadata": {},
   "source": [
    "<div class=\"alert alert-info\">\n",
    "    <strong>Смотрим пропуски по типу занятости, может быть они одинаковы для всех и это ошибка , но если нет , чтобы не обрабатывать лишние значения\n",
    "    Выявленная сума пропусков совпадает с data['total_income'].isnull().sum()</strong> </div>\n"
   ]
  },
  {
   "cell_type": "code",
   "execution_count": 20,
   "metadata": {},
   "outputs": [
    {
     "name": "stdout",
     "output_type": "stream",
     "text": [
      "пенсионер False    3443\n",
      "True      413\n",
      "Name: total_income, dtype: int64\n",
      "сотрудник False    10014\n",
      "True      1105\n",
      "Name: total_income, dtype: int64\n",
      "компаньон False    4577\n",
      "True      508\n",
      "Name: total_income, dtype: int64\n",
      "госслужащий False    1312\n",
      "True      147\n",
      "Name: total_income, dtype: int64\n",
      "предприниматель True     1\n",
      "False    1\n",
      "Name: total_income, dtype: int64\n",
      "безработный False    2\n",
      "Name: total_income, dtype: int64\n",
      "в декрете False    1\n",
      "Name: total_income, dtype: int64\n",
      "студент False    1\n",
      "Name: total_income, dtype: int64\n"
     ]
    }
   ],
   "source": [
    "#print(data.info())\n",
    "#data['total_income'] = data['total_income'].astype(int)\n",
    "#print(data.info())\n",
    "print('пенсионер',data.loc[data['income_type'] == 'пенсионер', 'total_income'].isna().value_counts())\n",
    "print('сотрудник',data.loc[data['income_type'] == 'сотрудник', 'total_income'].isna().value_counts())\n",
    "print('компаньон',data.loc[data['income_type'] == 'компаньон', 'total_income'].isna().value_counts())\n",
    "print('госслужащий',data.loc[data['income_type'] == 'госслужащий', 'total_income'].isna().value_counts())\n",
    "print('предприниматель',data.loc[data['income_type'] == 'предприниматель', 'total_income'].isna().value_counts())\n",
    "print('безработный',data.loc[data['income_type'] == 'безработный', 'total_income'].isna().value_counts())\n",
    "print('в декрете',data.loc[data['income_type'] == 'в декрете', 'total_income'].isna().value_counts())\n",
    "print('студент',data.loc[data['income_type'] == 'студент', 'total_income'].isna().value_counts())"
   ]
  },
  {
   "cell_type": "markdown",
   "metadata": {},
   "source": [
    "\n",
    "<div class=\"alert alert-info\">\n",
    "    <strong>Вычисляем медиану для каждой категории заемщиков. . Меняем пропуски в total_income == ....... на  медиану по категориям</strong> </div>"
   ]
  },
  {
   "cell_type": "code",
   "execution_count": 21,
   "metadata": {},
   "outputs": [
    {
     "data": {
      "text/plain": [
       "'Пустые до'"
      ]
     },
     "metadata": {},
     "output_type": "display_data"
    },
    {
     "data": {
      "text/plain": [
       "2174"
      ]
     },
     "metadata": {},
     "output_type": "display_data"
    },
    {
     "name": "stdout",
     "output_type": "stream",
     "text": [
      "Медианная зарплата сотрудник 142594.40\n",
      "Медианная зарплата пенсионер 118514.49\n",
      "Медианная зарплата компаньон 172357.95\n",
      "Медианная зарплата госслужащий 150447.94\n",
      "Медианная зарплата безработный 131339.75\n",
      "Медианная зарплата предприниматель 499163.14\n",
      "Медианная зарплата студент 98201.63\n",
      "Медианная зарплата в декрете 53829.13\n"
     ]
    },
    {
     "data": {
      "text/plain": [
       "'Пустые после'"
      ]
     },
     "metadata": {},
     "output_type": "display_data"
    },
    {
     "data": {
      "text/plain": [
       "0"
      ]
     },
     "metadata": {},
     "output_type": "display_data"
    }
   ],
   "source": [
    "#display('пенсионер',data.loc[data['income_type'] == 'пенсионер', 'total_income'].median())\n",
    "#display('сотрудник',data.loc[data['income_type'] == 'сотрудник', 'total_income'].median())\n",
    "display('Пустые до', data['total_income'].isnull().sum())\n",
    "\n",
    "for _type in data['income_type'].unique():\n",
    "    median = data.loc[data['income_type'] == _type, 'total_income'].median()\n",
    "    print('Медианная зарплата {} {:.2f}'.format(_type, median))\n",
    "    data.loc[(data['total_income'].isna()) & (data['income_type'] == _type), 'total_income'] = median\n",
    "\n",
    "display('Пустые после', data['total_income'].isnull().sum())    "
   ]
  },
  {
   "cell_type": "markdown",
   "metadata": {},
   "source": [
    "<div class=\"alert alert-info\">\n",
    "    \n",
    "# перестают нумероваться ячейки но код дальше исполняется<a id=\"cell1\"></a>     "
   ]
  },
  {
   "cell_type": "markdown",
   "metadata": {},
   "source": [
    "#### Еще раз проверяем"
   ]
  },
  {
   "cell_type": "code",
   "execution_count": 22,
   "metadata": {},
   "outputs": [
    {
     "data": {
      "text/html": [
       "<div>\n",
       "<style scoped>\n",
       "    .dataframe tbody tr th:only-of-type {\n",
       "        vertical-align: middle;\n",
       "    }\n",
       "\n",
       "    .dataframe tbody tr th {\n",
       "        vertical-align: top;\n",
       "    }\n",
       "\n",
       "    .dataframe thead th {\n",
       "        text-align: right;\n",
       "    }\n",
       "</style>\n",
       "<table border=\"1\" class=\"dataframe\">\n",
       "  <thead>\n",
       "    <tr style=\"text-align: right;\">\n",
       "      <th></th>\n",
       "      <th>children</th>\n",
       "      <th>days_employed</th>\n",
       "      <th>dob_years</th>\n",
       "      <th>education</th>\n",
       "      <th>education_id</th>\n",
       "      <th>family_status</th>\n",
       "      <th>family_status_id</th>\n",
       "      <th>gender</th>\n",
       "      <th>income_type</th>\n",
       "      <th>debt</th>\n",
       "      <th>total_income</th>\n",
       "      <th>purpose</th>\n",
       "    </tr>\n",
       "  </thead>\n",
       "  <tbody>\n",
       "    <tr>\n",
       "      <td>0</td>\n",
       "      <td>1</td>\n",
       "      <td>8437.673028</td>\n",
       "      <td>42</td>\n",
       "      <td>высшее</td>\n",
       "      <td>0</td>\n",
       "      <td>женат / замужем</td>\n",
       "      <td>0</td>\n",
       "      <td>F</td>\n",
       "      <td>сотрудник</td>\n",
       "      <td>0</td>\n",
       "      <td>253875.639453</td>\n",
       "      <td>покупка жилья</td>\n",
       "    </tr>\n",
       "    <tr>\n",
       "      <td>1</td>\n",
       "      <td>1</td>\n",
       "      <td>4024.803754</td>\n",
       "      <td>36</td>\n",
       "      <td>среднее</td>\n",
       "      <td>1</td>\n",
       "      <td>женат / замужем</td>\n",
       "      <td>0</td>\n",
       "      <td>F</td>\n",
       "      <td>сотрудник</td>\n",
       "      <td>0</td>\n",
       "      <td>112080.014102</td>\n",
       "      <td>приобретение автомобиля</td>\n",
       "    </tr>\n",
       "    <tr>\n",
       "      <td>2</td>\n",
       "      <td>0</td>\n",
       "      <td>5623.422610</td>\n",
       "      <td>33</td>\n",
       "      <td>Среднее</td>\n",
       "      <td>1</td>\n",
       "      <td>женат / замужем</td>\n",
       "      <td>0</td>\n",
       "      <td>M</td>\n",
       "      <td>сотрудник</td>\n",
       "      <td>0</td>\n",
       "      <td>145885.952297</td>\n",
       "      <td>покупка жилья</td>\n",
       "    </tr>\n",
       "    <tr>\n",
       "      <td>3</td>\n",
       "      <td>3</td>\n",
       "      <td>4124.747207</td>\n",
       "      <td>32</td>\n",
       "      <td>среднее</td>\n",
       "      <td>1</td>\n",
       "      <td>женат / замужем</td>\n",
       "      <td>0</td>\n",
       "      <td>M</td>\n",
       "      <td>сотрудник</td>\n",
       "      <td>0</td>\n",
       "      <td>267628.550329</td>\n",
       "      <td>дополнительное образование</td>\n",
       "    </tr>\n",
       "    <tr>\n",
       "      <td>4</td>\n",
       "      <td>0</td>\n",
       "      <td>2194.220567</td>\n",
       "      <td>53</td>\n",
       "      <td>среднее</td>\n",
       "      <td>1</td>\n",
       "      <td>гражданский брак</td>\n",
       "      <td>1</td>\n",
       "      <td>F</td>\n",
       "      <td>пенсионер</td>\n",
       "      <td>0</td>\n",
       "      <td>158616.077870</td>\n",
       "      <td>сыграть свадьбу</td>\n",
       "    </tr>\n",
       "  </tbody>\n",
       "</table>\n",
       "</div>"
      ],
      "text/plain": [
       "   children  days_employed  dob_years education  education_id  \\\n",
       "0         1    8437.673028         42    высшее             0   \n",
       "1         1    4024.803754         36   среднее             1   \n",
       "2         0    5623.422610         33   Среднее             1   \n",
       "3         3    4124.747207         32   среднее             1   \n",
       "4         0    2194.220567         53   среднее             1   \n",
       "\n",
       "      family_status  family_status_id gender income_type  debt   total_income  \\\n",
       "0   женат / замужем                 0      F   сотрудник     0  253875.639453   \n",
       "1   женат / замужем                 0      F   сотрудник     0  112080.014102   \n",
       "2   женат / замужем                 0      M   сотрудник     0  145885.952297   \n",
       "3   женат / замужем                 0      M   сотрудник     0  267628.550329   \n",
       "4  гражданский брак                 1      F   пенсионер     0  158616.077870   \n",
       "\n",
       "                      purpose  \n",
       "0               покупка жилья  \n",
       "1     приобретение автомобиля  \n",
       "2               покупка жилья  \n",
       "3  дополнительное образование  \n",
       "4             сыграть свадьбу  "
      ]
     },
     "metadata": {},
     "output_type": "display_data"
    }
   ],
   "source": [
    "#data.sort_values(by = 'days_employed', ascending = False).tail(15)\n",
    "data.sort_values(by = 'total_income', ascending = False).tail(10) \n",
    "display(data.head())"
   ]
  },
  {
   "cell_type": "markdown",
   "metadata": {},
   "source": [
    "### Вывод"
   ]
  },
  {
   "cell_type": "markdown",
   "metadata": {},
   "source": [
    "**Заменяем пропущенные данные столбцов days_employed — общий трудовой стаж в днях и total_income — ежемесячный доход  на медиану столбца, так как это возможно реальные клиенты с реальными показателями, Существование стажа в 1 тысчу лет маловероятно, наличие таких цир связано скорее всего с технической ошибкой , возможно обьеденили 2 базы в одной из которых стаж считался в часах или минутах поэтому так же как и пропуски меняем всплески на медианные значения**\n"
   ]
  },
  {
   "cell_type": "markdown",
   "metadata": {},
   "source": [
    "### Замена типа данных"
   ]
  },
  {
   "cell_type": "markdown",
   "metadata": {},
   "source": [
    "#### Меняем тип данных  в столбцах data['days_employed'] и data['total_income'] с float на int"
   ]
  },
  {
   "cell_type": "code",
   "execution_count": 23,
   "metadata": {},
   "outputs": [
    {
     "name": "stdout",
     "output_type": "stream",
     "text": [
      "<class 'pandas.core.frame.DataFrame'>\n",
      "RangeIndex: 21525 entries, 0 to 21524\n",
      "Data columns (total 12 columns):\n",
      "children            21525 non-null int64\n",
      "days_employed       21525 non-null int64\n",
      "dob_years           21525 non-null int64\n",
      "education           21525 non-null object\n",
      "education_id        21525 non-null int64\n",
      "family_status       21525 non-null object\n",
      "family_status_id    21525 non-null int64\n",
      "gender              21525 non-null object\n",
      "income_type         21525 non-null object\n",
      "debt                21525 non-null int64\n",
      "total_income        21525 non-null int64\n",
      "purpose             21525 non-null object\n",
      "dtypes: int64(7), object(5)\n",
      "memory usage: 2.0+ MB\n",
      "None\n"
     ]
    }
   ],
   "source": [
    "data['days_employed'] = data['days_employed'].astype(int) # меняем в столбце data['days_employed'] \n",
    "#вещественый тип float64 на int64\n",
    "data['total_income'] = data['total_income'].astype(int) # меняем в столбце data['days_employed']\n",
    "print(data.info())\n",
    "#data[data.duplicated(keep = False)].sort_values(by = data.columns.values.tolist())\n"
   ]
  },
  {
   "cell_type": "markdown",
   "metadata": {},
   "source": [
    "#### Еще метод Он превращает значения столбца в числовые типы float64 (вещественное число) или int64 (целое число) в зависимости от исходного значения.\n",
    "У метода to_numeric() есть параметр errors. \n",
    "От значений, принимаемых errors, зависят действия to_numeric при встрече с некорректным значением:\n",
    "`errors=raise' — дефолтное поведение: при встрече с некорректным значением выдаётся ошибка, операция перевода в числа прерывается  \n",
    "`errors=coerce` — некорректные значения принудительно заменяются на NaN  \n",
    "`errors=ignore` — некорректные значения игнорируются, но остаются  \n",
    "https://praktikum.yandex.ru/trainer/data-analyst/lesson/208f2480-b9b2-4da3-bb77-2269882bdda5/task/11d58dfe-e6c3-46a9-929a-bdd252a53420/"
   ]
  },
  {
   "cell_type": "code",
   "execution_count": 24,
   "metadata": {},
   "outputs": [],
   "source": [
    "#transactions['amount'] = pd.to_numeric(transactions['amount'], errors='coerce')"
   ]
  },
  {
   "cell_type": "markdown",
   "metadata": {},
   "source": [
    "### Вывод"
   ]
  },
  {
   "cell_type": "markdown",
   "metadata": {},
   "source": [
    "**В столбцах days_employed и total_income содержаться данные вещественного типа (float), а должны быть целочисленные тк врядли зарплата указывается до ста тысячных долей рубля и отработанные дни тоже\n",
    "использован метод astype**"
   ]
  },
  {
   "cell_type": "markdown",
   "metadata": {},
   "source": [
    "### Обработка дубликатов"
   ]
  },
  {
   "cell_type": "markdown",
   "metadata": {},
   "source": [
    "#### выводим сумму дубликатов"
   ]
  },
  {
   "cell_type": "code",
   "execution_count": 25,
   "metadata": {},
   "outputs": [
    {
     "name": "stdout",
     "output_type": "stream",
     "text": [
      "54\n"
     ]
    },
    {
     "data": {
      "text/html": [
       "<div>\n",
       "<style scoped>\n",
       "    .dataframe tbody tr th:only-of-type {\n",
       "        vertical-align: middle;\n",
       "    }\n",
       "\n",
       "    .dataframe tbody tr th {\n",
       "        vertical-align: top;\n",
       "    }\n",
       "\n",
       "    .dataframe thead th {\n",
       "        text-align: right;\n",
       "    }\n",
       "</style>\n",
       "<table border=\"1\" class=\"dataframe\">\n",
       "  <thead>\n",
       "    <tr style=\"text-align: right;\">\n",
       "      <th></th>\n",
       "      <th>children</th>\n",
       "      <th>days_employed</th>\n",
       "      <th>dob_years</th>\n",
       "      <th>education</th>\n",
       "      <th>education_id</th>\n",
       "      <th>family_status</th>\n",
       "      <th>family_status_id</th>\n",
       "      <th>gender</th>\n",
       "      <th>income_type</th>\n",
       "      <th>debt</th>\n",
       "      <th>total_income</th>\n",
       "      <th>purpose</th>\n",
       "    </tr>\n",
       "  </thead>\n",
       "  <tbody>\n",
       "    <tr>\n",
       "      <td>0</td>\n",
       "      <td>1</td>\n",
       "      <td>8437</td>\n",
       "      <td>42</td>\n",
       "      <td>высшее</td>\n",
       "      <td>0</td>\n",
       "      <td>женат / замужем</td>\n",
       "      <td>0</td>\n",
       "      <td>F</td>\n",
       "      <td>сотрудник</td>\n",
       "      <td>0</td>\n",
       "      <td>253875</td>\n",
       "      <td>покупка жилья</td>\n",
       "    </tr>\n",
       "    <tr>\n",
       "      <td>1</td>\n",
       "      <td>1</td>\n",
       "      <td>4024</td>\n",
       "      <td>36</td>\n",
       "      <td>среднее</td>\n",
       "      <td>1</td>\n",
       "      <td>женат / замужем</td>\n",
       "      <td>0</td>\n",
       "      <td>F</td>\n",
       "      <td>сотрудник</td>\n",
       "      <td>0</td>\n",
       "      <td>112080</td>\n",
       "      <td>приобретение автомобиля</td>\n",
       "    </tr>\n",
       "    <tr>\n",
       "      <td>2</td>\n",
       "      <td>0</td>\n",
       "      <td>5623</td>\n",
       "      <td>33</td>\n",
       "      <td>Среднее</td>\n",
       "      <td>1</td>\n",
       "      <td>женат / замужем</td>\n",
       "      <td>0</td>\n",
       "      <td>M</td>\n",
       "      <td>сотрудник</td>\n",
       "      <td>0</td>\n",
       "      <td>145885</td>\n",
       "      <td>покупка жилья</td>\n",
       "    </tr>\n",
       "    <tr>\n",
       "      <td>3</td>\n",
       "      <td>3</td>\n",
       "      <td>4124</td>\n",
       "      <td>32</td>\n",
       "      <td>среднее</td>\n",
       "      <td>1</td>\n",
       "      <td>женат / замужем</td>\n",
       "      <td>0</td>\n",
       "      <td>M</td>\n",
       "      <td>сотрудник</td>\n",
       "      <td>0</td>\n",
       "      <td>267628</td>\n",
       "      <td>дополнительное образование</td>\n",
       "    </tr>\n",
       "    <tr>\n",
       "      <td>4</td>\n",
       "      <td>0</td>\n",
       "      <td>2194</td>\n",
       "      <td>53</td>\n",
       "      <td>среднее</td>\n",
       "      <td>1</td>\n",
       "      <td>гражданский брак</td>\n",
       "      <td>1</td>\n",
       "      <td>F</td>\n",
       "      <td>пенсионер</td>\n",
       "      <td>0</td>\n",
       "      <td>158616</td>\n",
       "      <td>сыграть свадьбу</td>\n",
       "    </tr>\n",
       "  </tbody>\n",
       "</table>\n",
       "</div>"
      ],
      "text/plain": [
       "   children  days_employed  dob_years education  education_id  \\\n",
       "0         1           8437         42    высшее             0   \n",
       "1         1           4024         36   среднее             1   \n",
       "2         0           5623         33   Среднее             1   \n",
       "3         3           4124         32   среднее             1   \n",
       "4         0           2194         53   среднее             1   \n",
       "\n",
       "      family_status  family_status_id gender income_type  debt  total_income  \\\n",
       "0   женат / замужем                 0      F   сотрудник     0        253875   \n",
       "1   женат / замужем                 0      F   сотрудник     0        112080   \n",
       "2   женат / замужем                 0      M   сотрудник     0        145885   \n",
       "3   женат / замужем                 0      M   сотрудник     0        267628   \n",
       "4  гражданский брак                 1      F   пенсионер     0        158616   \n",
       "\n",
       "                      purpose  \n",
       "0               покупка жилья  \n",
       "1     приобретение автомобиля  \n",
       "2               покупка жилья  \n",
       "3  дополнительное образование  \n",
       "4             сыграть свадьбу  "
      ]
     },
     "metadata": {},
     "output_type": "display_data"
    }
   ],
   "source": [
    "#print(data.duplicated())\n",
    "# print('________________________________')\n",
    "print(data.duplicated().sum())\n",
    "display(data.head())"
   ]
  },
  {
   "cell_type": "markdown",
   "metadata": {},
   "source": [
    "#### Чтобы посмотреть все дубли можно сделать вот так. keep = False значит \"оставь все дубликаты\". \n",
    "**По умолчанию duplicated оставляет только первые совпадения.**"
   ]
  },
  {
   "cell_type": "code",
   "execution_count": 26,
   "metadata": {},
   "outputs": [],
   "source": [
    "#print(data[data.duplicted(keep = False)].sort_values(by = data.columns.values.tolist()))"
   ]
  },
  {
   "cell_type": "markdown",
   "metadata": {},
   "source": [
    "<div class=\"alert alert-info\" role=\"alert\">\n",
    "<strong>Ок проверим тип `object`</strong> </div>\n"
   ]
  },
  {
   "cell_type": "code",
   "execution_count": 27,
   "metadata": {},
   "outputs": [
    {
     "data": {
      "text/plain": [
       "среднее                13750\n",
       "высшее                  4718\n",
       "СРЕДНЕЕ                  772\n",
       "Среднее                  711\n",
       "неоконченное высшее      668\n",
       "ВЫСШЕЕ                   274\n",
       "Высшее                   268\n",
       "начальное                250\n",
       "Неоконченное высшее       47\n",
       "НЕОКОНЧЕННОЕ ВЫСШЕЕ       29\n",
       "НАЧАЛЬНОЕ                 17\n",
       "Начальное                 15\n",
       "ученая степень             4\n",
       "Ученая степень             1\n",
       "УЧЕНАЯ СТЕПЕНЬ             1\n",
       "Name: education, dtype: int64"
      ]
     },
     "metadata": {},
     "output_type": "display_data"
    },
    {
     "name": "stdout",
     "output_type": "stream",
     "text": [
      "__________________________________\n"
     ]
    },
    {
     "data": {
      "text/plain": [
       "женат / замужем          12380\n",
       "гражданский брак          4177\n",
       "Не женат / не замужем     2813\n",
       "в разводе                 1195\n",
       "вдовец / вдова             960\n",
       "Name: family_status, dtype: int64"
      ]
     },
     "metadata": {},
     "output_type": "display_data"
    },
    {
     "name": "stdout",
     "output_type": "stream",
     "text": [
      "__________________________________\n"
     ]
    },
    {
     "data": {
      "text/plain": [
       "сотрудник          11119\n",
       "компаньон           5085\n",
       "пенсионер           3856\n",
       "госслужащий         1459\n",
       "безработный            2\n",
       "предприниматель        2\n",
       "в декрете              1\n",
       "студент                1\n",
       "Name: income_type, dtype: int64"
      ]
     },
     "metadata": {},
     "output_type": "display_data"
    },
    {
     "name": "stdout",
     "output_type": "stream",
     "text": [
      "__________________________________\n"
     ]
    },
    {
     "data": {
      "text/plain": [
       "свадьба                                   797\n",
       "на проведение свадьбы                     777\n",
       "сыграть свадьбу                           774\n",
       "операции с недвижимостью                  676\n",
       "покупка коммерческой недвижимости         664\n",
       "покупка жилья для сдачи                   653\n",
       "операции с жильем                         653\n",
       "операции с коммерческой недвижимостью     651\n",
       "жилье                                     647\n",
       "покупка жилья                             647\n",
       "покупка жилья для семьи                   641\n",
       "строительство собственной недвижимости    635\n",
       "недвижимость                              634\n",
       "операции со своей недвижимостью           630\n",
       "строительство жилой недвижимости          626\n",
       "покупка недвижимости                      624\n",
       "покупка своего жилья                      620\n",
       "строительство недвижимости                620\n",
       "ремонт жилью                              612\n",
       "покупка жилой недвижимости                607\n",
       "на покупку своего автомобиля              505\n",
       "заняться высшим образованием              496\n",
       "автомобиль                                495\n",
       "сделка с подержанным автомобилем          489\n",
       "свой автомобиль                           480\n",
       "на покупку подержанного автомобиля        479\n",
       "автомобили                                478\n",
       "на покупку автомобиля                     472\n",
       "приобретение автомобиля                   462\n",
       "дополнительное образование                462\n",
       "сделка с автомобилем                      455\n",
       "высшее образование                        453\n",
       "получение дополнительного образования     447\n",
       "образование                               447\n",
       "получение образования                     443\n",
       "профильное образование                    436\n",
       "получение высшего образования             426\n",
       "заняться образованием                     412\n",
       "Name: purpose, dtype: int64"
      ]
     },
     "metadata": {},
     "output_type": "display_data"
    }
   ],
   "source": [
    "display(data['education'].value_counts())\n",
    "print('__________________________________')\n",
    "display(data['family_status'].value_counts())\n",
    "print('__________________________________')\n",
    "display(data['income_type'].value_counts())\n",
    "print('__________________________________')\n",
    "display(data['purpose'].value_counts())\n"
   ]
  },
  {
   "cell_type": "markdown",
   "metadata": {},
   "source": [
    "<div class=\"alert alert-info\">\n",
    "<strong>Да действительно в образовании и семейном положении регистр гуляет, что повлияет на дальнейшую\n",
    "обработку и анализ данных приводим всё к нижнему регистру </strong> </div>"
   ]
  },
  {
   "cell_type": "code",
   "execution_count": 28,
   "metadata": {},
   "outputs": [],
   "source": [
    "data['education'] = data['education'].str.lower()\n",
    "data['family_status'] = data['family_status'].str.lower()"
   ]
  },
  {
   "cell_type": "markdown",
   "metadata": {},
   "source": [
    "<div class=\"alert alert-info\">\n",
    "<strong>проверяем все ли изменилось</strong> </div>"
   ]
  },
  {
   "cell_type": "code",
   "execution_count": 29,
   "metadata": {},
   "outputs": [
    {
     "data": {
      "text/plain": [
       "среднее                15233\n",
       "высшее                  5260\n",
       "неоконченное высшее      744\n",
       "начальное                282\n",
       "ученая степень             6\n",
       "Name: education, dtype: int64"
      ]
     },
     "metadata": {},
     "output_type": "display_data"
    },
    {
     "name": "stdout",
     "output_type": "stream",
     "text": [
      "__________________________________\n"
     ]
    },
    {
     "data": {
      "text/plain": [
       "женат / замужем          12380\n",
       "гражданский брак          4177\n",
       "не женат / не замужем     2813\n",
       "в разводе                 1195\n",
       "вдовец / вдова             960\n",
       "Name: family_status, dtype: int64"
      ]
     },
     "metadata": {},
     "output_type": "display_data"
    }
   ],
   "source": [
    "display(data['education'].value_counts())\n",
    "print('__________________________________')\n",
    "display(data['family_status'].value_counts())"
   ]
  },
  {
   "cell_type": "markdown",
   "metadata": {},
   "source": [
    "<div class=\"alert alert-info\">\n",
    "    <strong>да , все в порядке</strong> </div>"
   ]
  },
  {
   "cell_type": "markdown",
   "metadata": {},
   "source": [
    "#### удаляем дубликаты"
   ]
  },
  {
   "cell_type": "code",
   "execution_count": 30,
   "metadata": {},
   "outputs": [],
   "source": [
    "data = data.drop_duplicates().reset_index(drop=True)"
   ]
  },
  {
   "cell_type": "markdown",
   "metadata": {},
   "source": [
    "<div class=\"alert alert-info\">\n",
    "<strong>Да действительно в образовании и семейном положении регистр гуляет, что повлияет на дальнейшую\n",
    "обработку и анализ данных приводим всё к нижнему регистру </strong> </div>"
   ]
  },
  {
   "cell_type": "markdown",
   "metadata": {},
   "source": [
    "#### проверяем удаление"
   ]
  },
  {
   "cell_type": "code",
   "execution_count": 31,
   "metadata": {},
   "outputs": [
    {
     "name": "stdout",
     "output_type": "stream",
     "text": [
      "0\n",
      "Empty DataFrame\n",
      "Columns: [children, days_employed, dob_years, education, education_id, family_status, family_status_id, gender, income_type, debt, total_income, purpose]\n",
      "Index: []\n"
     ]
    },
    {
     "data": {
      "text/html": [
       "<div>\n",
       "<style scoped>\n",
       "    .dataframe tbody tr th:only-of-type {\n",
       "        vertical-align: middle;\n",
       "    }\n",
       "\n",
       "    .dataframe tbody tr th {\n",
       "        vertical-align: top;\n",
       "    }\n",
       "\n",
       "    .dataframe thead th {\n",
       "        text-align: right;\n",
       "    }\n",
       "</style>\n",
       "<table border=\"1\" class=\"dataframe\">\n",
       "  <thead>\n",
       "    <tr style=\"text-align: right;\">\n",
       "      <th></th>\n",
       "      <th>children</th>\n",
       "      <th>days_employed</th>\n",
       "      <th>dob_years</th>\n",
       "      <th>education</th>\n",
       "      <th>education_id</th>\n",
       "      <th>family_status</th>\n",
       "      <th>family_status_id</th>\n",
       "      <th>gender</th>\n",
       "      <th>income_type</th>\n",
       "      <th>debt</th>\n",
       "      <th>total_income</th>\n",
       "      <th>purpose</th>\n",
       "    </tr>\n",
       "  </thead>\n",
       "  <tbody>\n",
       "    <tr>\n",
       "      <td>0</td>\n",
       "      <td>1</td>\n",
       "      <td>8437</td>\n",
       "      <td>42</td>\n",
       "      <td>высшее</td>\n",
       "      <td>0</td>\n",
       "      <td>женат / замужем</td>\n",
       "      <td>0</td>\n",
       "      <td>F</td>\n",
       "      <td>сотрудник</td>\n",
       "      <td>0</td>\n",
       "      <td>253875</td>\n",
       "      <td>покупка жилья</td>\n",
       "    </tr>\n",
       "    <tr>\n",
       "      <td>1</td>\n",
       "      <td>1</td>\n",
       "      <td>4024</td>\n",
       "      <td>36</td>\n",
       "      <td>среднее</td>\n",
       "      <td>1</td>\n",
       "      <td>женат / замужем</td>\n",
       "      <td>0</td>\n",
       "      <td>F</td>\n",
       "      <td>сотрудник</td>\n",
       "      <td>0</td>\n",
       "      <td>112080</td>\n",
       "      <td>приобретение автомобиля</td>\n",
       "    </tr>\n",
       "    <tr>\n",
       "      <td>2</td>\n",
       "      <td>0</td>\n",
       "      <td>5623</td>\n",
       "      <td>33</td>\n",
       "      <td>среднее</td>\n",
       "      <td>1</td>\n",
       "      <td>женат / замужем</td>\n",
       "      <td>0</td>\n",
       "      <td>M</td>\n",
       "      <td>сотрудник</td>\n",
       "      <td>0</td>\n",
       "      <td>145885</td>\n",
       "      <td>покупка жилья</td>\n",
       "    </tr>\n",
       "    <tr>\n",
       "      <td>3</td>\n",
       "      <td>3</td>\n",
       "      <td>4124</td>\n",
       "      <td>32</td>\n",
       "      <td>среднее</td>\n",
       "      <td>1</td>\n",
       "      <td>женат / замужем</td>\n",
       "      <td>0</td>\n",
       "      <td>M</td>\n",
       "      <td>сотрудник</td>\n",
       "      <td>0</td>\n",
       "      <td>267628</td>\n",
       "      <td>дополнительное образование</td>\n",
       "    </tr>\n",
       "    <tr>\n",
       "      <td>4</td>\n",
       "      <td>0</td>\n",
       "      <td>2194</td>\n",
       "      <td>53</td>\n",
       "      <td>среднее</td>\n",
       "      <td>1</td>\n",
       "      <td>гражданский брак</td>\n",
       "      <td>1</td>\n",
       "      <td>F</td>\n",
       "      <td>пенсионер</td>\n",
       "      <td>0</td>\n",
       "      <td>158616</td>\n",
       "      <td>сыграть свадьбу</td>\n",
       "    </tr>\n",
       "  </tbody>\n",
       "</table>\n",
       "</div>"
      ],
      "text/plain": [
       "   children  days_employed  dob_years education  education_id  \\\n",
       "0         1           8437         42    высшее             0   \n",
       "1         1           4024         36   среднее             1   \n",
       "2         0           5623         33   среднее             1   \n",
       "3         3           4124         32   среднее             1   \n",
       "4         0           2194         53   среднее             1   \n",
       "\n",
       "      family_status  family_status_id gender income_type  debt  total_income  \\\n",
       "0   женат / замужем                 0      F   сотрудник     0        253875   \n",
       "1   женат / замужем                 0      F   сотрудник     0        112080   \n",
       "2   женат / замужем                 0      M   сотрудник     0        145885   \n",
       "3   женат / замужем                 0      M   сотрудник     0        267628   \n",
       "4  гражданский брак                 1      F   пенсионер     0        158616   \n",
       "\n",
       "                      purpose  \n",
       "0               покупка жилья  \n",
       "1     приобретение автомобиля  \n",
       "2               покупка жилья  \n",
       "3  дополнительное образование  \n",
       "4             сыграть свадьбу  "
      ]
     },
     "metadata": {},
     "output_type": "display_data"
    }
   ],
   "source": [
    "print(data.duplicated().sum()) # проверяем удалились ли дубликаты\n",
    "#:\n",
    "print(data[data.duplicated(keep = False)].sort_values(by = data.columns.values.tolist()))\n",
    "display(data.head())\n"
   ]
  },
  {
   "cell_type": "markdown",
   "metadata": {},
   "source": [
    "### Вывод"
   ]
  },
  {
   "cell_type": "markdown",
   "metadata": {},
   "source": [
    "**Дубликаты найдены, но вопрос в том стоит ли их удалять мб это совпадения реальных клиентов, а может быть и нет. Но я думаю что при таком количестве различных данных для каждого клиента реальные совпадения врядли возможны, поэтому удалил дубликаты. Причина возникновения , возможно ошибка оператора который их вносил. Либо если обьеденялись несколько баз в одну были внесены одни и теже клиенты. Также обнаружены внесения данных в разных регистрах**"
   ]
  },
  {
   "cell_type": "markdown",
   "metadata": {},
   "source": [
    "### Лемматизация"
   ]
  },
  {
   "cell_type": "markdown",
   "metadata": {},
   "source": [
    "#### импортируем библиотеки"
   ]
  },
  {
   "cell_type": "code",
   "execution_count": 32,
   "metadata": {},
   "outputs": [
    {
     "name": "stdout",
     "output_type": "stream",
     "text": [
      "['дополнительный', ' ', 'образование', '\\n']\n",
      "21454\n"
     ]
    }
   ],
   "source": [
    "m = Mystem()\n",
    "lemmas = m.lemmatize(data['purpose'][3])\n",
    "print(lemmas)\n",
    "print(len(data['purpose']))"
   ]
  },
  {
   "cell_type": "markdown",
   "metadata": {},
   "source": [
    "#### берем только уникальные значения без дубликатов , уменьшаем размер списка"
   ]
  },
  {
   "cell_type": "code",
   "execution_count": 33,
   "metadata": {},
   "outputs": [
    {
     "name": "stdout",
     "output_type": "stream",
     "text": [
      "['покупка жилья' 'приобретение автомобиля' 'дополнительное образование'\n",
      " 'сыграть свадьбу' 'операции с жильем' 'образование'\n",
      " 'на проведение свадьбы' 'покупка жилья для семьи' 'покупка недвижимости'\n",
      " 'покупка коммерческой недвижимости' 'покупка жилой недвижимости'\n",
      " 'строительство собственной недвижимости' 'недвижимость'\n",
      " 'строительство недвижимости' 'на покупку подержанного автомобиля'\n",
      " 'на покупку своего автомобиля' 'операции с коммерческой недвижимостью'\n",
      " 'строительство жилой недвижимости' 'жилье'\n",
      " 'операции со своей недвижимостью' 'автомобили' 'заняться образованием'\n",
      " 'сделка с подержанным автомобилем' 'получение образования' 'автомобиль'\n",
      " 'свадьба' 'получение дополнительного образования' 'покупка своего жилья'\n",
      " 'операции с недвижимостью' 'получение высшего образования'\n",
      " 'свой автомобиль' 'сделка с автомобилем' 'профильное образование'\n",
      " 'высшее образование' 'покупка жилья для сдачи' 'на покупку автомобиля'\n",
      " 'ремонт жилью' 'заняться высшим образованием']\n"
     ]
    }
   ],
   "source": [
    "uniq_purpose = data['purpose'].unique()\n",
    "print(uniq_purpose)\n",
    "#print(data['purpose'])\n"
   ]
  },
  {
   "cell_type": "markdown",
   "metadata": {},
   "source": [
    "#### преобразуем массив в питоновский лист"
   ]
  },
  {
   "cell_type": "code",
   "execution_count": 34,
   "metadata": {},
   "outputs": [
    {
     "name": "stdout",
     "output_type": "stream",
     "text": [
      "['покупка жилья', 'приобретение автомобиля', 'дополнительное образование', 'сыграть свадьбу', 'операции с жильем', 'образование', 'на проведение свадьбы', 'покупка жилья для семьи', 'покупка недвижимости', 'покупка коммерческой недвижимости', 'покупка жилой недвижимости', 'строительство собственной недвижимости', 'недвижимость', 'строительство недвижимости', 'на покупку подержанного автомобиля', 'на покупку своего автомобиля', 'операции с коммерческой недвижимостью', 'строительство жилой недвижимости', 'жилье', 'операции со своей недвижимостью', 'автомобили', 'заняться образованием', 'сделка с подержанным автомобилем', 'получение образования', 'автомобиль', 'свадьба', 'получение дополнительного образования', 'покупка своего жилья', 'операции с недвижимостью', 'получение высшего образования', 'свой автомобиль', 'сделка с автомобилем', 'профильное образование', 'высшее образование', 'покупка жилья для сдачи', 'на покупку автомобиля', 'ремонт жилью', 'заняться высшим образованием']\n"
     ]
    }
   ],
   "source": [
    "uniq_purpose = uniq_purpose.tolist()\n",
    "print(uniq_purpose)"
   ]
  },
  {
   "cell_type": "markdown",
   "metadata": {},
   "source": [
    "#### Функция для Лемматизации элементов массива uniq_purpose, используем extend вместо append и формируем переменную а не массив,\n",
    "еще ---- m.lemmatize(' '.join(data['purpose'])) рекомендован еще такой вариант"
   ]
  },
  {
   "cell_type": "code",
   "execution_count": 35,
   "metadata": {},
   "outputs": [
    {
     "name": "stdout",
     "output_type": "stream",
     "text": [
      "['покупка', ' ', 'жилье', '\\n']\n",
      "['покупка', ' ', 'жилье', '\\n', 'приобретение', ' ', 'автомобиль', '\\n']\n",
      "['покупка', ' ', 'жилье', '\\n', 'приобретение', ' ', 'автомобиль', '\\n', 'дополнительный', ' ', 'образование', '\\n']\n",
      "['покупка', ' ', 'жилье', '\\n', 'приобретение', ' ', 'автомобиль', '\\n', 'дополнительный', ' ', 'образование', '\\n', 'сыграть', ' ', 'свадьба', '\\n']\n",
      "['покупка', ' ', 'жилье', '\\n', 'приобретение', ' ', 'автомобиль', '\\n', 'дополнительный', ' ', 'образование', '\\n', 'сыграть', ' ', 'свадьба', '\\n', 'операция', ' ', 'с', ' ', 'жилье', '\\n']\n",
      "['покупка', ' ', 'жилье', '\\n', 'приобретение', ' ', 'автомобиль', '\\n', 'дополнительный', ' ', 'образование', '\\n', 'сыграть', ' ', 'свадьба', '\\n', 'операция', ' ', 'с', ' ', 'жилье', '\\n', 'образование', '\\n']\n",
      "['покупка', ' ', 'жилье', '\\n', 'приобретение', ' ', 'автомобиль', '\\n', 'дополнительный', ' ', 'образование', '\\n', 'сыграть', ' ', 'свадьба', '\\n', 'операция', ' ', 'с', ' ', 'жилье', '\\n', 'образование', '\\n', 'на', ' ', 'проведение', ' ', 'свадьба', '\\n']\n",
      "['покупка', ' ', 'жилье', '\\n', 'приобретение', ' ', 'автомобиль', '\\n', 'дополнительный', ' ', 'образование', '\\n', 'сыграть', ' ', 'свадьба', '\\n', 'операция', ' ', 'с', ' ', 'жилье', '\\n', 'образование', '\\n', 'на', ' ', 'проведение', ' ', 'свадьба', '\\n', 'покупка', ' ', 'жилье', ' ', 'для', ' ', 'семья', '\\n']\n",
      "['покупка', ' ', 'жилье', '\\n', 'приобретение', ' ', 'автомобиль', '\\n', 'дополнительный', ' ', 'образование', '\\n', 'сыграть', ' ', 'свадьба', '\\n', 'операция', ' ', 'с', ' ', 'жилье', '\\n', 'образование', '\\n', 'на', ' ', 'проведение', ' ', 'свадьба', '\\n', 'покупка', ' ', 'жилье', ' ', 'для', ' ', 'семья', '\\n', 'покупка', ' ', 'недвижимость', '\\n']\n",
      "['покупка', ' ', 'жилье', '\\n', 'приобретение', ' ', 'автомобиль', '\\n', 'дополнительный', ' ', 'образование', '\\n', 'сыграть', ' ', 'свадьба', '\\n', 'операция', ' ', 'с', ' ', 'жилье', '\\n', 'образование', '\\n', 'на', ' ', 'проведение', ' ', 'свадьба', '\\n', 'покупка', ' ', 'жилье', ' ', 'для', ' ', 'семья', '\\n', 'покупка', ' ', 'недвижимость', '\\n', 'покупка', ' ', 'коммерческий', ' ', 'недвижимость', '\\n']\n",
      "['покупка', ' ', 'жилье', '\\n', 'приобретение', ' ', 'автомобиль', '\\n', 'дополнительный', ' ', 'образование', '\\n', 'сыграть', ' ', 'свадьба', '\\n', 'операция', ' ', 'с', ' ', 'жилье', '\\n', 'образование', '\\n', 'на', ' ', 'проведение', ' ', 'свадьба', '\\n', 'покупка', ' ', 'жилье', ' ', 'для', ' ', 'семья', '\\n', 'покупка', ' ', 'недвижимость', '\\n', 'покупка', ' ', 'коммерческий', ' ', 'недвижимость', '\\n', 'покупка', ' ', 'жилой', ' ', 'недвижимость', '\\n']\n",
      "['покупка', ' ', 'жилье', '\\n', 'приобретение', ' ', 'автомобиль', '\\n', 'дополнительный', ' ', 'образование', '\\n', 'сыграть', ' ', 'свадьба', '\\n', 'операция', ' ', 'с', ' ', 'жилье', '\\n', 'образование', '\\n', 'на', ' ', 'проведение', ' ', 'свадьба', '\\n', 'покупка', ' ', 'жилье', ' ', 'для', ' ', 'семья', '\\n', 'покупка', ' ', 'недвижимость', '\\n', 'покупка', ' ', 'коммерческий', ' ', 'недвижимость', '\\n', 'покупка', ' ', 'жилой', ' ', 'недвижимость', '\\n', 'строительство', ' ', 'собственный', ' ', 'недвижимость', '\\n']\n",
      "['покупка', ' ', 'жилье', '\\n', 'приобретение', ' ', 'автомобиль', '\\n', 'дополнительный', ' ', 'образование', '\\n', 'сыграть', ' ', 'свадьба', '\\n', 'операция', ' ', 'с', ' ', 'жилье', '\\n', 'образование', '\\n', 'на', ' ', 'проведение', ' ', 'свадьба', '\\n', 'покупка', ' ', 'жилье', ' ', 'для', ' ', 'семья', '\\n', 'покупка', ' ', 'недвижимость', '\\n', 'покупка', ' ', 'коммерческий', ' ', 'недвижимость', '\\n', 'покупка', ' ', 'жилой', ' ', 'недвижимость', '\\n', 'строительство', ' ', 'собственный', ' ', 'недвижимость', '\\n', 'недвижимость', '\\n']\n",
      "['покупка', ' ', 'жилье', '\\n', 'приобретение', ' ', 'автомобиль', '\\n', 'дополнительный', ' ', 'образование', '\\n', 'сыграть', ' ', 'свадьба', '\\n', 'операция', ' ', 'с', ' ', 'жилье', '\\n', 'образование', '\\n', 'на', ' ', 'проведение', ' ', 'свадьба', '\\n', 'покупка', ' ', 'жилье', ' ', 'для', ' ', 'семья', '\\n', 'покупка', ' ', 'недвижимость', '\\n', 'покупка', ' ', 'коммерческий', ' ', 'недвижимость', '\\n', 'покупка', ' ', 'жилой', ' ', 'недвижимость', '\\n', 'строительство', ' ', 'собственный', ' ', 'недвижимость', '\\n', 'недвижимость', '\\n', 'строительство', ' ', 'недвижимость', '\\n']\n",
      "['покупка', ' ', 'жилье', '\\n', 'приобретение', ' ', 'автомобиль', '\\n', 'дополнительный', ' ', 'образование', '\\n', 'сыграть', ' ', 'свадьба', '\\n', 'операция', ' ', 'с', ' ', 'жилье', '\\n', 'образование', '\\n', 'на', ' ', 'проведение', ' ', 'свадьба', '\\n', 'покупка', ' ', 'жилье', ' ', 'для', ' ', 'семья', '\\n', 'покупка', ' ', 'недвижимость', '\\n', 'покупка', ' ', 'коммерческий', ' ', 'недвижимость', '\\n', 'покупка', ' ', 'жилой', ' ', 'недвижимость', '\\n', 'строительство', ' ', 'собственный', ' ', 'недвижимость', '\\n', 'недвижимость', '\\n', 'строительство', ' ', 'недвижимость', '\\n', 'на', ' ', 'покупка', ' ', 'подержать', ' ', 'автомобиль', '\\n']\n",
      "['покупка', ' ', 'жилье', '\\n', 'приобретение', ' ', 'автомобиль', '\\n', 'дополнительный', ' ', 'образование', '\\n', 'сыграть', ' ', 'свадьба', '\\n', 'операция', ' ', 'с', ' ', 'жилье', '\\n', 'образование', '\\n', 'на', ' ', 'проведение', ' ', 'свадьба', '\\n', 'покупка', ' ', 'жилье', ' ', 'для', ' ', 'семья', '\\n', 'покупка', ' ', 'недвижимость', '\\n', 'покупка', ' ', 'коммерческий', ' ', 'недвижимость', '\\n', 'покупка', ' ', 'жилой', ' ', 'недвижимость', '\\n', 'строительство', ' ', 'собственный', ' ', 'недвижимость', '\\n', 'недвижимость', '\\n', 'строительство', ' ', 'недвижимость', '\\n', 'на', ' ', 'покупка', ' ', 'подержать', ' ', 'автомобиль', '\\n', 'на', ' ', 'покупка', ' ', 'свой', ' ', 'автомобиль', '\\n']\n",
      "['покупка', ' ', 'жилье', '\\n', 'приобретение', ' ', 'автомобиль', '\\n', 'дополнительный', ' ', 'образование', '\\n', 'сыграть', ' ', 'свадьба', '\\n', 'операция', ' ', 'с', ' ', 'жилье', '\\n', 'образование', '\\n', 'на', ' ', 'проведение', ' ', 'свадьба', '\\n', 'покупка', ' ', 'жилье', ' ', 'для', ' ', 'семья', '\\n', 'покупка', ' ', 'недвижимость', '\\n', 'покупка', ' ', 'коммерческий', ' ', 'недвижимость', '\\n', 'покупка', ' ', 'жилой', ' ', 'недвижимость', '\\n', 'строительство', ' ', 'собственный', ' ', 'недвижимость', '\\n', 'недвижимость', '\\n', 'строительство', ' ', 'недвижимость', '\\n', 'на', ' ', 'покупка', ' ', 'подержать', ' ', 'автомобиль', '\\n', 'на', ' ', 'покупка', ' ', 'свой', ' ', 'автомобиль', '\\n', 'операция', ' ', 'с', ' ', 'коммерческий', ' ', 'недвижимость', '\\n']\n",
      "['покупка', ' ', 'жилье', '\\n', 'приобретение', ' ', 'автомобиль', '\\n', 'дополнительный', ' ', 'образование', '\\n', 'сыграть', ' ', 'свадьба', '\\n', 'операция', ' ', 'с', ' ', 'жилье', '\\n', 'образование', '\\n', 'на', ' ', 'проведение', ' ', 'свадьба', '\\n', 'покупка', ' ', 'жилье', ' ', 'для', ' ', 'семья', '\\n', 'покупка', ' ', 'недвижимость', '\\n', 'покупка', ' ', 'коммерческий', ' ', 'недвижимость', '\\n', 'покупка', ' ', 'жилой', ' ', 'недвижимость', '\\n', 'строительство', ' ', 'собственный', ' ', 'недвижимость', '\\n', 'недвижимость', '\\n', 'строительство', ' ', 'недвижимость', '\\n', 'на', ' ', 'покупка', ' ', 'подержать', ' ', 'автомобиль', '\\n', 'на', ' ', 'покупка', ' ', 'свой', ' ', 'автомобиль', '\\n', 'операция', ' ', 'с', ' ', 'коммерческий', ' ', 'недвижимость', '\\n', 'строительство', ' ', 'жилой', ' ', 'недвижимость', '\\n']\n",
      "['покупка', ' ', 'жилье', '\\n', 'приобретение', ' ', 'автомобиль', '\\n', 'дополнительный', ' ', 'образование', '\\n', 'сыграть', ' ', 'свадьба', '\\n', 'операция', ' ', 'с', ' ', 'жилье', '\\n', 'образование', '\\n', 'на', ' ', 'проведение', ' ', 'свадьба', '\\n', 'покупка', ' ', 'жилье', ' ', 'для', ' ', 'семья', '\\n', 'покупка', ' ', 'недвижимость', '\\n', 'покупка', ' ', 'коммерческий', ' ', 'недвижимость', '\\n', 'покупка', ' ', 'жилой', ' ', 'недвижимость', '\\n', 'строительство', ' ', 'собственный', ' ', 'недвижимость', '\\n', 'недвижимость', '\\n', 'строительство', ' ', 'недвижимость', '\\n', 'на', ' ', 'покупка', ' ', 'подержать', ' ', 'автомобиль', '\\n', 'на', ' ', 'покупка', ' ', 'свой', ' ', 'автомобиль', '\\n', 'операция', ' ', 'с', ' ', 'коммерческий', ' ', 'недвижимость', '\\n', 'строительство', ' ', 'жилой', ' ', 'недвижимость', '\\n', 'жилье', '\\n']\n",
      "['покупка', ' ', 'жилье', '\\n', 'приобретение', ' ', 'автомобиль', '\\n', 'дополнительный', ' ', 'образование', '\\n', 'сыграть', ' ', 'свадьба', '\\n', 'операция', ' ', 'с', ' ', 'жилье', '\\n', 'образование', '\\n', 'на', ' ', 'проведение', ' ', 'свадьба', '\\n', 'покупка', ' ', 'жилье', ' ', 'для', ' ', 'семья', '\\n', 'покупка', ' ', 'недвижимость', '\\n', 'покупка', ' ', 'коммерческий', ' ', 'недвижимость', '\\n', 'покупка', ' ', 'жилой', ' ', 'недвижимость', '\\n', 'строительство', ' ', 'собственный', ' ', 'недвижимость', '\\n', 'недвижимость', '\\n', 'строительство', ' ', 'недвижимость', '\\n', 'на', ' ', 'покупка', ' ', 'подержать', ' ', 'автомобиль', '\\n', 'на', ' ', 'покупка', ' ', 'свой', ' ', 'автомобиль', '\\n', 'операция', ' ', 'с', ' ', 'коммерческий', ' ', 'недвижимость', '\\n', 'строительство', ' ', 'жилой', ' ', 'недвижимость', '\\n', 'жилье', '\\n', 'операция', ' ', 'со', ' ', 'свой', ' ', 'недвижимость', '\\n']\n",
      "['покупка', ' ', 'жилье', '\\n', 'приобретение', ' ', 'автомобиль', '\\n', 'дополнительный', ' ', 'образование', '\\n', 'сыграть', ' ', 'свадьба', '\\n', 'операция', ' ', 'с', ' ', 'жилье', '\\n', 'образование', '\\n', 'на', ' ', 'проведение', ' ', 'свадьба', '\\n', 'покупка', ' ', 'жилье', ' ', 'для', ' ', 'семья', '\\n', 'покупка', ' ', 'недвижимость', '\\n', 'покупка', ' ', 'коммерческий', ' ', 'недвижимость', '\\n', 'покупка', ' ', 'жилой', ' ', 'недвижимость', '\\n', 'строительство', ' ', 'собственный', ' ', 'недвижимость', '\\n', 'недвижимость', '\\n', 'строительство', ' ', 'недвижимость', '\\n', 'на', ' ', 'покупка', ' ', 'подержать', ' ', 'автомобиль', '\\n', 'на', ' ', 'покупка', ' ', 'свой', ' ', 'автомобиль', '\\n', 'операция', ' ', 'с', ' ', 'коммерческий', ' ', 'недвижимость', '\\n', 'строительство', ' ', 'жилой', ' ', 'недвижимость', '\\n', 'жилье', '\\n', 'операция', ' ', 'со', ' ', 'свой', ' ', 'недвижимость', '\\n', 'автомобиль', '\\n']\n",
      "['покупка', ' ', 'жилье', '\\n', 'приобретение', ' ', 'автомобиль', '\\n', 'дополнительный', ' ', 'образование', '\\n', 'сыграть', ' ', 'свадьба', '\\n', 'операция', ' ', 'с', ' ', 'жилье', '\\n', 'образование', '\\n', 'на', ' ', 'проведение', ' ', 'свадьба', '\\n', 'покупка', ' ', 'жилье', ' ', 'для', ' ', 'семья', '\\n', 'покупка', ' ', 'недвижимость', '\\n', 'покупка', ' ', 'коммерческий', ' ', 'недвижимость', '\\n', 'покупка', ' ', 'жилой', ' ', 'недвижимость', '\\n', 'строительство', ' ', 'собственный', ' ', 'недвижимость', '\\n', 'недвижимость', '\\n', 'строительство', ' ', 'недвижимость', '\\n', 'на', ' ', 'покупка', ' ', 'подержать', ' ', 'автомобиль', '\\n', 'на', ' ', 'покупка', ' ', 'свой', ' ', 'автомобиль', '\\n', 'операция', ' ', 'с', ' ', 'коммерческий', ' ', 'недвижимость', '\\n', 'строительство', ' ', 'жилой', ' ', 'недвижимость', '\\n', 'жилье', '\\n', 'операция', ' ', 'со', ' ', 'свой', ' ', 'недвижимость', '\\n', 'автомобиль', '\\n', 'заниматься', ' ', 'образование', '\\n']\n",
      "['покупка', ' ', 'жилье', '\\n', 'приобретение', ' ', 'автомобиль', '\\n', 'дополнительный', ' ', 'образование', '\\n', 'сыграть', ' ', 'свадьба', '\\n', 'операция', ' ', 'с', ' ', 'жилье', '\\n', 'образование', '\\n', 'на', ' ', 'проведение', ' ', 'свадьба', '\\n', 'покупка', ' ', 'жилье', ' ', 'для', ' ', 'семья', '\\n', 'покупка', ' ', 'недвижимость', '\\n', 'покупка', ' ', 'коммерческий', ' ', 'недвижимость', '\\n', 'покупка', ' ', 'жилой', ' ', 'недвижимость', '\\n', 'строительство', ' ', 'собственный', ' ', 'недвижимость', '\\n', 'недвижимость', '\\n', 'строительство', ' ', 'недвижимость', '\\n', 'на', ' ', 'покупка', ' ', 'подержать', ' ', 'автомобиль', '\\n', 'на', ' ', 'покупка', ' ', 'свой', ' ', 'автомобиль', '\\n', 'операция', ' ', 'с', ' ', 'коммерческий', ' ', 'недвижимость', '\\n', 'строительство', ' ', 'жилой', ' ', 'недвижимость', '\\n', 'жилье', '\\n', 'операция', ' ', 'со', ' ', 'свой', ' ', 'недвижимость', '\\n', 'автомобиль', '\\n', 'заниматься', ' ', 'образование', '\\n', 'сделка', ' ', 'с', ' ', 'подержанный', ' ', 'автомобиль', '\\n']\n",
      "['покупка', ' ', 'жилье', '\\n', 'приобретение', ' ', 'автомобиль', '\\n', 'дополнительный', ' ', 'образование', '\\n', 'сыграть', ' ', 'свадьба', '\\n', 'операция', ' ', 'с', ' ', 'жилье', '\\n', 'образование', '\\n', 'на', ' ', 'проведение', ' ', 'свадьба', '\\n', 'покупка', ' ', 'жилье', ' ', 'для', ' ', 'семья', '\\n', 'покупка', ' ', 'недвижимость', '\\n', 'покупка', ' ', 'коммерческий', ' ', 'недвижимость', '\\n', 'покупка', ' ', 'жилой', ' ', 'недвижимость', '\\n', 'строительство', ' ', 'собственный', ' ', 'недвижимость', '\\n', 'недвижимость', '\\n', 'строительство', ' ', 'недвижимость', '\\n', 'на', ' ', 'покупка', ' ', 'подержать', ' ', 'автомобиль', '\\n', 'на', ' ', 'покупка', ' ', 'свой', ' ', 'автомобиль', '\\n', 'операция', ' ', 'с', ' ', 'коммерческий', ' ', 'недвижимость', '\\n', 'строительство', ' ', 'жилой', ' ', 'недвижимость', '\\n', 'жилье', '\\n', 'операция', ' ', 'со', ' ', 'свой', ' ', 'недвижимость', '\\n', 'автомобиль', '\\n', 'заниматься', ' ', 'образование', '\\n', 'сделка', ' ', 'с', ' ', 'подержанный', ' ', 'автомобиль', '\\n', 'получение', ' ', 'образование', '\\n']\n",
      "['покупка', ' ', 'жилье', '\\n', 'приобретение', ' ', 'автомобиль', '\\n', 'дополнительный', ' ', 'образование', '\\n', 'сыграть', ' ', 'свадьба', '\\n', 'операция', ' ', 'с', ' ', 'жилье', '\\n', 'образование', '\\n', 'на', ' ', 'проведение', ' ', 'свадьба', '\\n', 'покупка', ' ', 'жилье', ' ', 'для', ' ', 'семья', '\\n', 'покупка', ' ', 'недвижимость', '\\n', 'покупка', ' ', 'коммерческий', ' ', 'недвижимость', '\\n', 'покупка', ' ', 'жилой', ' ', 'недвижимость', '\\n', 'строительство', ' ', 'собственный', ' ', 'недвижимость', '\\n', 'недвижимость', '\\n', 'строительство', ' ', 'недвижимость', '\\n', 'на', ' ', 'покупка', ' ', 'подержать', ' ', 'автомобиль', '\\n', 'на', ' ', 'покупка', ' ', 'свой', ' ', 'автомобиль', '\\n', 'операция', ' ', 'с', ' ', 'коммерческий', ' ', 'недвижимость', '\\n', 'строительство', ' ', 'жилой', ' ', 'недвижимость', '\\n', 'жилье', '\\n', 'операция', ' ', 'со', ' ', 'свой', ' ', 'недвижимость', '\\n', 'автомобиль', '\\n', 'заниматься', ' ', 'образование', '\\n', 'сделка', ' ', 'с', ' ', 'подержанный', ' ', 'автомобиль', '\\n', 'получение', ' ', 'образование', '\\n', 'автомобиль', '\\n']\n",
      "['покупка', ' ', 'жилье', '\\n', 'приобретение', ' ', 'автомобиль', '\\n', 'дополнительный', ' ', 'образование', '\\n', 'сыграть', ' ', 'свадьба', '\\n', 'операция', ' ', 'с', ' ', 'жилье', '\\n', 'образование', '\\n', 'на', ' ', 'проведение', ' ', 'свадьба', '\\n', 'покупка', ' ', 'жилье', ' ', 'для', ' ', 'семья', '\\n', 'покупка', ' ', 'недвижимость', '\\n', 'покупка', ' ', 'коммерческий', ' ', 'недвижимость', '\\n', 'покупка', ' ', 'жилой', ' ', 'недвижимость', '\\n', 'строительство', ' ', 'собственный', ' ', 'недвижимость', '\\n', 'недвижимость', '\\n', 'строительство', ' ', 'недвижимость', '\\n', 'на', ' ', 'покупка', ' ', 'подержать', ' ', 'автомобиль', '\\n', 'на', ' ', 'покупка', ' ', 'свой', ' ', 'автомобиль', '\\n', 'операция', ' ', 'с', ' ', 'коммерческий', ' ', 'недвижимость', '\\n', 'строительство', ' ', 'жилой', ' ', 'недвижимость', '\\n', 'жилье', '\\n', 'операция', ' ', 'со', ' ', 'свой', ' ', 'недвижимость', '\\n', 'автомобиль', '\\n', 'заниматься', ' ', 'образование', '\\n', 'сделка', ' ', 'с', ' ', 'подержанный', ' ', 'автомобиль', '\\n', 'получение', ' ', 'образование', '\\n', 'автомобиль', '\\n', 'свадьба', '\\n']\n",
      "['покупка', ' ', 'жилье', '\\n', 'приобретение', ' ', 'автомобиль', '\\n', 'дополнительный', ' ', 'образование', '\\n', 'сыграть', ' ', 'свадьба', '\\n', 'операция', ' ', 'с', ' ', 'жилье', '\\n', 'образование', '\\n', 'на', ' ', 'проведение', ' ', 'свадьба', '\\n', 'покупка', ' ', 'жилье', ' ', 'для', ' ', 'семья', '\\n', 'покупка', ' ', 'недвижимость', '\\n', 'покупка', ' ', 'коммерческий', ' ', 'недвижимость', '\\n', 'покупка', ' ', 'жилой', ' ', 'недвижимость', '\\n', 'строительство', ' ', 'собственный', ' ', 'недвижимость', '\\n', 'недвижимость', '\\n', 'строительство', ' ', 'недвижимость', '\\n', 'на', ' ', 'покупка', ' ', 'подержать', ' ', 'автомобиль', '\\n', 'на', ' ', 'покупка', ' ', 'свой', ' ', 'автомобиль', '\\n', 'операция', ' ', 'с', ' ', 'коммерческий', ' ', 'недвижимость', '\\n', 'строительство', ' ', 'жилой', ' ', 'недвижимость', '\\n', 'жилье', '\\n', 'операция', ' ', 'со', ' ', 'свой', ' ', 'недвижимость', '\\n', 'автомобиль', '\\n', 'заниматься', ' ', 'образование', '\\n', 'сделка', ' ', 'с', ' ', 'подержанный', ' ', 'автомобиль', '\\n', 'получение', ' ', 'образование', '\\n', 'автомобиль', '\\n', 'свадьба', '\\n', 'получение', ' ', 'дополнительный', ' ', 'образование', '\\n']\n",
      "['покупка', ' ', 'жилье', '\\n', 'приобретение', ' ', 'автомобиль', '\\n', 'дополнительный', ' ', 'образование', '\\n', 'сыграть', ' ', 'свадьба', '\\n', 'операция', ' ', 'с', ' ', 'жилье', '\\n', 'образование', '\\n', 'на', ' ', 'проведение', ' ', 'свадьба', '\\n', 'покупка', ' ', 'жилье', ' ', 'для', ' ', 'семья', '\\n', 'покупка', ' ', 'недвижимость', '\\n', 'покупка', ' ', 'коммерческий', ' ', 'недвижимость', '\\n', 'покупка', ' ', 'жилой', ' ', 'недвижимость', '\\n', 'строительство', ' ', 'собственный', ' ', 'недвижимость', '\\n', 'недвижимость', '\\n', 'строительство', ' ', 'недвижимость', '\\n', 'на', ' ', 'покупка', ' ', 'подержать', ' ', 'автомобиль', '\\n', 'на', ' ', 'покупка', ' ', 'свой', ' ', 'автомобиль', '\\n', 'операция', ' ', 'с', ' ', 'коммерческий', ' ', 'недвижимость', '\\n', 'строительство', ' ', 'жилой', ' ', 'недвижимость', '\\n', 'жилье', '\\n', 'операция', ' ', 'со', ' ', 'свой', ' ', 'недвижимость', '\\n', 'автомобиль', '\\n', 'заниматься', ' ', 'образование', '\\n', 'сделка', ' ', 'с', ' ', 'подержанный', ' ', 'автомобиль', '\\n', 'получение', ' ', 'образование', '\\n', 'автомобиль', '\\n', 'свадьба', '\\n', 'получение', ' ', 'дополнительный', ' ', 'образование', '\\n', 'покупка', ' ', 'свой', ' ', 'жилье', '\\n']\n",
      "['покупка', ' ', 'жилье', '\\n', 'приобретение', ' ', 'автомобиль', '\\n', 'дополнительный', ' ', 'образование', '\\n', 'сыграть', ' ', 'свадьба', '\\n', 'операция', ' ', 'с', ' ', 'жилье', '\\n', 'образование', '\\n', 'на', ' ', 'проведение', ' ', 'свадьба', '\\n', 'покупка', ' ', 'жилье', ' ', 'для', ' ', 'семья', '\\n', 'покупка', ' ', 'недвижимость', '\\n', 'покупка', ' ', 'коммерческий', ' ', 'недвижимость', '\\n', 'покупка', ' ', 'жилой', ' ', 'недвижимость', '\\n', 'строительство', ' ', 'собственный', ' ', 'недвижимость', '\\n', 'недвижимость', '\\n', 'строительство', ' ', 'недвижимость', '\\n', 'на', ' ', 'покупка', ' ', 'подержать', ' ', 'автомобиль', '\\n', 'на', ' ', 'покупка', ' ', 'свой', ' ', 'автомобиль', '\\n', 'операция', ' ', 'с', ' ', 'коммерческий', ' ', 'недвижимость', '\\n', 'строительство', ' ', 'жилой', ' ', 'недвижимость', '\\n', 'жилье', '\\n', 'операция', ' ', 'со', ' ', 'свой', ' ', 'недвижимость', '\\n', 'автомобиль', '\\n', 'заниматься', ' ', 'образование', '\\n', 'сделка', ' ', 'с', ' ', 'подержанный', ' ', 'автомобиль', '\\n', 'получение', ' ', 'образование', '\\n', 'автомобиль', '\\n', 'свадьба', '\\n', 'получение', ' ', 'дополнительный', ' ', 'образование', '\\n', 'покупка', ' ', 'свой', ' ', 'жилье', '\\n', 'операция', ' ', 'с', ' ', 'недвижимость', '\\n']\n",
      "['покупка', ' ', 'жилье', '\\n', 'приобретение', ' ', 'автомобиль', '\\n', 'дополнительный', ' ', 'образование', '\\n', 'сыграть', ' ', 'свадьба', '\\n', 'операция', ' ', 'с', ' ', 'жилье', '\\n', 'образование', '\\n', 'на', ' ', 'проведение', ' ', 'свадьба', '\\n', 'покупка', ' ', 'жилье', ' ', 'для', ' ', 'семья', '\\n', 'покупка', ' ', 'недвижимость', '\\n', 'покупка', ' ', 'коммерческий', ' ', 'недвижимость', '\\n', 'покупка', ' ', 'жилой', ' ', 'недвижимость', '\\n', 'строительство', ' ', 'собственный', ' ', 'недвижимость', '\\n', 'недвижимость', '\\n', 'строительство', ' ', 'недвижимость', '\\n', 'на', ' ', 'покупка', ' ', 'подержать', ' ', 'автомобиль', '\\n', 'на', ' ', 'покупка', ' ', 'свой', ' ', 'автомобиль', '\\n', 'операция', ' ', 'с', ' ', 'коммерческий', ' ', 'недвижимость', '\\n', 'строительство', ' ', 'жилой', ' ', 'недвижимость', '\\n', 'жилье', '\\n', 'операция', ' ', 'со', ' ', 'свой', ' ', 'недвижимость', '\\n', 'автомобиль', '\\n', 'заниматься', ' ', 'образование', '\\n', 'сделка', ' ', 'с', ' ', 'подержанный', ' ', 'автомобиль', '\\n', 'получение', ' ', 'образование', '\\n', 'автомобиль', '\\n', 'свадьба', '\\n', 'получение', ' ', 'дополнительный', ' ', 'образование', '\\n', 'покупка', ' ', 'свой', ' ', 'жилье', '\\n', 'операция', ' ', 'с', ' ', 'недвижимость', '\\n', 'получение', ' ', 'высокий', ' ', 'образование', '\\n']\n",
      "['покупка', ' ', 'жилье', '\\n', 'приобретение', ' ', 'автомобиль', '\\n', 'дополнительный', ' ', 'образование', '\\n', 'сыграть', ' ', 'свадьба', '\\n', 'операция', ' ', 'с', ' ', 'жилье', '\\n', 'образование', '\\n', 'на', ' ', 'проведение', ' ', 'свадьба', '\\n', 'покупка', ' ', 'жилье', ' ', 'для', ' ', 'семья', '\\n', 'покупка', ' ', 'недвижимость', '\\n', 'покупка', ' ', 'коммерческий', ' ', 'недвижимость', '\\n', 'покупка', ' ', 'жилой', ' ', 'недвижимость', '\\n', 'строительство', ' ', 'собственный', ' ', 'недвижимость', '\\n', 'недвижимость', '\\n', 'строительство', ' ', 'недвижимость', '\\n', 'на', ' ', 'покупка', ' ', 'подержать', ' ', 'автомобиль', '\\n', 'на', ' ', 'покупка', ' ', 'свой', ' ', 'автомобиль', '\\n', 'операция', ' ', 'с', ' ', 'коммерческий', ' ', 'недвижимость', '\\n', 'строительство', ' ', 'жилой', ' ', 'недвижимость', '\\n', 'жилье', '\\n', 'операция', ' ', 'со', ' ', 'свой', ' ', 'недвижимость', '\\n', 'автомобиль', '\\n', 'заниматься', ' ', 'образование', '\\n', 'сделка', ' ', 'с', ' ', 'подержанный', ' ', 'автомобиль', '\\n', 'получение', ' ', 'образование', '\\n', 'автомобиль', '\\n', 'свадьба', '\\n', 'получение', ' ', 'дополнительный', ' ', 'образование', '\\n', 'покупка', ' ', 'свой', ' ', 'жилье', '\\n', 'операция', ' ', 'с', ' ', 'недвижимость', '\\n', 'получение', ' ', 'высокий', ' ', 'образование', '\\n', 'свой', ' ', 'автомобиль', '\\n']\n",
      "['покупка', ' ', 'жилье', '\\n', 'приобретение', ' ', 'автомобиль', '\\n', 'дополнительный', ' ', 'образование', '\\n', 'сыграть', ' ', 'свадьба', '\\n', 'операция', ' ', 'с', ' ', 'жилье', '\\n', 'образование', '\\n', 'на', ' ', 'проведение', ' ', 'свадьба', '\\n', 'покупка', ' ', 'жилье', ' ', 'для', ' ', 'семья', '\\n', 'покупка', ' ', 'недвижимость', '\\n', 'покупка', ' ', 'коммерческий', ' ', 'недвижимость', '\\n', 'покупка', ' ', 'жилой', ' ', 'недвижимость', '\\n', 'строительство', ' ', 'собственный', ' ', 'недвижимость', '\\n', 'недвижимость', '\\n', 'строительство', ' ', 'недвижимость', '\\n', 'на', ' ', 'покупка', ' ', 'подержать', ' ', 'автомобиль', '\\n', 'на', ' ', 'покупка', ' ', 'свой', ' ', 'автомобиль', '\\n', 'операция', ' ', 'с', ' ', 'коммерческий', ' ', 'недвижимость', '\\n', 'строительство', ' ', 'жилой', ' ', 'недвижимость', '\\n', 'жилье', '\\n', 'операция', ' ', 'со', ' ', 'свой', ' ', 'недвижимость', '\\n', 'автомобиль', '\\n', 'заниматься', ' ', 'образование', '\\n', 'сделка', ' ', 'с', ' ', 'подержанный', ' ', 'автомобиль', '\\n', 'получение', ' ', 'образование', '\\n', 'автомобиль', '\\n', 'свадьба', '\\n', 'получение', ' ', 'дополнительный', ' ', 'образование', '\\n', 'покупка', ' ', 'свой', ' ', 'жилье', '\\n', 'операция', ' ', 'с', ' ', 'недвижимость', '\\n', 'получение', ' ', 'высокий', ' ', 'образование', '\\n', 'свой', ' ', 'автомобиль', '\\n', 'сделка', ' ', 'с', ' ', 'автомобиль', '\\n']\n",
      "['покупка', ' ', 'жилье', '\\n', 'приобретение', ' ', 'автомобиль', '\\n', 'дополнительный', ' ', 'образование', '\\n', 'сыграть', ' ', 'свадьба', '\\n', 'операция', ' ', 'с', ' ', 'жилье', '\\n', 'образование', '\\n', 'на', ' ', 'проведение', ' ', 'свадьба', '\\n', 'покупка', ' ', 'жилье', ' ', 'для', ' ', 'семья', '\\n', 'покупка', ' ', 'недвижимость', '\\n', 'покупка', ' ', 'коммерческий', ' ', 'недвижимость', '\\n', 'покупка', ' ', 'жилой', ' ', 'недвижимость', '\\n', 'строительство', ' ', 'собственный', ' ', 'недвижимость', '\\n', 'недвижимость', '\\n', 'строительство', ' ', 'недвижимость', '\\n', 'на', ' ', 'покупка', ' ', 'подержать', ' ', 'автомобиль', '\\n', 'на', ' ', 'покупка', ' ', 'свой', ' ', 'автомобиль', '\\n', 'операция', ' ', 'с', ' ', 'коммерческий', ' ', 'недвижимость', '\\n', 'строительство', ' ', 'жилой', ' ', 'недвижимость', '\\n', 'жилье', '\\n', 'операция', ' ', 'со', ' ', 'свой', ' ', 'недвижимость', '\\n', 'автомобиль', '\\n', 'заниматься', ' ', 'образование', '\\n', 'сделка', ' ', 'с', ' ', 'подержанный', ' ', 'автомобиль', '\\n', 'получение', ' ', 'образование', '\\n', 'автомобиль', '\\n', 'свадьба', '\\n', 'получение', ' ', 'дополнительный', ' ', 'образование', '\\n', 'покупка', ' ', 'свой', ' ', 'жилье', '\\n', 'операция', ' ', 'с', ' ', 'недвижимость', '\\n', 'получение', ' ', 'высокий', ' ', 'образование', '\\n', 'свой', ' ', 'автомобиль', '\\n', 'сделка', ' ', 'с', ' ', 'автомобиль', '\\n', 'профильный', ' ', 'образование', '\\n']\n",
      "['покупка', ' ', 'жилье', '\\n', 'приобретение', ' ', 'автомобиль', '\\n', 'дополнительный', ' ', 'образование', '\\n', 'сыграть', ' ', 'свадьба', '\\n', 'операция', ' ', 'с', ' ', 'жилье', '\\n', 'образование', '\\n', 'на', ' ', 'проведение', ' ', 'свадьба', '\\n', 'покупка', ' ', 'жилье', ' ', 'для', ' ', 'семья', '\\n', 'покупка', ' ', 'недвижимость', '\\n', 'покупка', ' ', 'коммерческий', ' ', 'недвижимость', '\\n', 'покупка', ' ', 'жилой', ' ', 'недвижимость', '\\n', 'строительство', ' ', 'собственный', ' ', 'недвижимость', '\\n', 'недвижимость', '\\n', 'строительство', ' ', 'недвижимость', '\\n', 'на', ' ', 'покупка', ' ', 'подержать', ' ', 'автомобиль', '\\n', 'на', ' ', 'покупка', ' ', 'свой', ' ', 'автомобиль', '\\n', 'операция', ' ', 'с', ' ', 'коммерческий', ' ', 'недвижимость', '\\n', 'строительство', ' ', 'жилой', ' ', 'недвижимость', '\\n', 'жилье', '\\n', 'операция', ' ', 'со', ' ', 'свой', ' ', 'недвижимость', '\\n', 'автомобиль', '\\n', 'заниматься', ' ', 'образование', '\\n', 'сделка', ' ', 'с', ' ', 'подержанный', ' ', 'автомобиль', '\\n', 'получение', ' ', 'образование', '\\n', 'автомобиль', '\\n', 'свадьба', '\\n', 'получение', ' ', 'дополнительный', ' ', 'образование', '\\n', 'покупка', ' ', 'свой', ' ', 'жилье', '\\n', 'операция', ' ', 'с', ' ', 'недвижимость', '\\n', 'получение', ' ', 'высокий', ' ', 'образование', '\\n', 'свой', ' ', 'автомобиль', '\\n', 'сделка', ' ', 'с', ' ', 'автомобиль', '\\n', 'профильный', ' ', 'образование', '\\n', 'высокий', ' ', 'образование', '\\n']\n",
      "['покупка', ' ', 'жилье', '\\n', 'приобретение', ' ', 'автомобиль', '\\n', 'дополнительный', ' ', 'образование', '\\n', 'сыграть', ' ', 'свадьба', '\\n', 'операция', ' ', 'с', ' ', 'жилье', '\\n', 'образование', '\\n', 'на', ' ', 'проведение', ' ', 'свадьба', '\\n', 'покупка', ' ', 'жилье', ' ', 'для', ' ', 'семья', '\\n', 'покупка', ' ', 'недвижимость', '\\n', 'покупка', ' ', 'коммерческий', ' ', 'недвижимость', '\\n', 'покупка', ' ', 'жилой', ' ', 'недвижимость', '\\n', 'строительство', ' ', 'собственный', ' ', 'недвижимость', '\\n', 'недвижимость', '\\n', 'строительство', ' ', 'недвижимость', '\\n', 'на', ' ', 'покупка', ' ', 'подержать', ' ', 'автомобиль', '\\n', 'на', ' ', 'покупка', ' ', 'свой', ' ', 'автомобиль', '\\n', 'операция', ' ', 'с', ' ', 'коммерческий', ' ', 'недвижимость', '\\n', 'строительство', ' ', 'жилой', ' ', 'недвижимость', '\\n', 'жилье', '\\n', 'операция', ' ', 'со', ' ', 'свой', ' ', 'недвижимость', '\\n', 'автомобиль', '\\n', 'заниматься', ' ', 'образование', '\\n', 'сделка', ' ', 'с', ' ', 'подержанный', ' ', 'автомобиль', '\\n', 'получение', ' ', 'образование', '\\n', 'автомобиль', '\\n', 'свадьба', '\\n', 'получение', ' ', 'дополнительный', ' ', 'образование', '\\n', 'покупка', ' ', 'свой', ' ', 'жилье', '\\n', 'операция', ' ', 'с', ' ', 'недвижимость', '\\n', 'получение', ' ', 'высокий', ' ', 'образование', '\\n', 'свой', ' ', 'автомобиль', '\\n', 'сделка', ' ', 'с', ' ', 'автомобиль', '\\n', 'профильный', ' ', 'образование', '\\n', 'высокий', ' ', 'образование', '\\n', 'покупка', ' ', 'жилье', ' ', 'для', ' ', 'сдача', '\\n']\n",
      "['покупка', ' ', 'жилье', '\\n', 'приобретение', ' ', 'автомобиль', '\\n', 'дополнительный', ' ', 'образование', '\\n', 'сыграть', ' ', 'свадьба', '\\n', 'операция', ' ', 'с', ' ', 'жилье', '\\n', 'образование', '\\n', 'на', ' ', 'проведение', ' ', 'свадьба', '\\n', 'покупка', ' ', 'жилье', ' ', 'для', ' ', 'семья', '\\n', 'покупка', ' ', 'недвижимость', '\\n', 'покупка', ' ', 'коммерческий', ' ', 'недвижимость', '\\n', 'покупка', ' ', 'жилой', ' ', 'недвижимость', '\\n', 'строительство', ' ', 'собственный', ' ', 'недвижимость', '\\n', 'недвижимость', '\\n', 'строительство', ' ', 'недвижимость', '\\n', 'на', ' ', 'покупка', ' ', 'подержать', ' ', 'автомобиль', '\\n', 'на', ' ', 'покупка', ' ', 'свой', ' ', 'автомобиль', '\\n', 'операция', ' ', 'с', ' ', 'коммерческий', ' ', 'недвижимость', '\\n', 'строительство', ' ', 'жилой', ' ', 'недвижимость', '\\n', 'жилье', '\\n', 'операция', ' ', 'со', ' ', 'свой', ' ', 'недвижимость', '\\n', 'автомобиль', '\\n', 'заниматься', ' ', 'образование', '\\n', 'сделка', ' ', 'с', ' ', 'подержанный', ' ', 'автомобиль', '\\n', 'получение', ' ', 'образование', '\\n', 'автомобиль', '\\n', 'свадьба', '\\n', 'получение', ' ', 'дополнительный', ' ', 'образование', '\\n', 'покупка', ' ', 'свой', ' ', 'жилье', '\\n', 'операция', ' ', 'с', ' ', 'недвижимость', '\\n', 'получение', ' ', 'высокий', ' ', 'образование', '\\n', 'свой', ' ', 'автомобиль', '\\n', 'сделка', ' ', 'с', ' ', 'автомобиль', '\\n', 'профильный', ' ', 'образование', '\\n', 'высокий', ' ', 'образование', '\\n', 'покупка', ' ', 'жилье', ' ', 'для', ' ', 'сдача', '\\n', 'на', ' ', 'покупка', ' ', 'автомобиль', '\\n']\n",
      "['покупка', ' ', 'жилье', '\\n', 'приобретение', ' ', 'автомобиль', '\\n', 'дополнительный', ' ', 'образование', '\\n', 'сыграть', ' ', 'свадьба', '\\n', 'операция', ' ', 'с', ' ', 'жилье', '\\n', 'образование', '\\n', 'на', ' ', 'проведение', ' ', 'свадьба', '\\n', 'покупка', ' ', 'жилье', ' ', 'для', ' ', 'семья', '\\n', 'покупка', ' ', 'недвижимость', '\\n', 'покупка', ' ', 'коммерческий', ' ', 'недвижимость', '\\n', 'покупка', ' ', 'жилой', ' ', 'недвижимость', '\\n', 'строительство', ' ', 'собственный', ' ', 'недвижимость', '\\n', 'недвижимость', '\\n', 'строительство', ' ', 'недвижимость', '\\n', 'на', ' ', 'покупка', ' ', 'подержать', ' ', 'автомобиль', '\\n', 'на', ' ', 'покупка', ' ', 'свой', ' ', 'автомобиль', '\\n', 'операция', ' ', 'с', ' ', 'коммерческий', ' ', 'недвижимость', '\\n', 'строительство', ' ', 'жилой', ' ', 'недвижимость', '\\n', 'жилье', '\\n', 'операция', ' ', 'со', ' ', 'свой', ' ', 'недвижимость', '\\n', 'автомобиль', '\\n', 'заниматься', ' ', 'образование', '\\n', 'сделка', ' ', 'с', ' ', 'подержанный', ' ', 'автомобиль', '\\n', 'получение', ' ', 'образование', '\\n', 'автомобиль', '\\n', 'свадьба', '\\n', 'получение', ' ', 'дополнительный', ' ', 'образование', '\\n', 'покупка', ' ', 'свой', ' ', 'жилье', '\\n', 'операция', ' ', 'с', ' ', 'недвижимость', '\\n', 'получение', ' ', 'высокий', ' ', 'образование', '\\n', 'свой', ' ', 'автомобиль', '\\n', 'сделка', ' ', 'с', ' ', 'автомобиль', '\\n', 'профильный', ' ', 'образование', '\\n', 'высокий', ' ', 'образование', '\\n', 'покупка', ' ', 'жилье', ' ', 'для', ' ', 'сдача', '\\n', 'на', ' ', 'покупка', ' ', 'автомобиль', '\\n', 'ремонт', ' ', 'жилье', '\\n']\n",
      "['покупка', ' ', 'жилье', '\\n', 'приобретение', ' ', 'автомобиль', '\\n', 'дополнительный', ' ', 'образование', '\\n', 'сыграть', ' ', 'свадьба', '\\n', 'операция', ' ', 'с', ' ', 'жилье', '\\n', 'образование', '\\n', 'на', ' ', 'проведение', ' ', 'свадьба', '\\n', 'покупка', ' ', 'жилье', ' ', 'для', ' ', 'семья', '\\n', 'покупка', ' ', 'недвижимость', '\\n', 'покупка', ' ', 'коммерческий', ' ', 'недвижимость', '\\n', 'покупка', ' ', 'жилой', ' ', 'недвижимость', '\\n', 'строительство', ' ', 'собственный', ' ', 'недвижимость', '\\n', 'недвижимость', '\\n', 'строительство', ' ', 'недвижимость', '\\n', 'на', ' ', 'покупка', ' ', 'подержать', ' ', 'автомобиль', '\\n', 'на', ' ', 'покупка', ' ', 'свой', ' ', 'автомобиль', '\\n', 'операция', ' ', 'с', ' ', 'коммерческий', ' ', 'недвижимость', '\\n', 'строительство', ' ', 'жилой', ' ', 'недвижимость', '\\n', 'жилье', '\\n', 'операция', ' ', 'со', ' ', 'свой', ' ', 'недвижимость', '\\n', 'автомобиль', '\\n', 'заниматься', ' ', 'образование', '\\n', 'сделка', ' ', 'с', ' ', 'подержанный', ' ', 'автомобиль', '\\n', 'получение', ' ', 'образование', '\\n', 'автомобиль', '\\n', 'свадьба', '\\n', 'получение', ' ', 'дополнительный', ' ', 'образование', '\\n', 'покупка', ' ', 'свой', ' ', 'жилье', '\\n', 'операция', ' ', 'с', ' ', 'недвижимость', '\\n', 'получение', ' ', 'высокий', ' ', 'образование', '\\n', 'свой', ' ', 'автомобиль', '\\n', 'сделка', ' ', 'с', ' ', 'автомобиль', '\\n', 'профильный', ' ', 'образование', '\\n', 'высокий', ' ', 'образование', '\\n', 'покупка', ' ', 'жилье', ' ', 'для', ' ', 'сдача', '\\n', 'на', ' ', 'покупка', ' ', 'автомобиль', '\\n', 'ремонт', ' ', 'жилье', '\\n', 'заниматься', ' ', 'высокий', ' ', 'образование', '\\n']\n"
     ]
    }
   ],
   "source": [
    "uniq_purpose_lemm = []\n",
    "for i in uniq_purpose:\n",
    "    uniq_purpose_lemm.extend(m.lemmatize(i))\n",
    "    print(uniq_purpose_lemm)    "
   ]
  },
  {
   "cell_type": "markdown",
   "metadata": {},
   "source": [
    "#### подсчёт числа их упоминаний в тексте"
   ]
  },
  {
   "cell_type": "code",
   "execution_count": 36,
   "metadata": {},
   "outputs": [
    {
     "name": "stdout",
     "output_type": "stream",
     "text": [
      "Counter({' ': 59, '\\n': 38, 'покупка': 10, 'недвижимость': 10, 'автомобиль': 9, 'образование': 9, 'жилье': 7, 'с': 5, 'операция': 4, 'на': 4, 'свой': 4, 'свадьба': 3, 'строительство': 3, 'получение': 3, 'высокий': 3, 'дополнительный': 2, 'для': 2, 'коммерческий': 2, 'жилой': 2, 'заниматься': 2, 'сделка': 2, 'приобретение': 1, 'сыграть': 1, 'проведение': 1, 'семья': 1, 'собственный': 1, 'подержать': 1, 'со': 1, 'подержанный': 1, 'профильный': 1, 'сдача': 1, 'ремонт': 1})\n"
     ]
    }
   ],
   "source": [
    "print(Counter(uniq_purpose_lemm))"
   ]
  },
  {
   "cell_type": "markdown",
   "metadata": {},
   "source": [
    "**наиболее частые слова**\n",
    "**образование недвижимость автомобиль жилье свадьба**"
   ]
  },
  {
   "cell_type": "markdown",
   "metadata": {},
   "source": [
    "#### Функция для Лемматизации столбца data['purpose'] и меняем содержимое на леммы"
   ]
  },
  {
   "cell_type": "code",
   "execution_count": 37,
   "metadata": {},
   "outputs": [
    {
     "data": {
      "text/html": [
       "<div>\n",
       "<style scoped>\n",
       "    .dataframe tbody tr th:only-of-type {\n",
       "        vertical-align: middle;\n",
       "    }\n",
       "\n",
       "    .dataframe tbody tr th {\n",
       "        vertical-align: top;\n",
       "    }\n",
       "\n",
       "    .dataframe thead th {\n",
       "        text-align: right;\n",
       "    }\n",
       "</style>\n",
       "<table border=\"1\" class=\"dataframe\">\n",
       "  <thead>\n",
       "    <tr style=\"text-align: right;\">\n",
       "      <th></th>\n",
       "      <th>children</th>\n",
       "      <th>days_employed</th>\n",
       "      <th>dob_years</th>\n",
       "      <th>education</th>\n",
       "      <th>education_id</th>\n",
       "      <th>family_status</th>\n",
       "      <th>family_status_id</th>\n",
       "      <th>gender</th>\n",
       "      <th>income_type</th>\n",
       "      <th>debt</th>\n",
       "      <th>total_income</th>\n",
       "      <th>purpose</th>\n",
       "    </tr>\n",
       "  </thead>\n",
       "  <tbody>\n",
       "    <tr>\n",
       "      <td>0</td>\n",
       "      <td>1</td>\n",
       "      <td>8437</td>\n",
       "      <td>42</td>\n",
       "      <td>высшее</td>\n",
       "      <td>0</td>\n",
       "      <td>женат / замужем</td>\n",
       "      <td>0</td>\n",
       "      <td>F</td>\n",
       "      <td>сотрудник</td>\n",
       "      <td>0</td>\n",
       "      <td>253875</td>\n",
       "      <td>покупка жилья</td>\n",
       "    </tr>\n",
       "    <tr>\n",
       "      <td>1</td>\n",
       "      <td>1</td>\n",
       "      <td>4024</td>\n",
       "      <td>36</td>\n",
       "      <td>среднее</td>\n",
       "      <td>1</td>\n",
       "      <td>женат / замужем</td>\n",
       "      <td>0</td>\n",
       "      <td>F</td>\n",
       "      <td>сотрудник</td>\n",
       "      <td>0</td>\n",
       "      <td>112080</td>\n",
       "      <td>приобретение автомобиля</td>\n",
       "    </tr>\n",
       "    <tr>\n",
       "      <td>2</td>\n",
       "      <td>0</td>\n",
       "      <td>5623</td>\n",
       "      <td>33</td>\n",
       "      <td>среднее</td>\n",
       "      <td>1</td>\n",
       "      <td>женат / замужем</td>\n",
       "      <td>0</td>\n",
       "      <td>M</td>\n",
       "      <td>сотрудник</td>\n",
       "      <td>0</td>\n",
       "      <td>145885</td>\n",
       "      <td>покупка жилья</td>\n",
       "    </tr>\n",
       "    <tr>\n",
       "      <td>3</td>\n",
       "      <td>3</td>\n",
       "      <td>4124</td>\n",
       "      <td>32</td>\n",
       "      <td>среднее</td>\n",
       "      <td>1</td>\n",
       "      <td>женат / замужем</td>\n",
       "      <td>0</td>\n",
       "      <td>M</td>\n",
       "      <td>сотрудник</td>\n",
       "      <td>0</td>\n",
       "      <td>267628</td>\n",
       "      <td>дополнительное образование</td>\n",
       "    </tr>\n",
       "    <tr>\n",
       "      <td>4</td>\n",
       "      <td>0</td>\n",
       "      <td>2194</td>\n",
       "      <td>53</td>\n",
       "      <td>среднее</td>\n",
       "      <td>1</td>\n",
       "      <td>гражданский брак</td>\n",
       "      <td>1</td>\n",
       "      <td>F</td>\n",
       "      <td>пенсионер</td>\n",
       "      <td>0</td>\n",
       "      <td>158616</td>\n",
       "      <td>сыграть свадьбу</td>\n",
       "    </tr>\n",
       "  </tbody>\n",
       "</table>\n",
       "</div>"
      ],
      "text/plain": [
       "   children  days_employed  dob_years education  education_id  \\\n",
       "0         1           8437         42    высшее             0   \n",
       "1         1           4024         36   среднее             1   \n",
       "2         0           5623         33   среднее             1   \n",
       "3         3           4124         32   среднее             1   \n",
       "4         0           2194         53   среднее             1   \n",
       "\n",
       "      family_status  family_status_id gender income_type  debt  total_income  \\\n",
       "0   женат / замужем                 0      F   сотрудник     0        253875   \n",
       "1   женат / замужем                 0      F   сотрудник     0        112080   \n",
       "2   женат / замужем                 0      M   сотрудник     0        145885   \n",
       "3   женат / замужем                 0      M   сотрудник     0        267628   \n",
       "4  гражданский брак                 1      F   пенсионер     0        158616   \n",
       "\n",
       "                      purpose  \n",
       "0               покупка жилья  \n",
       "1     приобретение автомобиля  \n",
       "2               покупка жилья  \n",
       "3  дополнительное образование  \n",
       "4             сыграть свадьбу  "
      ]
     },
     "metadata": {},
     "output_type": "display_data"
    }
   ],
   "source": [
    "display(data.head()) # проверяем таблицу"
   ]
  },
  {
   "cell_type": "code",
   "execution_count": 38,
   "metadata": {},
   "outputs": [],
   "source": [
    "def lemm_purpose(row):\n",
    "    if 'недвижимость' in m.lemmatize(row):\n",
    "        return 'недвижимость'\n",
    "           \n",
    "    if 'автомобиль' in m.lemmatize(row):\n",
    "        return 'автомобиль'\n",
    "            \n",
    "    if 'жилье' in m.lemmatize(row):\n",
    "        return 'жилье'\n",
    "            \n",
    "    if 'свадьба' in m.lemmatize(row):\n",
    "        return 'свадьба'\n",
    "    \n",
    "    if 'образование' in m.lemmatize(row):\n",
    "        return 'образование'\n",
    "             \n",
    "    else: return 'другое'         \n",
    "      \n"
   ]
  },
  {
   "cell_type": "markdown",
   "metadata": {},
   "source": [
    "<div class=\"alert alert-info\">\n",
    "    \n",
    "# перестаёт исполнятся код<a id=\"cell2\"></a>   "
   ]
  },
  {
   "cell_type": "markdown",
   "metadata": {},
   "source": [
    "#### применяем к столбцу data['purpose']  и проверяем"
   ]
  },
  {
   "cell_type": "code",
   "execution_count": 39,
   "metadata": {},
   "outputs": [
    {
     "data": {
      "text/html": [
       "<div>\n",
       "<style scoped>\n",
       "    .dataframe tbody tr th:only-of-type {\n",
       "        vertical-align: middle;\n",
       "    }\n",
       "\n",
       "    .dataframe tbody tr th {\n",
       "        vertical-align: top;\n",
       "    }\n",
       "\n",
       "    .dataframe thead th {\n",
       "        text-align: right;\n",
       "    }\n",
       "</style>\n",
       "<table border=\"1\" class=\"dataframe\">\n",
       "  <thead>\n",
       "    <tr style=\"text-align: right;\">\n",
       "      <th></th>\n",
       "      <th>children</th>\n",
       "      <th>days_employed</th>\n",
       "      <th>dob_years</th>\n",
       "      <th>education</th>\n",
       "      <th>education_id</th>\n",
       "      <th>family_status</th>\n",
       "      <th>family_status_id</th>\n",
       "      <th>gender</th>\n",
       "      <th>income_type</th>\n",
       "      <th>debt</th>\n",
       "      <th>total_income</th>\n",
       "      <th>purpose</th>\n",
       "    </tr>\n",
       "  </thead>\n",
       "  <tbody>\n",
       "    <tr>\n",
       "      <td>0</td>\n",
       "      <td>1</td>\n",
       "      <td>8437</td>\n",
       "      <td>42</td>\n",
       "      <td>высшее</td>\n",
       "      <td>0</td>\n",
       "      <td>женат / замужем</td>\n",
       "      <td>0</td>\n",
       "      <td>F</td>\n",
       "      <td>сотрудник</td>\n",
       "      <td>0</td>\n",
       "      <td>253875</td>\n",
       "      <td>жилье</td>\n",
       "    </tr>\n",
       "    <tr>\n",
       "      <td>1</td>\n",
       "      <td>1</td>\n",
       "      <td>4024</td>\n",
       "      <td>36</td>\n",
       "      <td>среднее</td>\n",
       "      <td>1</td>\n",
       "      <td>женат / замужем</td>\n",
       "      <td>0</td>\n",
       "      <td>F</td>\n",
       "      <td>сотрудник</td>\n",
       "      <td>0</td>\n",
       "      <td>112080</td>\n",
       "      <td>автомобиль</td>\n",
       "    </tr>\n",
       "    <tr>\n",
       "      <td>2</td>\n",
       "      <td>0</td>\n",
       "      <td>5623</td>\n",
       "      <td>33</td>\n",
       "      <td>среднее</td>\n",
       "      <td>1</td>\n",
       "      <td>женат / замужем</td>\n",
       "      <td>0</td>\n",
       "      <td>M</td>\n",
       "      <td>сотрудник</td>\n",
       "      <td>0</td>\n",
       "      <td>145885</td>\n",
       "      <td>жилье</td>\n",
       "    </tr>\n",
       "    <tr>\n",
       "      <td>3</td>\n",
       "      <td>3</td>\n",
       "      <td>4124</td>\n",
       "      <td>32</td>\n",
       "      <td>среднее</td>\n",
       "      <td>1</td>\n",
       "      <td>женат / замужем</td>\n",
       "      <td>0</td>\n",
       "      <td>M</td>\n",
       "      <td>сотрудник</td>\n",
       "      <td>0</td>\n",
       "      <td>267628</td>\n",
       "      <td>образование</td>\n",
       "    </tr>\n",
       "    <tr>\n",
       "      <td>4</td>\n",
       "      <td>0</td>\n",
       "      <td>2194</td>\n",
       "      <td>53</td>\n",
       "      <td>среднее</td>\n",
       "      <td>1</td>\n",
       "      <td>гражданский брак</td>\n",
       "      <td>1</td>\n",
       "      <td>F</td>\n",
       "      <td>пенсионер</td>\n",
       "      <td>0</td>\n",
       "      <td>158616</td>\n",
       "      <td>свадьба</td>\n",
       "    </tr>\n",
       "  </tbody>\n",
       "</table>\n",
       "</div>"
      ],
      "text/plain": [
       "   children  days_employed  dob_years education  education_id  \\\n",
       "0         1           8437         42    высшее             0   \n",
       "1         1           4024         36   среднее             1   \n",
       "2         0           5623         33   среднее             1   \n",
       "3         3           4124         32   среднее             1   \n",
       "4         0           2194         53   среднее             1   \n",
       "\n",
       "      family_status  family_status_id gender income_type  debt  total_income  \\\n",
       "0   женат / замужем                 0      F   сотрудник     0        253875   \n",
       "1   женат / замужем                 0      F   сотрудник     0        112080   \n",
       "2   женат / замужем                 0      M   сотрудник     0        145885   \n",
       "3   женат / замужем                 0      M   сотрудник     0        267628   \n",
       "4  гражданский брак                 1      F   пенсионер     0        158616   \n",
       "\n",
       "       purpose  \n",
       "0        жилье  \n",
       "1   автомобиль  \n",
       "2        жилье  \n",
       "3  образование  \n",
       "4      свадьба  "
      ]
     },
     "metadata": {},
     "output_type": "display_data"
    }
   ],
   "source": [
    "data['purpose'] = data['purpose'].apply(lemm_purpose)\n",
    "display(data.head())"
   ]
  },
  {
   "cell_type": "markdown",
   "metadata": {},
   "source": [
    "### Вывод"
   ]
  },
  {
   "cell_type": "markdown",
   "metadata": {},
   "source": [
    "**Данные столбца data['purpose'] лемматизированы, цели для удобства сортировки отражены одним словом**"
   ]
  },
  {
   "cell_type": "markdown",
   "metadata": {},
   "source": [
    "### Категоризация данных"
   ]
  },
  {
   "cell_type": "markdown",
   "metadata": {},
   "source": [
    "#### Проводим категоризацию данных согласно заданию\n",
    "####  Делаем сводную таблицу: влияние  количество детей клиента на факт погашения кредита\n",
    "**Bстроим строку с процентами кто имел задолжность количество детей клиента  факт погашения кредита**"
   ]
  },
  {
   "cell_type": "code",
   "execution_count": 40,
   "metadata": {},
   "outputs": [
    {
     "data": {
      "text/html": [
       "<style  type=\"text/css\" >\n",
       "</style><table id=\"T_40ee5782_3610_11eb_a05e_02420a39eb2e\" ><thead>    <tr>        <th class=\"blank level0\" ></th>        <th class=\"col_heading level0 col0\" >sum</th>        <th class=\"col_heading level0 col1\" >count</th>        <th class=\"col_heading level0 col2\" >%_total_debt</th>    </tr>    <tr>        <th class=\"blank level1\" ></th>        <th class=\"col_heading level1 col0\" >debt</th>        <th class=\"col_heading level1 col1\" >debt</th>        <th class=\"col_heading level1 col2\" ></th>    </tr>    <tr>        <th class=\"index_name level0\" >children</th>        <th class=\"blank\" ></th>        <th class=\"blank\" ></th>        <th class=\"blank\" ></th>    </tr></thead><tbody>\n",
       "                <tr>\n",
       "                        <th id=\"T_40ee5782_3610_11eb_a05e_02420a39eb2elevel0_row0\" class=\"row_heading level0 row0\" >0</th>\n",
       "                        <td id=\"T_40ee5782_3610_11eb_a05e_02420a39eb2erow0_col0\" class=\"data row0 col0\" >1063</td>\n",
       "                        <td id=\"T_40ee5782_3610_11eb_a05e_02420a39eb2erow0_col1\" class=\"data row0 col1\" >14091</td>\n",
       "                        <td id=\"T_40ee5782_3610_11eb_a05e_02420a39eb2erow0_col2\" class=\"data row0 col2\" >0.0754382</td>\n",
       "            </tr>\n",
       "            <tr>\n",
       "                        <th id=\"T_40ee5782_3610_11eb_a05e_02420a39eb2elevel0_row1\" class=\"row_heading level0 row1\" >1</th>\n",
       "                        <td id=\"T_40ee5782_3610_11eb_a05e_02420a39eb2erow1_col0\" class=\"data row1 col0\" >445</td>\n",
       "                        <td id=\"T_40ee5782_3610_11eb_a05e_02420a39eb2erow1_col1\" class=\"data row1 col1\" >4855</td>\n",
       "                        <td id=\"T_40ee5782_3610_11eb_a05e_02420a39eb2erow1_col2\" class=\"data row1 col2\" >0.0916581</td>\n",
       "            </tr>\n",
       "            <tr>\n",
       "                        <th id=\"T_40ee5782_3610_11eb_a05e_02420a39eb2elevel0_row2\" class=\"row_heading level0 row2\" >2</th>\n",
       "                        <td id=\"T_40ee5782_3610_11eb_a05e_02420a39eb2erow2_col0\" class=\"data row2 col0\" >202</td>\n",
       "                        <td id=\"T_40ee5782_3610_11eb_a05e_02420a39eb2erow2_col1\" class=\"data row2 col1\" >2128</td>\n",
       "                        <td id=\"T_40ee5782_3610_11eb_a05e_02420a39eb2erow2_col2\" class=\"data row2 col2\" >0.0949248</td>\n",
       "            </tr>\n",
       "            <tr>\n",
       "                        <th id=\"T_40ee5782_3610_11eb_a05e_02420a39eb2elevel0_row3\" class=\"row_heading level0 row3\" >3</th>\n",
       "                        <td id=\"T_40ee5782_3610_11eb_a05e_02420a39eb2erow3_col0\" class=\"data row3 col0\" >27</td>\n",
       "                        <td id=\"T_40ee5782_3610_11eb_a05e_02420a39eb2erow3_col1\" class=\"data row3 col1\" >330</td>\n",
       "                        <td id=\"T_40ee5782_3610_11eb_a05e_02420a39eb2erow3_col2\" class=\"data row3 col2\" >0.0818182</td>\n",
       "            </tr>\n",
       "            <tr>\n",
       "                        <th id=\"T_40ee5782_3610_11eb_a05e_02420a39eb2elevel0_row4\" class=\"row_heading level0 row4\" >4</th>\n",
       "                        <td id=\"T_40ee5782_3610_11eb_a05e_02420a39eb2erow4_col0\" class=\"data row4 col0\" >4</td>\n",
       "                        <td id=\"T_40ee5782_3610_11eb_a05e_02420a39eb2erow4_col1\" class=\"data row4 col1\" >41</td>\n",
       "                        <td id=\"T_40ee5782_3610_11eb_a05e_02420a39eb2erow4_col2\" class=\"data row4 col2\" >0.097561</td>\n",
       "            </tr>\n",
       "            <tr>\n",
       "                        <th id=\"T_40ee5782_3610_11eb_a05e_02420a39eb2elevel0_row5\" class=\"row_heading level0 row5\" >5</th>\n",
       "                        <td id=\"T_40ee5782_3610_11eb_a05e_02420a39eb2erow5_col0\" class=\"data row5 col0\" >0</td>\n",
       "                        <td id=\"T_40ee5782_3610_11eb_a05e_02420a39eb2erow5_col1\" class=\"data row5 col1\" >9</td>\n",
       "                        <td id=\"T_40ee5782_3610_11eb_a05e_02420a39eb2erow5_col2\" class=\"data row5 col2\" >0</td>\n",
       "            </tr>\n",
       "    </tbody></table>"
      ],
      "text/plain": [
       "<pandas.io.formats.style.Styler at 0x7fdfd3efda90>"
      ]
     },
     "execution_count": 40,
     "metadata": {},
     "output_type": "execute_result"
    }
   ],
   "source": [
    "data_child = data.pivot_table(index = ['children'], values = 'debt', aggfunc = [sum, 'count'])\n",
    "#data_child = data.groupby(['children',]).agg({'debt':'sum','children':'count'})\n",
    "data_child['%_total_debt'] = (data_child ['sum','debt']/data_child ['count','debt'])\n",
    "#data_child.columns = ['Кол-во невозвратов','Кол-во заемщиков','% невозврата']\n",
    "data_child.style.format({'% невозврата':'{:.2%}'})\n",
    "#print(data_child)"
   ]
  },
  {
   "cell_type": "markdown",
   "metadata": {},
   "source": [
    "####  Делаем сводную таблицу *семейное положение * - факт погашения кредита Bстроим строку с процентами кто имел задолжность *семейное положение * - факт погашения кредита "
   ]
  },
  {
   "cell_type": "code",
   "execution_count": 41,
   "metadata": {},
   "outputs": [
    {
     "data": {
      "text/html": [
       "<style  type=\"text/css\" >\n",
       "</style><table id=\"T_40f4c748_3610_11eb_a05e_02420a39eb2e\" ><thead>    <tr>        <th class=\"blank level0\" ></th>        <th class=\"col_heading level0 col0\" >Кол-во невозвратов</th>        <th class=\"col_heading level0 col1\" >Кол-во заемщиков</th>        <th class=\"col_heading level0 col2\" >% невозврата</th>    </tr>    <tr>        <th class=\"index_name level0\" >family_status</th>        <th class=\"blank\" ></th>        <th class=\"blank\" ></th>        <th class=\"blank\" ></th>    </tr></thead><tbody>\n",
       "                <tr>\n",
       "                        <th id=\"T_40f4c748_3610_11eb_a05e_02420a39eb2elevel0_row0\" class=\"row_heading level0 row0\" >в разводе</th>\n",
       "                        <td id=\"T_40f4c748_3610_11eb_a05e_02420a39eb2erow0_col0\" class=\"data row0 col0\" >85</td>\n",
       "                        <td id=\"T_40f4c748_3610_11eb_a05e_02420a39eb2erow0_col1\" class=\"data row0 col1\" >1195</td>\n",
       "                        <td id=\"T_40f4c748_3610_11eb_a05e_02420a39eb2erow0_col2\" class=\"data row0 col2\" >7.11%</td>\n",
       "            </tr>\n",
       "            <tr>\n",
       "                        <th id=\"T_40f4c748_3610_11eb_a05e_02420a39eb2elevel0_row1\" class=\"row_heading level0 row1\" >вдовец / вдова</th>\n",
       "                        <td id=\"T_40f4c748_3610_11eb_a05e_02420a39eb2erow1_col0\" class=\"data row1 col0\" >63</td>\n",
       "                        <td id=\"T_40f4c748_3610_11eb_a05e_02420a39eb2erow1_col1\" class=\"data row1 col1\" >959</td>\n",
       "                        <td id=\"T_40f4c748_3610_11eb_a05e_02420a39eb2erow1_col2\" class=\"data row1 col2\" >6.57%</td>\n",
       "            </tr>\n",
       "            <tr>\n",
       "                        <th id=\"T_40f4c748_3610_11eb_a05e_02420a39eb2elevel0_row2\" class=\"row_heading level0 row2\" >гражданский брак</th>\n",
       "                        <td id=\"T_40f4c748_3610_11eb_a05e_02420a39eb2erow2_col0\" class=\"data row2 col0\" >388</td>\n",
       "                        <td id=\"T_40f4c748_3610_11eb_a05e_02420a39eb2erow2_col1\" class=\"data row2 col1\" >4151</td>\n",
       "                        <td id=\"T_40f4c748_3610_11eb_a05e_02420a39eb2erow2_col2\" class=\"data row2 col2\" >9.35%</td>\n",
       "            </tr>\n",
       "            <tr>\n",
       "                        <th id=\"T_40f4c748_3610_11eb_a05e_02420a39eb2elevel0_row3\" class=\"row_heading level0 row3\" >женат / замужем</th>\n",
       "                        <td id=\"T_40f4c748_3610_11eb_a05e_02420a39eb2erow3_col0\" class=\"data row3 col0\" >931</td>\n",
       "                        <td id=\"T_40f4c748_3610_11eb_a05e_02420a39eb2erow3_col1\" class=\"data row3 col1\" >12339</td>\n",
       "                        <td id=\"T_40f4c748_3610_11eb_a05e_02420a39eb2erow3_col2\" class=\"data row3 col2\" >7.55%</td>\n",
       "            </tr>\n",
       "            <tr>\n",
       "                        <th id=\"T_40f4c748_3610_11eb_a05e_02420a39eb2elevel0_row4\" class=\"row_heading level0 row4\" >не женат / не замужем</th>\n",
       "                        <td id=\"T_40f4c748_3610_11eb_a05e_02420a39eb2erow4_col0\" class=\"data row4 col0\" >274</td>\n",
       "                        <td id=\"T_40f4c748_3610_11eb_a05e_02420a39eb2erow4_col1\" class=\"data row4 col1\" >2810</td>\n",
       "                        <td id=\"T_40f4c748_3610_11eb_a05e_02420a39eb2erow4_col2\" class=\"data row4 col2\" >9.75%</td>\n",
       "            </tr>\n",
       "    </tbody></table>"
      ],
      "text/plain": [
       "<pandas.io.formats.style.Styler at 0x7fdffc851710>"
      ]
     },
     "execution_count": 41,
     "metadata": {},
     "output_type": "execute_result"
    }
   ],
   "source": [
    "data_family = data.groupby('family_status').agg({'debt':'sum', 'family_status':'count'})\n",
    "data_family['%_total_debt'] = (data_family['debt']/data_family['family_status'])\n",
    "data_family.columns = ['Кол-во невозвратов','Кол-во заемщиков','% невозврата']\n",
    "data_family.style.format({'% невозврата':'{:.2%}'})\n",
    "#print(data_family)"
   ]
  },
  {
   "cell_type": "markdown",
   "metadata": {},
   "source": [
    "### Сделаем общую сводную таблицу c процентами"
   ]
  },
  {
   "cell_type": "code",
   "execution_count": 42,
   "metadata": {},
   "outputs": [
    {
     "data": {
      "text/html": [
       "<div>\n",
       "<style scoped>\n",
       "    .dataframe tbody tr th:only-of-type {\n",
       "        vertical-align: middle;\n",
       "    }\n",
       "\n",
       "    .dataframe tbody tr th {\n",
       "        vertical-align: top;\n",
       "    }\n",
       "\n",
       "    .dataframe thead th {\n",
       "        text-align: right;\n",
       "    }\n",
       "</style>\n",
       "<table border=\"1\" class=\"dataframe\">\n",
       "  <thead>\n",
       "    <tr style=\"text-align: right;\">\n",
       "      <th></th>\n",
       "      <th></th>\n",
       "      <th>Кол. невозвр</th>\n",
       "      <th>Кол-во заемщиков</th>\n",
       "      <th>% невозврата</th>\n",
       "    </tr>\n",
       "    <tr>\n",
       "      <th>children</th>\n",
       "      <th>family_status</th>\n",
       "      <th></th>\n",
       "      <th></th>\n",
       "      <th></th>\n",
       "    </tr>\n",
       "  </thead>\n",
       "  <tbody>\n",
       "    <tr>\n",
       "      <td rowspan=\"5\" valign=\"top\">0</td>\n",
       "      <td>в разводе</td>\n",
       "      <td>55</td>\n",
       "      <td>784</td>\n",
       "      <td>7.015306</td>\n",
       "    </tr>\n",
       "    <tr>\n",
       "      <td>вдовец / вдова</td>\n",
       "      <td>53</td>\n",
       "      <td>847</td>\n",
       "      <td>6.257379</td>\n",
       "    </tr>\n",
       "    <tr>\n",
       "      <td>гражданский брак</td>\n",
       "      <td>229</td>\n",
       "      <td>2730</td>\n",
       "      <td>8.388278</td>\n",
       "    </tr>\n",
       "    <tr>\n",
       "      <td>женат / замужем</td>\n",
       "      <td>516</td>\n",
       "      <td>7468</td>\n",
       "      <td>6.909480</td>\n",
       "    </tr>\n",
       "    <tr>\n",
       "      <td>не женат / не замужем</td>\n",
       "      <td>210</td>\n",
       "      <td>2262</td>\n",
       "      <td>9.283820</td>\n",
       "    </tr>\n",
       "    <tr>\n",
       "      <td rowspan=\"5\" valign=\"top\">1</td>\n",
       "      <td>в разводе</td>\n",
       "      <td>21</td>\n",
       "      <td>316</td>\n",
       "      <td>6.645570</td>\n",
       "    </tr>\n",
       "    <tr>\n",
       "      <td>вдовец / вдова</td>\n",
       "      <td>7</td>\n",
       "      <td>81</td>\n",
       "      <td>8.641975</td>\n",
       "    </tr>\n",
       "    <tr>\n",
       "      <td>гражданский брак</td>\n",
       "      <td>118</td>\n",
       "      <td>1000</td>\n",
       "      <td>11.800000</td>\n",
       "    </tr>\n",
       "    <tr>\n",
       "      <td>женат / замужем</td>\n",
       "      <td>247</td>\n",
       "      <td>3004</td>\n",
       "      <td>8.222370</td>\n",
       "    </tr>\n",
       "    <tr>\n",
       "      <td>не женат / не замужем</td>\n",
       "      <td>52</td>\n",
       "      <td>454</td>\n",
       "      <td>11.453744</td>\n",
       "    </tr>\n",
       "    <tr>\n",
       "      <td rowspan=\"5\" valign=\"top\">2</td>\n",
       "      <td>в разводе</td>\n",
       "      <td>8</td>\n",
       "      <td>83</td>\n",
       "      <td>9.638554</td>\n",
       "    </tr>\n",
       "    <tr>\n",
       "      <td>вдовец / вдова</td>\n",
       "      <td>3</td>\n",
       "      <td>24</td>\n",
       "      <td>12.500000</td>\n",
       "    </tr>\n",
       "    <tr>\n",
       "      <td>гражданский брак</td>\n",
       "      <td>33</td>\n",
       "      <td>355</td>\n",
       "      <td>9.295775</td>\n",
       "    </tr>\n",
       "    <tr>\n",
       "      <td>женат / замужем</td>\n",
       "      <td>148</td>\n",
       "      <td>1582</td>\n",
       "      <td>9.355247</td>\n",
       "    </tr>\n",
       "    <tr>\n",
       "      <td>не женат / не замужем</td>\n",
       "      <td>10</td>\n",
       "      <td>84</td>\n",
       "      <td>11.904762</td>\n",
       "    </tr>\n",
       "    <tr>\n",
       "      <td rowspan=\"5\" valign=\"top\">3</td>\n",
       "      <td>в разводе</td>\n",
       "      <td>1</td>\n",
       "      <td>11</td>\n",
       "      <td>9.090909</td>\n",
       "    </tr>\n",
       "    <tr>\n",
       "      <td>вдовец / вдова</td>\n",
       "      <td>0</td>\n",
       "      <td>6</td>\n",
       "      <td>0.000000</td>\n",
       "    </tr>\n",
       "    <tr>\n",
       "      <td>гражданский брак</td>\n",
       "      <td>8</td>\n",
       "      <td>56</td>\n",
       "      <td>14.285714</td>\n",
       "    </tr>\n",
       "    <tr>\n",
       "      <td>женат / замужем</td>\n",
       "      <td>17</td>\n",
       "      <td>249</td>\n",
       "      <td>6.827309</td>\n",
       "    </tr>\n",
       "    <tr>\n",
       "      <td>не женат / не замужем</td>\n",
       "      <td>1</td>\n",
       "      <td>8</td>\n",
       "      <td>12.500000</td>\n",
       "    </tr>\n",
       "    <tr>\n",
       "      <td rowspan=\"5\" valign=\"top\">4</td>\n",
       "      <td>в разводе</td>\n",
       "      <td>0</td>\n",
       "      <td>1</td>\n",
       "      <td>0.000000</td>\n",
       "    </tr>\n",
       "    <tr>\n",
       "      <td>вдовец / вдова</td>\n",
       "      <td>0</td>\n",
       "      <td>1</td>\n",
       "      <td>0.000000</td>\n",
       "    </tr>\n",
       "    <tr>\n",
       "      <td>гражданский брак</td>\n",
       "      <td>0</td>\n",
       "      <td>8</td>\n",
       "      <td>0.000000</td>\n",
       "    </tr>\n",
       "    <tr>\n",
       "      <td>женат / замужем</td>\n",
       "      <td>3</td>\n",
       "      <td>29</td>\n",
       "      <td>10.344828</td>\n",
       "    </tr>\n",
       "    <tr>\n",
       "      <td>не женат / не замужем</td>\n",
       "      <td>1</td>\n",
       "      <td>2</td>\n",
       "      <td>50.000000</td>\n",
       "    </tr>\n",
       "    <tr>\n",
       "      <td rowspan=\"2\" valign=\"top\">5</td>\n",
       "      <td>гражданский брак</td>\n",
       "      <td>0</td>\n",
       "      <td>2</td>\n",
       "      <td>0.000000</td>\n",
       "    </tr>\n",
       "    <tr>\n",
       "      <td>женат / замужем</td>\n",
       "      <td>0</td>\n",
       "      <td>7</td>\n",
       "      <td>0.000000</td>\n",
       "    </tr>\n",
       "  </tbody>\n",
       "</table>\n",
       "</div>"
      ],
      "text/plain": [
       "                                Кол. невозвр  Кол-во заемщиков  % невозврата\n",
       "children family_status                                                      \n",
       "0        в разводе                        55               784      7.015306\n",
       "         вдовец / вдова                   53               847      6.257379\n",
       "         гражданский брак                229              2730      8.388278\n",
       "         женат / замужем                 516              7468      6.909480\n",
       "         не женат / не замужем           210              2262      9.283820\n",
       "1        в разводе                        21               316      6.645570\n",
       "         вдовец / вдова                    7                81      8.641975\n",
       "         гражданский брак                118              1000     11.800000\n",
       "         женат / замужем                 247              3004      8.222370\n",
       "         не женат / не замужем            52               454     11.453744\n",
       "2        в разводе                         8                83      9.638554\n",
       "         вдовец / вдова                    3                24     12.500000\n",
       "         гражданский брак                 33               355      9.295775\n",
       "         женат / замужем                 148              1582      9.355247\n",
       "         не женат / не замужем            10                84     11.904762\n",
       "3        в разводе                         1                11      9.090909\n",
       "         вдовец / вдова                    0                 6      0.000000\n",
       "         гражданский брак                  8                56     14.285714\n",
       "         женат / замужем                  17               249      6.827309\n",
       "         не женат / не замужем             1                 8     12.500000\n",
       "4        в разводе                         0                 1      0.000000\n",
       "         вдовец / вдова                    0                 1      0.000000\n",
       "         гражданский брак                  0                 8      0.000000\n",
       "         женат / замужем                   3                29     10.344828\n",
       "         не женат / не замужем             1                 2     50.000000\n",
       "5        гражданский брак                  0                 2      0.000000\n",
       "         женат / замужем                   0                 7      0.000000"
      ]
     },
     "metadata": {},
     "output_type": "display_data"
    }
   ],
   "source": [
    "data_child_family = data.groupby(['children', 'family_status']).agg({'debt':'sum', 'family_status':'count'})\n",
    "data_child_family['%_total_debt'] = (data_child_family['debt']/data_child_family['family_status'])*100\n",
    "data_child_family.columns = ['Кол. невозвр','Кол-во заемщиков','% невозврата']\n",
    "#data_child_family.format({'Процент невозврата':'{:.2%}'})\n",
    "display(data_child_family)"
   ]
  },
  {
   "cell_type": "markdown",
   "metadata": {},
   "source": [
    "### Есть ли зависимость между уровнем дохода и возвратом кредита в срок?\n",
    "**установим уровни дохода средний высокий низкий**"
   ]
  },
  {
   "cell_type": "code",
   "execution_count": 43,
   "metadata": {},
   "outputs": [
    {
     "name": "stdout",
     "output_type": "stream",
     "text": [
      "2265604\n"
     ]
    }
   ],
   "source": [
    "print(data['total_income'].max())"
   ]
  },
  {
   "cell_type": "code",
   "execution_count": 44,
   "metadata": {},
   "outputs": [
    {
     "name": "stdout",
     "output_type": "stream",
     "text": [
      "20667\n"
     ]
    }
   ],
   "source": [
    "print(data['total_income'].min())"
   ]
  },
  {
   "cell_type": "code",
   "execution_count": 45,
   "metadata": {},
   "outputs": [
    {
     "name": "stdout",
     "output_type": "stream",
     "text": [
      "142594.0\n"
     ]
    }
   ],
   "source": [
    "print(data['total_income'].median())"
   ]
  },
  {
   "cell_type": "markdown",
   "metadata": {},
   "source": [
    "#### Пробуем найти кретерии для определения уровня зарплат  \n",
    "* **от 0 до 33% уровня  низкая зарплата**\n",
    "* **между 33% и 66% средняя зарплата**\n",
    "* **66% и выше высокая зарплата**"
   ]
  },
  {
   "cell_type": "code",
   "execution_count": 46,
   "metadata": {},
   "outputs": [
    {
     "data": {
      "text/plain": [
       "0.33    118514.0\n",
       "0.66    172357.0\n",
       "Name: total_income, dtype: float64"
      ]
     },
     "execution_count": 46,
     "metadata": {},
     "output_type": "execute_result"
    }
   ],
   "source": [
    "data_int_profit = data['total_income'].sort_values(ascending = False)\n",
    "data_int_profit.quantile([0.33, 0.66])"
   ]
  },
  {
   "cell_type": "markdown",
   "metadata": {},
   "source": [
    "**Делаем функцию разграничиваем уровень зарплат**"
   ]
  },
  {
   "cell_type": "code",
   "execution_count": 47,
   "metadata": {},
   "outputs": [],
   "source": [
    "def level_earn(row):\n",
    "    if row < 122202:\n",
    "        return 'Низкий уровень зарплаты'\n",
    "    if 122202 <= row <= 169221:\n",
    "        return 'Средний уровень зарплаты'\n",
    "    if row > 169221:\n",
    "        return 'Высокий уровень зарплаты'\n",
    "      "
   ]
  },
  {
   "cell_type": "markdown",
   "metadata": {},
   "source": [
    "**Меняем цифры в столбце**"
   ]
  },
  {
   "cell_type": "code",
   "execution_count": 48,
   "metadata": {},
   "outputs": [],
   "source": [
    "data['total_income'] = data['total_income'].apply(level_earn)\n"
   ]
  },
  {
   "cell_type": "markdown",
   "metadata": {},
   "source": [
    "#### Сделаем общую сводную таблицу c процентами"
   ]
  },
  {
   "cell_type": "code",
   "execution_count": 49,
   "metadata": {},
   "outputs": [
    {
     "data": {
      "text/html": [
       "<style  type=\"text/css\" >\n",
       "</style><table id=\"T_411acae2_3610_11eb_a05e_02420a39eb2e\" ><thead>    <tr>        <th class=\"blank level0\" ></th>        <th class=\"col_heading level0 col0\" >Кол-во невозвратов</th>        <th class=\"col_heading level0 col1\" >Кол-во заемщиков</th>        <th class=\"col_heading level0 col2\" >% невозврата</th>    </tr>    <tr>        <th class=\"index_name level0\" >total_income</th>        <th class=\"blank\" ></th>        <th class=\"blank\" ></th>        <th class=\"blank\" ></th>    </tr></thead><tbody>\n",
       "                <tr>\n",
       "                        <th id=\"T_411acae2_3610_11eb_a05e_02420a39eb2elevel0_row0\" class=\"row_heading level0 row0\" >Высокий уровень зарплаты</th>\n",
       "                        <td id=\"T_411acae2_3610_11eb_a05e_02420a39eb2erow0_col0\" class=\"data row0 col0\" >586</td>\n",
       "                        <td id=\"T_411acae2_3610_11eb_a05e_02420a39eb2erow0_col1\" class=\"data row0 col1\" >7802</td>\n",
       "                        <td id=\"T_411acae2_3610_11eb_a05e_02420a39eb2erow0_col2\" class=\"data row0 col2\" >7.51%</td>\n",
       "            </tr>\n",
       "            <tr>\n",
       "                        <th id=\"T_411acae2_3610_11eb_a05e_02420a39eb2elevel0_row1\" class=\"row_heading level0 row1\" >Низкий уровень зарплаты</th>\n",
       "                        <td id=\"T_411acae2_3610_11eb_a05e_02420a39eb2erow1_col0\" class=\"data row1 col0\" >614</td>\n",
       "                        <td id=\"T_411acae2_3610_11eb_a05e_02420a39eb2erow1_col1\" class=\"data row1 col1\" >7470</td>\n",
       "                        <td id=\"T_411acae2_3610_11eb_a05e_02420a39eb2erow1_col2\" class=\"data row1 col2\" >8.22%</td>\n",
       "            </tr>\n",
       "            <tr>\n",
       "                        <th id=\"T_411acae2_3610_11eb_a05e_02420a39eb2elevel0_row2\" class=\"row_heading level0 row2\" >Средний уровень зарплаты</th>\n",
       "                        <td id=\"T_411acae2_3610_11eb_a05e_02420a39eb2erow2_col0\" class=\"data row2 col0\" >541</td>\n",
       "                        <td id=\"T_411acae2_3610_11eb_a05e_02420a39eb2erow2_col1\" class=\"data row2 col1\" >6182</td>\n",
       "                        <td id=\"T_411acae2_3610_11eb_a05e_02420a39eb2erow2_col2\" class=\"data row2 col2\" >8.75%</td>\n",
       "            </tr>\n",
       "    </tbody></table>"
      ],
      "text/plain": [
       "<pandas.io.formats.style.Styler at 0x7fdffc83e0d0>"
      ]
     },
     "execution_count": 49,
     "metadata": {},
     "output_type": "execute_result"
    }
   ],
   "source": [
    "data_profit = data.groupby('total_income').agg({'debt':'sum', 'total_income':'count'})\n",
    "data_profit['%_total_debt'] = (data_profit['debt']/data_profit['total_income'])\n",
    "data_profit.columns = ['Кол-во невозвратов','Кол-во заемщиков','% невозврата']\n",
    "data_profit.style.format({'% невозврата':'{:.2%}'})\n",
    "#display(data_profit)"
   ]
  },
  {
   "cell_type": "markdown",
   "metadata": {},
   "source": [
    "### Как разные цели кредита влияют на его возврат в срок?"
   ]
  },
  {
   "cell_type": "code",
   "execution_count": 50,
   "metadata": {},
   "outputs": [
    {
     "data": {
      "text/html": [
       "<style  type=\"text/css\" >\n",
       "</style><table id=\"T_41231a3a_3610_11eb_a05e_02420a39eb2e\" ><thead>    <tr>        <th class=\"blank level0\" ></th>        <th class=\"col_heading level0 col0\" >Кол-во невозвратов</th>        <th class=\"col_heading level0 col1\" >Кол-во заемщиков</th>        <th class=\"col_heading level0 col2\" >% невозврата</th>    </tr>    <tr>        <th class=\"index_name level0\" >purpose</th>        <th class=\"blank\" ></th>        <th class=\"blank\" ></th>        <th class=\"blank\" ></th>    </tr></thead><tbody>\n",
       "                <tr>\n",
       "                        <th id=\"T_41231a3a_3610_11eb_a05e_02420a39eb2elevel0_row0\" class=\"row_heading level0 row0\" >автомобиль</th>\n",
       "                        <td id=\"T_41231a3a_3610_11eb_a05e_02420a39eb2erow0_col0\" class=\"data row0 col0\" >403</td>\n",
       "                        <td id=\"T_41231a3a_3610_11eb_a05e_02420a39eb2erow0_col1\" class=\"data row0 col1\" >4306</td>\n",
       "                        <td id=\"T_41231a3a_3610_11eb_a05e_02420a39eb2erow0_col2\" class=\"data row0 col2\" >9.36%</td>\n",
       "            </tr>\n",
       "            <tr>\n",
       "                        <th id=\"T_41231a3a_3610_11eb_a05e_02420a39eb2elevel0_row1\" class=\"row_heading level0 row1\" >жилье</th>\n",
       "                        <td id=\"T_41231a3a_3610_11eb_a05e_02420a39eb2erow1_col0\" class=\"data row1 col0\" >308</td>\n",
       "                        <td id=\"T_41231a3a_3610_11eb_a05e_02420a39eb2erow1_col1\" class=\"data row1 col1\" >4460</td>\n",
       "                        <td id=\"T_41231a3a_3610_11eb_a05e_02420a39eb2erow1_col2\" class=\"data row1 col2\" >6.91%</td>\n",
       "            </tr>\n",
       "            <tr>\n",
       "                        <th id=\"T_41231a3a_3610_11eb_a05e_02420a39eb2elevel0_row2\" class=\"row_heading level0 row2\" >недвижимость</th>\n",
       "                        <td id=\"T_41231a3a_3610_11eb_a05e_02420a39eb2erow2_col0\" class=\"data row2 col0\" >474</td>\n",
       "                        <td id=\"T_41231a3a_3610_11eb_a05e_02420a39eb2erow2_col1\" class=\"data row2 col1\" >6351</td>\n",
       "                        <td id=\"T_41231a3a_3610_11eb_a05e_02420a39eb2erow2_col2\" class=\"data row2 col2\" >7.46%</td>\n",
       "            </tr>\n",
       "            <tr>\n",
       "                        <th id=\"T_41231a3a_3610_11eb_a05e_02420a39eb2elevel0_row3\" class=\"row_heading level0 row3\" >образование</th>\n",
       "                        <td id=\"T_41231a3a_3610_11eb_a05e_02420a39eb2erow3_col0\" class=\"data row3 col0\" >370</td>\n",
       "                        <td id=\"T_41231a3a_3610_11eb_a05e_02420a39eb2erow3_col1\" class=\"data row3 col1\" >4013</td>\n",
       "                        <td id=\"T_41231a3a_3610_11eb_a05e_02420a39eb2erow3_col2\" class=\"data row3 col2\" >9.22%</td>\n",
       "            </tr>\n",
       "            <tr>\n",
       "                        <th id=\"T_41231a3a_3610_11eb_a05e_02420a39eb2elevel0_row4\" class=\"row_heading level0 row4\" >свадьба</th>\n",
       "                        <td id=\"T_41231a3a_3610_11eb_a05e_02420a39eb2erow4_col0\" class=\"data row4 col0\" >186</td>\n",
       "                        <td id=\"T_41231a3a_3610_11eb_a05e_02420a39eb2erow4_col1\" class=\"data row4 col1\" >2324</td>\n",
       "                        <td id=\"T_41231a3a_3610_11eb_a05e_02420a39eb2erow4_col2\" class=\"data row4 col2\" >8.00%</td>\n",
       "            </tr>\n",
       "    </tbody></table>"
      ],
      "text/plain": [
       "<pandas.io.formats.style.Styler at 0x7fdffc83ee10>"
      ]
     },
     "execution_count": 50,
     "metadata": {},
     "output_type": "execute_result"
    }
   ],
   "source": [
    "data_goal = data.pivot_table(index = ['purpose'], values = 'debt', aggfunc = [sum, 'count'])\n",
    "#data_child = data.groupby(['children',]).agg({'debt':'sum','children':'count'})\n",
    "data_goal['%_total_debt'] = (data_goal['sum','debt']/data_goal['count','debt'])\n",
    "data_goal.columns = ['Кол-во невозвратов','Кол-во заемщиков','% невозврата']\n",
    "data_goal.style.format({'% невозврата':'{:.2%}'})\n",
    "#print(data_child)"
   ]
  },
  {
   "cell_type": "markdown",
   "metadata": {},
   "source": [
    "### Вывод"
   ]
  },
  {
   "cell_type": "markdown",
   "metadata": {},
   "source": [
    "**Сводные таблицы сделаны данные представлены в удобном для чтения виде**"
   ]
  },
  {
   "cell_type": "markdown",
   "metadata": {},
   "source": [
    "### Шаг 3. Ответьте на вопросы"
   ]
  },
  {
   "cell_type": "markdown",
   "metadata": {},
   "source": [
    "- Есть ли зависимость между наличием детей и возвратом кредита в срок?"
   ]
  },
  {
   "cell_type": "code",
   "execution_count": 51,
   "metadata": {},
   "outputs": [
    {
     "data": {
      "text/html": [
       "<style  type=\"text/css\" >\n",
       "</style><table id=\"T_412b11cc_3610_11eb_a05e_02420a39eb2e\" ><thead>    <tr>        <th class=\"blank level0\" ></th>        <th class=\"col_heading level0 col0\" >Кол-во невозвратов</th>        <th class=\"col_heading level0 col1\" >Кол-во заемщиков</th>        <th class=\"col_heading level0 col2\" >% невозврата</th>    </tr>    <tr>        <th class=\"index_name level0\" >children</th>        <th class=\"blank\" ></th>        <th class=\"blank\" ></th>        <th class=\"blank\" ></th>    </tr></thead><tbody>\n",
       "                <tr>\n",
       "                        <th id=\"T_412b11cc_3610_11eb_a05e_02420a39eb2elevel0_row0\" class=\"row_heading level0 row0\" >0</th>\n",
       "                        <td id=\"T_412b11cc_3610_11eb_a05e_02420a39eb2erow0_col0\" class=\"data row0 col0\" >1063</td>\n",
       "                        <td id=\"T_412b11cc_3610_11eb_a05e_02420a39eb2erow0_col1\" class=\"data row0 col1\" >14091</td>\n",
       "                        <td id=\"T_412b11cc_3610_11eb_a05e_02420a39eb2erow0_col2\" class=\"data row0 col2\" >7.54%</td>\n",
       "            </tr>\n",
       "            <tr>\n",
       "                        <th id=\"T_412b11cc_3610_11eb_a05e_02420a39eb2elevel0_row1\" class=\"row_heading level0 row1\" >1</th>\n",
       "                        <td id=\"T_412b11cc_3610_11eb_a05e_02420a39eb2erow1_col0\" class=\"data row1 col0\" >445</td>\n",
       "                        <td id=\"T_412b11cc_3610_11eb_a05e_02420a39eb2erow1_col1\" class=\"data row1 col1\" >4855</td>\n",
       "                        <td id=\"T_412b11cc_3610_11eb_a05e_02420a39eb2erow1_col2\" class=\"data row1 col2\" >9.17%</td>\n",
       "            </tr>\n",
       "            <tr>\n",
       "                        <th id=\"T_412b11cc_3610_11eb_a05e_02420a39eb2elevel0_row2\" class=\"row_heading level0 row2\" >2</th>\n",
       "                        <td id=\"T_412b11cc_3610_11eb_a05e_02420a39eb2erow2_col0\" class=\"data row2 col0\" >202</td>\n",
       "                        <td id=\"T_412b11cc_3610_11eb_a05e_02420a39eb2erow2_col1\" class=\"data row2 col1\" >2128</td>\n",
       "                        <td id=\"T_412b11cc_3610_11eb_a05e_02420a39eb2erow2_col2\" class=\"data row2 col2\" >9.49%</td>\n",
       "            </tr>\n",
       "            <tr>\n",
       "                        <th id=\"T_412b11cc_3610_11eb_a05e_02420a39eb2elevel0_row3\" class=\"row_heading level0 row3\" >3</th>\n",
       "                        <td id=\"T_412b11cc_3610_11eb_a05e_02420a39eb2erow3_col0\" class=\"data row3 col0\" >27</td>\n",
       "                        <td id=\"T_412b11cc_3610_11eb_a05e_02420a39eb2erow3_col1\" class=\"data row3 col1\" >330</td>\n",
       "                        <td id=\"T_412b11cc_3610_11eb_a05e_02420a39eb2erow3_col2\" class=\"data row3 col2\" >8.18%</td>\n",
       "            </tr>\n",
       "            <tr>\n",
       "                        <th id=\"T_412b11cc_3610_11eb_a05e_02420a39eb2elevel0_row4\" class=\"row_heading level0 row4\" >4</th>\n",
       "                        <td id=\"T_412b11cc_3610_11eb_a05e_02420a39eb2erow4_col0\" class=\"data row4 col0\" >4</td>\n",
       "                        <td id=\"T_412b11cc_3610_11eb_a05e_02420a39eb2erow4_col1\" class=\"data row4 col1\" >41</td>\n",
       "                        <td id=\"T_412b11cc_3610_11eb_a05e_02420a39eb2erow4_col2\" class=\"data row4 col2\" >9.76%</td>\n",
       "            </tr>\n",
       "            <tr>\n",
       "                        <th id=\"T_412b11cc_3610_11eb_a05e_02420a39eb2elevel0_row5\" class=\"row_heading level0 row5\" >5</th>\n",
       "                        <td id=\"T_412b11cc_3610_11eb_a05e_02420a39eb2erow5_col0\" class=\"data row5 col0\" >0</td>\n",
       "                        <td id=\"T_412b11cc_3610_11eb_a05e_02420a39eb2erow5_col1\" class=\"data row5 col1\" >9</td>\n",
       "                        <td id=\"T_412b11cc_3610_11eb_a05e_02420a39eb2erow5_col2\" class=\"data row5 col2\" >0.00%</td>\n",
       "            </tr>\n",
       "    </tbody></table>"
      ],
      "text/plain": [
       "<pandas.io.formats.style.Styler at 0x7fdffc83cb90>"
      ]
     },
     "execution_count": 51,
     "metadata": {},
     "output_type": "execute_result"
    }
   ],
   "source": [
    "data_child = data.pivot_table(index = ['children'], values = 'debt', aggfunc = [sum, 'count'])\n",
    "data_child['%_total_debt'] = (data_child ['sum','debt']/data_child ['count','debt'])\n",
    "data_child.columns = ['Кол-во невозвратов','Кол-во заемщиков','% невозврата']\n",
    "data_child.style.format({'% невозврата':'{:.2%}'})\n"
   ]
  },
  {
   "cell_type": "markdown",
   "metadata": {},
   "source": [
    "### Вывод"
   ]
  },
  {
   "cell_type": "markdown",
   "metadata": {},
   "source": [
    "Существует небольшая зависимость между наличием детей и возвратом кредита в срок, люди с детьми допускают просрочки чаще чем люди без детей, но это разница исчезающе мала не исключено что это статистическая погрешность."
   ]
  },
  {
   "cell_type": "markdown",
   "metadata": {},
   "source": [
    "- Есть ли зависимость между семейным положением и возвратом кредита в срок?"
   ]
  },
  {
   "cell_type": "code",
   "execution_count": 52,
   "metadata": {},
   "outputs": [
    {
     "data": {
      "text/html": [
       "<style  type=\"text/css\" >\n",
       "</style><table id=\"T_4130a22c_3610_11eb_a05e_02420a39eb2e\" ><thead>    <tr>        <th class=\"blank level0\" ></th>        <th class=\"col_heading level0 col0\" >Кол-во невозвратов</th>        <th class=\"col_heading level0 col1\" >Кол-во заемщиков</th>        <th class=\"col_heading level0 col2\" >% невозврата</th>    </tr>    <tr>        <th class=\"index_name level0\" >family_status</th>        <th class=\"blank\" ></th>        <th class=\"blank\" ></th>        <th class=\"blank\" ></th>    </tr></thead><tbody>\n",
       "                <tr>\n",
       "                        <th id=\"T_4130a22c_3610_11eb_a05e_02420a39eb2elevel0_row0\" class=\"row_heading level0 row0\" >в разводе</th>\n",
       "                        <td id=\"T_4130a22c_3610_11eb_a05e_02420a39eb2erow0_col0\" class=\"data row0 col0\" >85</td>\n",
       "                        <td id=\"T_4130a22c_3610_11eb_a05e_02420a39eb2erow0_col1\" class=\"data row0 col1\" >1195</td>\n",
       "                        <td id=\"T_4130a22c_3610_11eb_a05e_02420a39eb2erow0_col2\" class=\"data row0 col2\" >7.11%</td>\n",
       "            </tr>\n",
       "            <tr>\n",
       "                        <th id=\"T_4130a22c_3610_11eb_a05e_02420a39eb2elevel0_row1\" class=\"row_heading level0 row1\" >вдовец / вдова</th>\n",
       "                        <td id=\"T_4130a22c_3610_11eb_a05e_02420a39eb2erow1_col0\" class=\"data row1 col0\" >63</td>\n",
       "                        <td id=\"T_4130a22c_3610_11eb_a05e_02420a39eb2erow1_col1\" class=\"data row1 col1\" >959</td>\n",
       "                        <td id=\"T_4130a22c_3610_11eb_a05e_02420a39eb2erow1_col2\" class=\"data row1 col2\" >6.57%</td>\n",
       "            </tr>\n",
       "            <tr>\n",
       "                        <th id=\"T_4130a22c_3610_11eb_a05e_02420a39eb2elevel0_row2\" class=\"row_heading level0 row2\" >гражданский брак</th>\n",
       "                        <td id=\"T_4130a22c_3610_11eb_a05e_02420a39eb2erow2_col0\" class=\"data row2 col0\" >388</td>\n",
       "                        <td id=\"T_4130a22c_3610_11eb_a05e_02420a39eb2erow2_col1\" class=\"data row2 col1\" >4151</td>\n",
       "                        <td id=\"T_4130a22c_3610_11eb_a05e_02420a39eb2erow2_col2\" class=\"data row2 col2\" >9.35%</td>\n",
       "            </tr>\n",
       "            <tr>\n",
       "                        <th id=\"T_4130a22c_3610_11eb_a05e_02420a39eb2elevel0_row3\" class=\"row_heading level0 row3\" >женат / замужем</th>\n",
       "                        <td id=\"T_4130a22c_3610_11eb_a05e_02420a39eb2erow3_col0\" class=\"data row3 col0\" >931</td>\n",
       "                        <td id=\"T_4130a22c_3610_11eb_a05e_02420a39eb2erow3_col1\" class=\"data row3 col1\" >12339</td>\n",
       "                        <td id=\"T_4130a22c_3610_11eb_a05e_02420a39eb2erow3_col2\" class=\"data row3 col2\" >7.55%</td>\n",
       "            </tr>\n",
       "            <tr>\n",
       "                        <th id=\"T_4130a22c_3610_11eb_a05e_02420a39eb2elevel0_row4\" class=\"row_heading level0 row4\" >не женат / не замужем</th>\n",
       "                        <td id=\"T_4130a22c_3610_11eb_a05e_02420a39eb2erow4_col0\" class=\"data row4 col0\" >274</td>\n",
       "                        <td id=\"T_4130a22c_3610_11eb_a05e_02420a39eb2erow4_col1\" class=\"data row4 col1\" >2810</td>\n",
       "                        <td id=\"T_4130a22c_3610_11eb_a05e_02420a39eb2erow4_col2\" class=\"data row4 col2\" >9.75%</td>\n",
       "            </tr>\n",
       "    </tbody></table>"
      ],
      "text/plain": [
       "<pandas.io.formats.style.Styler at 0x7fdffc83c7d0>"
      ]
     },
     "execution_count": 52,
     "metadata": {},
     "output_type": "execute_result"
    }
   ],
   "source": [
    "data_family = data.groupby('family_status').agg({'debt':'sum', 'family_status':'count'})\n",
    "data_family['%_total_debt'] = (data_family['debt']/data_family['family_status'])\n",
    "data_family.columns = ['Кол-во невозвратов','Кол-во заемщиков','% невозврата']\n",
    "data_family.style.format({'% невозврата':'{:.2%}'})"
   ]
  },
  {
   "cell_type": "markdown",
   "metadata": {},
   "source": [
    "### Вывод"
   ]
  },
  {
   "cell_type": "markdown",
   "metadata": {},
   "source": [
    "Семейное положение влияет на наличие задолжности по кредитам, не семейные люди чаще допускают просрочки."
   ]
  },
  {
   "cell_type": "markdown",
   "metadata": {},
   "source": [
    "- Есть ли зависимость между уровнем дохода и возвратом кредита в срок?"
   ]
  },
  {
   "cell_type": "code",
   "execution_count": 53,
   "metadata": {},
   "outputs": [
    {
     "data": {
      "text/html": [
       "<style  type=\"text/css\" >\n",
       "</style><table id=\"T_413929ba_3610_11eb_a05e_02420a39eb2e\" ><thead>    <tr>        <th class=\"blank level0\" ></th>        <th class=\"col_heading level0 col0\" >Кол-во невозвратов</th>        <th class=\"col_heading level0 col1\" >Кол-во заемщиков</th>        <th class=\"col_heading level0 col2\" >% невозврата</th>    </tr>    <tr>        <th class=\"index_name level0\" >total_income</th>        <th class=\"blank\" ></th>        <th class=\"blank\" ></th>        <th class=\"blank\" ></th>    </tr></thead><tbody>\n",
       "                <tr>\n",
       "                        <th id=\"T_413929ba_3610_11eb_a05e_02420a39eb2elevel0_row0\" class=\"row_heading level0 row0\" >Высокий уровень зарплаты</th>\n",
       "                        <td id=\"T_413929ba_3610_11eb_a05e_02420a39eb2erow0_col0\" class=\"data row0 col0\" >586</td>\n",
       "                        <td id=\"T_413929ba_3610_11eb_a05e_02420a39eb2erow0_col1\" class=\"data row0 col1\" >7802</td>\n",
       "                        <td id=\"T_413929ba_3610_11eb_a05e_02420a39eb2erow0_col2\" class=\"data row0 col2\" >7.51%</td>\n",
       "            </tr>\n",
       "            <tr>\n",
       "                        <th id=\"T_413929ba_3610_11eb_a05e_02420a39eb2elevel0_row1\" class=\"row_heading level0 row1\" >Низкий уровень зарплаты</th>\n",
       "                        <td id=\"T_413929ba_3610_11eb_a05e_02420a39eb2erow1_col0\" class=\"data row1 col0\" >614</td>\n",
       "                        <td id=\"T_413929ba_3610_11eb_a05e_02420a39eb2erow1_col1\" class=\"data row1 col1\" >7470</td>\n",
       "                        <td id=\"T_413929ba_3610_11eb_a05e_02420a39eb2erow1_col2\" class=\"data row1 col2\" >8.22%</td>\n",
       "            </tr>\n",
       "            <tr>\n",
       "                        <th id=\"T_413929ba_3610_11eb_a05e_02420a39eb2elevel0_row2\" class=\"row_heading level0 row2\" >Средний уровень зарплаты</th>\n",
       "                        <td id=\"T_413929ba_3610_11eb_a05e_02420a39eb2erow2_col0\" class=\"data row2 col0\" >541</td>\n",
       "                        <td id=\"T_413929ba_3610_11eb_a05e_02420a39eb2erow2_col1\" class=\"data row2 col1\" >6182</td>\n",
       "                        <td id=\"T_413929ba_3610_11eb_a05e_02420a39eb2erow2_col2\" class=\"data row2 col2\" >8.75%</td>\n",
       "            </tr>\n",
       "    </tbody></table>"
      ],
      "text/plain": [
       "<pandas.io.formats.style.Styler at 0x7fdffc853dd0>"
      ]
     },
     "execution_count": 53,
     "metadata": {},
     "output_type": "execute_result"
    }
   ],
   "source": [
    "data_profit = data.groupby('total_income').agg({'debt':'sum', 'total_income':'count'})\n",
    "data_profit['%_total_debt'] = (data_profit['debt']/data_profit['total_income'])\n",
    "data_profit.columns = ['Кол-во невозвратов','Кол-во заемщиков','% невозврата']\n",
    "data_profit.style.format({'% невозврата':'{:.2%}'})"
   ]
  },
  {
   "cell_type": "markdown",
   "metadata": {},
   "source": [
    "### Вывод"
   ]
  },
  {
   "cell_type": "markdown",
   "metadata": {},
   "source": [
    "Зависимости между уровнем дохода и возвратом кредита в срок практически нет, но тем не менее возможно что люди с высоким уровнем заработной платы допускаю больше просрочем связанно с тем что их финансовое положение позволяет им меньше беспокоится о штрафах и пенях за просрочку, но вполне возможно разница в цифрах является скорее всего статистической погрешностью"
   ]
  },
  {
   "cell_type": "markdown",
   "metadata": {},
   "source": [
    "- Как разные цели кредита влияют на его возврат в срок?"
   ]
  },
  {
   "cell_type": "code",
   "execution_count": 54,
   "metadata": {},
   "outputs": [
    {
     "data": {
      "text/html": [
       "<style  type=\"text/css\" >\n",
       "</style><table id=\"T_41444caa_3610_11eb_a05e_02420a39eb2e\" ><thead>    <tr>        <th class=\"blank level0\" ></th>        <th class=\"col_heading level0 col0\" >Кол-во невозвратов</th>        <th class=\"col_heading level0 col1\" >Кол-во заемщиков</th>        <th class=\"col_heading level0 col2\" >% невозврата</th>    </tr>    <tr>        <th class=\"index_name level0\" >purpose</th>        <th class=\"blank\" ></th>        <th class=\"blank\" ></th>        <th class=\"blank\" ></th>    </tr></thead><tbody>\n",
       "                <tr>\n",
       "                        <th id=\"T_41444caa_3610_11eb_a05e_02420a39eb2elevel0_row0\" class=\"row_heading level0 row0\" >автомобиль</th>\n",
       "                        <td id=\"T_41444caa_3610_11eb_a05e_02420a39eb2erow0_col0\" class=\"data row0 col0\" >403</td>\n",
       "                        <td id=\"T_41444caa_3610_11eb_a05e_02420a39eb2erow0_col1\" class=\"data row0 col1\" >4306</td>\n",
       "                        <td id=\"T_41444caa_3610_11eb_a05e_02420a39eb2erow0_col2\" class=\"data row0 col2\" >9.36%</td>\n",
       "            </tr>\n",
       "            <tr>\n",
       "                        <th id=\"T_41444caa_3610_11eb_a05e_02420a39eb2elevel0_row1\" class=\"row_heading level0 row1\" >жилье</th>\n",
       "                        <td id=\"T_41444caa_3610_11eb_a05e_02420a39eb2erow1_col0\" class=\"data row1 col0\" >308</td>\n",
       "                        <td id=\"T_41444caa_3610_11eb_a05e_02420a39eb2erow1_col1\" class=\"data row1 col1\" >4460</td>\n",
       "                        <td id=\"T_41444caa_3610_11eb_a05e_02420a39eb2erow1_col2\" class=\"data row1 col2\" >6.91%</td>\n",
       "            </tr>\n",
       "            <tr>\n",
       "                        <th id=\"T_41444caa_3610_11eb_a05e_02420a39eb2elevel0_row2\" class=\"row_heading level0 row2\" >недвижимость</th>\n",
       "                        <td id=\"T_41444caa_3610_11eb_a05e_02420a39eb2erow2_col0\" class=\"data row2 col0\" >474</td>\n",
       "                        <td id=\"T_41444caa_3610_11eb_a05e_02420a39eb2erow2_col1\" class=\"data row2 col1\" >6351</td>\n",
       "                        <td id=\"T_41444caa_3610_11eb_a05e_02420a39eb2erow2_col2\" class=\"data row2 col2\" >7.46%</td>\n",
       "            </tr>\n",
       "            <tr>\n",
       "                        <th id=\"T_41444caa_3610_11eb_a05e_02420a39eb2elevel0_row3\" class=\"row_heading level0 row3\" >образование</th>\n",
       "                        <td id=\"T_41444caa_3610_11eb_a05e_02420a39eb2erow3_col0\" class=\"data row3 col0\" >370</td>\n",
       "                        <td id=\"T_41444caa_3610_11eb_a05e_02420a39eb2erow3_col1\" class=\"data row3 col1\" >4013</td>\n",
       "                        <td id=\"T_41444caa_3610_11eb_a05e_02420a39eb2erow3_col2\" class=\"data row3 col2\" >9.22%</td>\n",
       "            </tr>\n",
       "            <tr>\n",
       "                        <th id=\"T_41444caa_3610_11eb_a05e_02420a39eb2elevel0_row4\" class=\"row_heading level0 row4\" >свадьба</th>\n",
       "                        <td id=\"T_41444caa_3610_11eb_a05e_02420a39eb2erow4_col0\" class=\"data row4 col0\" >186</td>\n",
       "                        <td id=\"T_41444caa_3610_11eb_a05e_02420a39eb2erow4_col1\" class=\"data row4 col1\" >2324</td>\n",
       "                        <td id=\"T_41444caa_3610_11eb_a05e_02420a39eb2erow4_col2\" class=\"data row4 col2\" >8.00%</td>\n",
       "            </tr>\n",
       "    </tbody></table>"
      ],
      "text/plain": [
       "<pandas.io.formats.style.Styler at 0x7fdfd3f91b90>"
      ]
     },
     "execution_count": 54,
     "metadata": {},
     "output_type": "execute_result"
    }
   ],
   "source": [
    "data_goal = data.pivot_table(index = ['purpose'], values = 'debt', aggfunc = [sum, 'count'])\n",
    "#data_child = data.groupby(['children',]).agg({'debt':'sum','children':'count'})\n",
    "data_goal['%_total_debt'] = (data_goal['sum','debt']/data_goal['count','debt'])\n",
    "data_goal.columns = ['Кол-во невозвратов','Кол-во заемщиков','% невозврата']\n",
    "data_goal.style.format({'% невозврата':'{:.2%}'})\n",
    "#print(data_child)"
   ]
  },
  {
   "cell_type": "markdown",
   "metadata": {},
   "source": [
    "### Вывод"
   ]
  },
  {
   "cell_type": "markdown",
   "metadata": {},
   "source": [
    "Цели кредита влияют на его возврат в срок, кредиты на покупку жилья недвижимости а также свадьбы менее рискованные чем кредиты на покупку машины. Потому что решения на получения таких кредитов принимаються наиболее осознано."
   ]
  },
  {
   "cell_type": "markdown",
   "metadata": {},
   "source": [
    "### Шаг 4. Общий вывод"
   ]
  },
  {
   "cell_type": "markdown",
   "metadata": {},
   "source": [
    "1. Обнаружены пропуски в столбцах days_employed и total_income, их количества равны. Возможно люди никогда не работали и на получали доход.Люди имеюшие пропуски в столбцах days_employed- общий трудовой стаж в днях и total_income-ежемесячный доход старше 18 лет,поэтому врядли они нигде не работали и не получали зарплату скорее всего мы имеем дело с ошибкой ввода данных. Поэтому заполним пропуски медианным значением.  Также обнаружены отрицательные значения в столбце  days_employed- общий трудовой стаж и в количестве детей, скорее всего ошибка внесения, были преобразованы в положительные тк они могут повлиять на медиану.  \n",
    "\n",
    "**Рекомендую: обратить внимание операторов и разработчиков онлайн форм, необходим контроль за внесением данного типа данных.** \n",
    "\n",
    "2. Были обнаруженны  существенные всплески в значениях стажа. Существование стажа в 1 тысчу лет маловероятно, наличие таких цифр связано скорее всего с технической ошибкой , возможно обьеденили 2 базы в одной из которых стаж считался в часах или минутах поэтому всплески на заменил на медианные значения Средняя продолжительность жизни мужчин в 2019 году в России составила 68,5 лет. Для женщин показатель еще выше — 78,5 лет. Поэтому возьмем максимальное значение для замены на медиану 70 лет стажа это 25550 дней\n",
    "\n",
    "**Рекомендую: обратить внимание на формат данных при обьединении баз данных.** \n",
    "\n",
    "3. В столбцах days_employed и total_income содержатся десятичные дроби до ста тысячных долей, а должны быть целочисленные тк зарплата в рублях и стаж в днях \n",
    "\n",
    "**Рекомендую: Возможно это возникает при преобразовании одного формата в другой. Возможно в каких то базах данных Стаж указывается в часах и зарплата в копейках, при преобразовании хорошо бы их приводить к целочисленному значению** \n",
    "\n",
    "4. В базе найдены дбликаты данных, но вопрос в том стоит ли их удалять мб это совпадения реальных клиентов, а может быть и нет. Но я думаю что при таком количестве различных данных для каждого клиента реальные совпадения врядли возможны, поэтому удалил дубликаты. Причина возникновения , возможно ошибка оператора который их вносил. Либо если обьеденялись несколько баз в одну были внесены одни и теже клиенты. Также обнаружены внесения данных в разных регистрах, все приведено к нижнему регистру для удобства сортировки , причина ошибка операторов при внесении.\n",
    "\n",
    "**Рекомендую: обратить внимание операторов и разработчиков онлайн форм, необходим контроль за внесением данного типа данных.** \n",
    "\n",
    "5. Цели кредита лучше упростить до одного слова \"свадьба, машина , недвижимость\" это упростить и ускорит обработку\n",
    "\n",
    "**Рекомендую: в анкетах заполняемых вручную и онлайн формах проставить готовые варианты ответов .** \n",
    "\n",
    "### При выдаче кредита необходимо:\n",
    "1. Обращать внимание на семейное положения заемщика люди не побывавшие в браке более склонны допускать просрочки платежей.\n",
    "2. Обращать внимание на доход заемщика люди с высоким уровнем дохода более склонны допускать просрочки платежей.\n",
    "3. Обращать внимание на наличие детей у заемщика люди с длетьми более склонны допускать просрочки платежей.\n",
    "4. Иметь ввиду что кредиты на покупку автомобиля и образование более рискованные чем на покупку недвижимости и свадьбы."
   ]
  },
  {
   "cell_type": "markdown",
   "metadata": {},
   "source": [
    "### Чек-лист готовности проекта\n",
    "\n",
    "Поставьте 'x' в выполненных пунктах. Далее нажмите Shift+Enter."
   ]
  },
  {
   "cell_type": "markdown",
   "metadata": {},
   "source": [
    "- [x]  открыт файл;\n",
    "- [x]  файл изучен;\n",
    "- [x]  определены пропущенные значения;\n",
    "- [x]  заполнены пропущенные значения;\n",
    "- [x]  есть пояснение, какие пропущенные значения обнаружены;\n",
    "- [x]  описаны возможные причины появления пропусков в данных;\n",
    "- [x]  объяснено, по какому принципу заполнены пропуски;\n",
    "- [x]  заменен вещественный тип данных на целочисленный;\n",
    "- [x]  есть пояснение, какой метод используется для изменения типа данных и почему;\n",
    "- [x]  удалены дубликаты;\n",
    "- [x]  есть пояснение, какой метод используется для поиска и удаления дубликатов;\n",
    "- [x]  описаны возможные причины появления дубликатов в данных;\n",
    "- [x]  выделены леммы в значениях столбца с целями получения кредита;\n",
    "- [x]  описан процесс лемматизации;\n",
    "- [x]  данные категоризированы;\n",
    "- [x]  есть объяснение принципа категоризации данных;\n",
    "- [x]  есть ответ на вопрос: \"Есть ли зависимость между наличием детей и возвратом кредита в срок?\";\n",
    "- [x]  есть ответ на вопрос: \"Есть ли зависимость между семейным положением и возвратом кредита в срок?\";\n",
    "- [x]  есть ответ на вопрос: \"Есть ли зависимость между уровнем дохода и возвратом кредита в срок?\";\n",
    "- [x]  есть ответ на вопрос: \"Как разные цели кредита влияют на его возврат в срок?\";\n",
    "- [x]  в каждом этапе есть выводы;\n",
    "- [x]  есть общий вывод."
   ]
  }
 ],
 "metadata": {
  "kernelspec": {
   "display_name": "Python 3",
   "language": "python",
   "name": "python3"
  },
  "language_info": {
   "codemirror_mode": {
    "name": "ipython",
    "version": 3
   },
   "file_extension": ".py",
   "mimetype": "text/x-python",
   "name": "python",
   "nbconvert_exporter": "python",
   "pygments_lexer": "ipython3",
   "version": "3.7.1"
  }
 },
 "nbformat": 4,
 "nbformat_minor": 2
}
